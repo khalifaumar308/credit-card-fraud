{
  "cells": [
    {
      "cell_type": "code",
      "execution_count": 5,
      "metadata": {
        "id": "5WQEq_EsXFCh"
      },
      "outputs": [],
      "source": [
        "import pandas as pd\n",
        "import sklearn\n",
        "from sklearn.model_selection import train_test_split\n",
        "from sklearn.metrics import classification_report\n",
        "from sklearn.preprocessing import LabelEncoder\n",
        "from catboost import CatBoostClassifier\n",
        "from imblearn.over_sampling import SMOTE"
      ]
    },
    {
      "cell_type": "code",
      "execution_count": 6,
      "metadata": {
        "colab": {
          "base_uri": "https://localhost:8080/",
          "height": 206
        },
        "id": "7ODBmofvwlDE",
        "outputId": "4c4e2617-5b45-4fd0-ec68-ac5f2d69ef72"
      },
      "outputs": [
        {
          "data": {
            "text/html": [
              "\n",
              "  <div id=\"df-26028d25-0712-4aed-86db-3a77555ee9b5\">\n",
              "    <div class=\"colab-df-container\">\n",
              "      <div>\n",
              "<style scoped>\n",
              "    .dataframe tbody tr th:only-of-type {\n",
              "        vertical-align: middle;\n",
              "    }\n",
              "\n",
              "    .dataframe tbody tr th {\n",
              "        vertical-align: top;\n",
              "    }\n",
              "\n",
              "    .dataframe thead th {\n",
              "        text-align: right;\n",
              "    }\n",
              "</style>\n",
              "<table border=\"1\" class=\"dataframe\">\n",
              "  <thead>\n",
              "    <tr style=\"text-align: right;\">\n",
              "      <th></th>\n",
              "      <th>User</th>\n",
              "      <th>Card</th>\n",
              "      <th>Year</th>\n",
              "      <th>Month</th>\n",
              "      <th>Day</th>\n",
              "      <th>Time</th>\n",
              "      <th>Amount</th>\n",
              "      <th>Use Chip</th>\n",
              "      <th>Merchant Name</th>\n",
              "      <th>Merchant City</th>\n",
              "      <th>Merchant State</th>\n",
              "      <th>Zip</th>\n",
              "      <th>MCC</th>\n",
              "      <th>Errors?</th>\n",
              "      <th>Is Fraud?</th>\n",
              "    </tr>\n",
              "  </thead>\n",
              "  <tbody>\n",
              "    <tr>\n",
              "      <th>0</th>\n",
              "      <td>0</td>\n",
              "      <td>0</td>\n",
              "      <td>2002</td>\n",
              "      <td>9</td>\n",
              "      <td>1</td>\n",
              "      <td>06:21</td>\n",
              "      <td>$134.09</td>\n",
              "      <td>Swipe Transaction</td>\n",
              "      <td>3527213246127876953</td>\n",
              "      <td>La Verne</td>\n",
              "      <td>CA</td>\n",
              "      <td>91750.0</td>\n",
              "      <td>5300</td>\n",
              "      <td>NaN</td>\n",
              "      <td>No</td>\n",
              "    </tr>\n",
              "    <tr>\n",
              "      <th>1</th>\n",
              "      <td>0</td>\n",
              "      <td>0</td>\n",
              "      <td>2002</td>\n",
              "      <td>9</td>\n",
              "      <td>1</td>\n",
              "      <td>06:42</td>\n",
              "      <td>$38.48</td>\n",
              "      <td>Swipe Transaction</td>\n",
              "      <td>-727612092139916043</td>\n",
              "      <td>Monterey Park</td>\n",
              "      <td>CA</td>\n",
              "      <td>91754.0</td>\n",
              "      <td>5411</td>\n",
              "      <td>NaN</td>\n",
              "      <td>No</td>\n",
              "    </tr>\n",
              "    <tr>\n",
              "      <th>2</th>\n",
              "      <td>0</td>\n",
              "      <td>0</td>\n",
              "      <td>2002</td>\n",
              "      <td>9</td>\n",
              "      <td>2</td>\n",
              "      <td>06:22</td>\n",
              "      <td>$120.34</td>\n",
              "      <td>Swipe Transaction</td>\n",
              "      <td>-727612092139916043</td>\n",
              "      <td>Monterey Park</td>\n",
              "      <td>CA</td>\n",
              "      <td>91754.0</td>\n",
              "      <td>5411</td>\n",
              "      <td>NaN</td>\n",
              "      <td>No</td>\n",
              "    </tr>\n",
              "    <tr>\n",
              "      <th>3</th>\n",
              "      <td>0</td>\n",
              "      <td>0</td>\n",
              "      <td>2002</td>\n",
              "      <td>9</td>\n",
              "      <td>2</td>\n",
              "      <td>17:45</td>\n",
              "      <td>$128.95</td>\n",
              "      <td>Swipe Transaction</td>\n",
              "      <td>3414527459579106770</td>\n",
              "      <td>Monterey Park</td>\n",
              "      <td>CA</td>\n",
              "      <td>91754.0</td>\n",
              "      <td>5651</td>\n",
              "      <td>NaN</td>\n",
              "      <td>No</td>\n",
              "    </tr>\n",
              "    <tr>\n",
              "      <th>4</th>\n",
              "      <td>0</td>\n",
              "      <td>0</td>\n",
              "      <td>2002</td>\n",
              "      <td>9</td>\n",
              "      <td>3</td>\n",
              "      <td>06:23</td>\n",
              "      <td>$104.71</td>\n",
              "      <td>Swipe Transaction</td>\n",
              "      <td>5817218446178736267</td>\n",
              "      <td>La Verne</td>\n",
              "      <td>CA</td>\n",
              "      <td>91750.0</td>\n",
              "      <td>5912</td>\n",
              "      <td>NaN</td>\n",
              "      <td>No</td>\n",
              "    </tr>\n",
              "  </tbody>\n",
              "</table>\n",
              "</div>\n",
              "      <button class=\"colab-df-convert\" onclick=\"convertToInteractive('df-26028d25-0712-4aed-86db-3a77555ee9b5')\"\n",
              "              title=\"Convert this dataframe to an interactive table.\"\n",
              "              style=\"display:none;\">\n",
              "        \n",
              "  <svg xmlns=\"http://www.w3.org/2000/svg\" height=\"24px\"viewBox=\"0 0 24 24\"\n",
              "       width=\"24px\">\n",
              "    <path d=\"M0 0h24v24H0V0z\" fill=\"none\"/>\n",
              "    <path d=\"M18.56 5.44l.94 2.06.94-2.06 2.06-.94-2.06-.94-.94-2.06-.94 2.06-2.06.94zm-11 1L8.5 8.5l.94-2.06 2.06-.94-2.06-.94L8.5 2.5l-.94 2.06-2.06.94zm10 10l.94 2.06.94-2.06 2.06-.94-2.06-.94-.94-2.06-.94 2.06-2.06.94z\"/><path d=\"M17.41 7.96l-1.37-1.37c-.4-.4-.92-.59-1.43-.59-.52 0-1.04.2-1.43.59L10.3 9.45l-7.72 7.72c-.78.78-.78 2.05 0 2.83L4 21.41c.39.39.9.59 1.41.59.51 0 1.02-.2 1.41-.59l7.78-7.78 2.81-2.81c.8-.78.8-2.07 0-2.86zM5.41 20L4 18.59l7.72-7.72 1.47 1.35L5.41 20z\"/>\n",
              "  </svg>\n",
              "      </button>\n",
              "      \n",
              "  <style>\n",
              "    .colab-df-container {\n",
              "      display:flex;\n",
              "      flex-wrap:wrap;\n",
              "      gap: 12px;\n",
              "    }\n",
              "\n",
              "    .colab-df-convert {\n",
              "      background-color: #E8F0FE;\n",
              "      border: none;\n",
              "      border-radius: 50%;\n",
              "      cursor: pointer;\n",
              "      display: none;\n",
              "      fill: #1967D2;\n",
              "      height: 32px;\n",
              "      padding: 0 0 0 0;\n",
              "      width: 32px;\n",
              "    }\n",
              "\n",
              "    .colab-df-convert:hover {\n",
              "      background-color: #E2EBFA;\n",
              "      box-shadow: 0px 1px 2px rgba(60, 64, 67, 0.3), 0px 1px 3px 1px rgba(60, 64, 67, 0.15);\n",
              "      fill: #174EA6;\n",
              "    }\n",
              "\n",
              "    [theme=dark] .colab-df-convert {\n",
              "      background-color: #3B4455;\n",
              "      fill: #D2E3FC;\n",
              "    }\n",
              "\n",
              "    [theme=dark] .colab-df-convert:hover {\n",
              "      background-color: #434B5C;\n",
              "      box-shadow: 0px 1px 3px 1px rgba(0, 0, 0, 0.15);\n",
              "      filter: drop-shadow(0px 1px 2px rgba(0, 0, 0, 0.3));\n",
              "      fill: #FFFFFF;\n",
              "    }\n",
              "  </style>\n",
              "\n",
              "      <script>\n",
              "        const buttonEl =\n",
              "          document.querySelector('#df-26028d25-0712-4aed-86db-3a77555ee9b5 button.colab-df-convert');\n",
              "        buttonEl.style.display =\n",
              "          google.colab.kernel.accessAllowed ? 'block' : 'none';\n",
              "\n",
              "        async function convertToInteractive(key) {\n",
              "          const element = document.querySelector('#df-26028d25-0712-4aed-86db-3a77555ee9b5');\n",
              "          const dataTable =\n",
              "            await google.colab.kernel.invokeFunction('convertToInteractive',\n",
              "                                                     [key], {});\n",
              "          if (!dataTable) return;\n",
              "\n",
              "          const docLinkHtml = 'Like what you see? Visit the ' +\n",
              "            '<a target=\"_blank\" href=https://colab.research.google.com/notebooks/data_table.ipynb>data table notebook</a>'\n",
              "            + ' to learn more about interactive tables.';\n",
              "          element.innerHTML = '';\n",
              "          dataTable['output_type'] = 'display_data';\n",
              "          await google.colab.output.renderOutput(dataTable, element);\n",
              "          const docLink = document.createElement('div');\n",
              "          docLink.innerHTML = docLinkHtml;\n",
              "          element.appendChild(docLink);\n",
              "        }\n",
              "      </script>\n",
              "    </div>\n",
              "  </div>\n",
              "  "
            ],
            "text/plain": [
              "   User  Card  Year  Month  Day   Time   Amount           Use Chip  \\\n",
              "0     0     0  2002      9    1  06:21  $134.09  Swipe Transaction   \n",
              "1     0     0  2002      9    1  06:42   $38.48  Swipe Transaction   \n",
              "2     0     0  2002      9    2  06:22  $120.34  Swipe Transaction   \n",
              "3     0     0  2002      9    2  17:45  $128.95  Swipe Transaction   \n",
              "4     0     0  2002      9    3  06:23  $104.71  Swipe Transaction   \n",
              "\n",
              "         Merchant Name  Merchant City Merchant State      Zip   MCC Errors?  \\\n",
              "0  3527213246127876953       La Verne             CA  91750.0  5300     NaN   \n",
              "1  -727612092139916043  Monterey Park             CA  91754.0  5411     NaN   \n",
              "2  -727612092139916043  Monterey Park             CA  91754.0  5411     NaN   \n",
              "3  3414527459579106770  Monterey Park             CA  91754.0  5651     NaN   \n",
              "4  5817218446178736267       La Verne             CA  91750.0  5912     NaN   \n",
              "\n",
              "  Is Fraud?  \n",
              "0        No  \n",
              "1        No  \n",
              "2        No  \n",
              "3        No  \n",
              "4        No  "
            ]
          },
          "execution_count": 6,
          "metadata": {},
          "output_type": "execute_result"
        }
      ],
      "source": [
        "df_transactions = pd.read_csv(\"Data/credit_card_transactions-ibm_v2.csv\",nrows=15500000)\n",
        "df_transactions.head()"
      ]
    },
    {
      "cell_type": "code",
      "execution_count": 7,
      "metadata": {
        "colab": {
          "base_uri": "https://localhost:8080/"
        },
        "id": "wAn9_wcnxc6q",
        "outputId": "90d7de12-d385-47f1-d4e6-7ebc781072d9"
      },
      "outputs": [
        {
          "data": {
            "text/plain": [
              "Index(['User', 'Card', 'Year', 'Month', 'Day', 'Time', 'Amount', 'use_chip',\n",
              "       'Merchant Name', 'Merchant City', 'Merchant State', 'merchant_zip',\n",
              "       'MCC', 'transaction_error', 'is_fraud'],\n",
              "      dtype='object')"
            ]
          },
          "execution_count": 7,
          "metadata": {},
          "output_type": "execute_result"
        }
      ],
      "source": [
        "column_names = {'Is Fraud?':'is_fraud', 'Use Chip':'use_chip', \n",
        "                'Zip':'merchant_zip', 'Errors?':'transaction_error',\n",
        "                }\n",
        "df_transactions.rename(columns=column_names, inplace=True)\n",
        "df_transactions.columns"
      ]
    },
    {
      "cell_type": "code",
      "execution_count": 8,
      "metadata": {
        "colab": {
          "base_uri": "https://localhost:8080/"
        },
        "id": "-iEG2pB5yxnI",
        "outputId": "5ce6569b-66da-41f2-a4e4-2de189040775"
      },
      "outputs": [
        {
          "data": {
            "text/plain": [
              "No     15481335\n",
              "Yes       18665\n",
              "Name: is_fraud, dtype: int64"
            ]
          },
          "execution_count": 8,
          "metadata": {},
          "output_type": "execute_result"
        }
      ],
      "source": [
        "df_transactions.is_fraud.value_counts()"
      ]
    },
    {
      "cell_type": "code",
      "execution_count": 9,
      "metadata": {
        "colab": {
          "base_uri": "https://localhost:8080/"
        },
        "id": "F6Lr8Y9vy594",
        "outputId": "78f07eb9-9894-4c84-ab99-24c8f1acf519"
      },
      "outputs": [
        {
          "data": {
            "text/plain": [
              "486     82355\n",
              "396     80749\n",
              "332     70010\n",
              "262     68089\n",
              "1249    65644\n",
              "        ...  \n",
              "397        29\n",
              "312        28\n",
              "810        26\n",
              "457        25\n",
              "231        21\n",
              "Name: User, Length: 1263, dtype: int64"
            ]
          },
          "execution_count": 9,
          "metadata": {},
          "output_type": "execute_result"
        }
      ],
      "source": [
        "df_transactions.User.value_counts()"
      ]
    },
    {
      "cell_type": "code",
      "execution_count": 10,
      "metadata": {
        "colab": {
          "base_uri": "https://localhost:8080/",
          "height": 206
        },
        "id": "ZhzhicrmzkYj",
        "outputId": "eb50f976-cfe6-4b7d-9356-0c97bcf15a3a"
      },
      "outputs": [
        {
          "data": {
            "text/html": [
              "\n",
              "  <div id=\"df-c4e5149f-a4b9-47fd-844e-05b9cbf23db1\">\n",
              "    <div class=\"colab-df-container\">\n",
              "      <div>\n",
              "<style scoped>\n",
              "    .dataframe tbody tr th:only-of-type {\n",
              "        vertical-align: middle;\n",
              "    }\n",
              "\n",
              "    .dataframe tbody tr th {\n",
              "        vertical-align: top;\n",
              "    }\n",
              "\n",
              "    .dataframe thead th {\n",
              "        text-align: right;\n",
              "    }\n",
              "</style>\n",
              "<table border=\"1\" class=\"dataframe\">\n",
              "  <thead>\n",
              "    <tr style=\"text-align: right;\">\n",
              "      <th></th>\n",
              "      <th>User</th>\n",
              "      <th>Time</th>\n",
              "      <th>Amount</th>\n",
              "      <th>use_chip</th>\n",
              "      <th>MCC</th>\n",
              "      <th>transaction_error</th>\n",
              "      <th>is_fraud</th>\n",
              "    </tr>\n",
              "  </thead>\n",
              "  <tbody>\n",
              "    <tr>\n",
              "      <th>0</th>\n",
              "      <td>0</td>\n",
              "      <td>06:21</td>\n",
              "      <td>$134.09</td>\n",
              "      <td>Swipe Transaction</td>\n",
              "      <td>5300</td>\n",
              "      <td>NaN</td>\n",
              "      <td>No</td>\n",
              "    </tr>\n",
              "    <tr>\n",
              "      <th>1</th>\n",
              "      <td>0</td>\n",
              "      <td>06:42</td>\n",
              "      <td>$38.48</td>\n",
              "      <td>Swipe Transaction</td>\n",
              "      <td>5411</td>\n",
              "      <td>NaN</td>\n",
              "      <td>No</td>\n",
              "    </tr>\n",
              "    <tr>\n",
              "      <th>2</th>\n",
              "      <td>0</td>\n",
              "      <td>06:22</td>\n",
              "      <td>$120.34</td>\n",
              "      <td>Swipe Transaction</td>\n",
              "      <td>5411</td>\n",
              "      <td>NaN</td>\n",
              "      <td>No</td>\n",
              "    </tr>\n",
              "    <tr>\n",
              "      <th>3</th>\n",
              "      <td>0</td>\n",
              "      <td>17:45</td>\n",
              "      <td>$128.95</td>\n",
              "      <td>Swipe Transaction</td>\n",
              "      <td>5651</td>\n",
              "      <td>NaN</td>\n",
              "      <td>No</td>\n",
              "    </tr>\n",
              "    <tr>\n",
              "      <th>4</th>\n",
              "      <td>0</td>\n",
              "      <td>06:23</td>\n",
              "      <td>$104.71</td>\n",
              "      <td>Swipe Transaction</td>\n",
              "      <td>5912</td>\n",
              "      <td>NaN</td>\n",
              "      <td>No</td>\n",
              "    </tr>\n",
              "  </tbody>\n",
              "</table>\n",
              "</div>\n",
              "      <button class=\"colab-df-convert\" onclick=\"convertToInteractive('df-c4e5149f-a4b9-47fd-844e-05b9cbf23db1')\"\n",
              "              title=\"Convert this dataframe to an interactive table.\"\n",
              "              style=\"display:none;\">\n",
              "        \n",
              "  <svg xmlns=\"http://www.w3.org/2000/svg\" height=\"24px\"viewBox=\"0 0 24 24\"\n",
              "       width=\"24px\">\n",
              "    <path d=\"M0 0h24v24H0V0z\" fill=\"none\"/>\n",
              "    <path d=\"M18.56 5.44l.94 2.06.94-2.06 2.06-.94-2.06-.94-.94-2.06-.94 2.06-2.06.94zm-11 1L8.5 8.5l.94-2.06 2.06-.94-2.06-.94L8.5 2.5l-.94 2.06-2.06.94zm10 10l.94 2.06.94-2.06 2.06-.94-2.06-.94-.94-2.06-.94 2.06-2.06.94z\"/><path d=\"M17.41 7.96l-1.37-1.37c-.4-.4-.92-.59-1.43-.59-.52 0-1.04.2-1.43.59L10.3 9.45l-7.72 7.72c-.78.78-.78 2.05 0 2.83L4 21.41c.39.39.9.59 1.41.59.51 0 1.02-.2 1.41-.59l7.78-7.78 2.81-2.81c.8-.78.8-2.07 0-2.86zM5.41 20L4 18.59l7.72-7.72 1.47 1.35L5.41 20z\"/>\n",
              "  </svg>\n",
              "      </button>\n",
              "      \n",
              "  <style>\n",
              "    .colab-df-container {\n",
              "      display:flex;\n",
              "      flex-wrap:wrap;\n",
              "      gap: 12px;\n",
              "    }\n",
              "\n",
              "    .colab-df-convert {\n",
              "      background-color: #E8F0FE;\n",
              "      border: none;\n",
              "      border-radius: 50%;\n",
              "      cursor: pointer;\n",
              "      display: none;\n",
              "      fill: #1967D2;\n",
              "      height: 32px;\n",
              "      padding: 0 0 0 0;\n",
              "      width: 32px;\n",
              "    }\n",
              "\n",
              "    .colab-df-convert:hover {\n",
              "      background-color: #E2EBFA;\n",
              "      box-shadow: 0px 1px 2px rgba(60, 64, 67, 0.3), 0px 1px 3px 1px rgba(60, 64, 67, 0.15);\n",
              "      fill: #174EA6;\n",
              "    }\n",
              "\n",
              "    [theme=dark] .colab-df-convert {\n",
              "      background-color: #3B4455;\n",
              "      fill: #D2E3FC;\n",
              "    }\n",
              "\n",
              "    [theme=dark] .colab-df-convert:hover {\n",
              "      background-color: #434B5C;\n",
              "      box-shadow: 0px 1px 3px 1px rgba(0, 0, 0, 0.15);\n",
              "      filter: drop-shadow(0px 1px 2px rgba(0, 0, 0, 0.3));\n",
              "      fill: #FFFFFF;\n",
              "    }\n",
              "  </style>\n",
              "\n",
              "      <script>\n",
              "        const buttonEl =\n",
              "          document.querySelector('#df-c4e5149f-a4b9-47fd-844e-05b9cbf23db1 button.colab-df-convert');\n",
              "        buttonEl.style.display =\n",
              "          google.colab.kernel.accessAllowed ? 'block' : 'none';\n",
              "\n",
              "        async function convertToInteractive(key) {\n",
              "          const element = document.querySelector('#df-c4e5149f-a4b9-47fd-844e-05b9cbf23db1');\n",
              "          const dataTable =\n",
              "            await google.colab.kernel.invokeFunction('convertToInteractive',\n",
              "                                                     [key], {});\n",
              "          if (!dataTable) return;\n",
              "\n",
              "          const docLinkHtml = 'Like what you see? Visit the ' +\n",
              "            '<a target=\"_blank\" href=https://colab.research.google.com/notebooks/data_table.ipynb>data table notebook</a>'\n",
              "            + ' to learn more about interactive tables.';\n",
              "          element.innerHTML = '';\n",
              "          dataTable['output_type'] = 'display_data';\n",
              "          await google.colab.output.renderOutput(dataTable, element);\n",
              "          const docLink = document.createElement('div');\n",
              "          docLink.innerHTML = docLinkHtml;\n",
              "          element.appendChild(docLink);\n",
              "        }\n",
              "      </script>\n",
              "    </div>\n",
              "  </div>\n",
              "  "
            ],
            "text/plain": [
              "   User   Time   Amount           use_chip   MCC transaction_error is_fraud\n",
              "0     0  06:21  $134.09  Swipe Transaction  5300               NaN       No\n",
              "1     0  06:42   $38.48  Swipe Transaction  5411               NaN       No\n",
              "2     0  06:22  $120.34  Swipe Transaction  5411               NaN       No\n",
              "3     0  17:45  $128.95  Swipe Transaction  5651               NaN       No\n",
              "4     0  06:23  $104.71  Swipe Transaction  5912               NaN       No"
            ]
          },
          "execution_count": 10,
          "metadata": {},
          "output_type": "execute_result"
        }
      ],
      "source": [
        "df_transactions.drop(['Card', 'Year','Month','Day', 'Merchant Name','Merchant City', 'Merchant State', 'merchant_zip'], axis=1, inplace=True)\n",
        "df_transactions.head()"
      ]
    },
    {
      "cell_type": "code",
      "execution_count": 11,
      "metadata": {
        "colab": {
          "base_uri": "https://localhost:8080/"
        },
        "id": "vYxpuyKT0yHX",
        "outputId": "52981abb-e301-4c9d-a3fb-321151e59dbd"
      },
      "outputs": [
        {
          "data": {
            "text/plain": [
              "0    15481335\n",
              "1       18665\n",
              "Name: is_fraud, dtype: int64"
            ]
          },
          "execution_count": 11,
          "metadata": {},
          "output_type": "execute_result"
        }
      ],
      "source": [
        "df_transactions.is_fraud = df_transactions.is_fraud.replace({'No':0,'Yes':1}) \n",
        "df_transactions.is_fraud.value_counts()"
      ]
    },
    {
      "cell_type": "code",
      "execution_count": 12,
      "metadata": {
        "colab": {
          "base_uri": "https://localhost:8080/"
        },
        "id": "3CUsbTJN1R_4",
        "outputId": "3f19d23b-643f-4206-fc99-0cb3503c2917"
      },
      "outputs": [
        {
          "data": {
            "text/plain": [
              "NAN                                                    15251673\n",
              "Insufficient Balance                                     154648\n",
              "Bad PIN                                                   37590\n",
              "Technical Glitch                                          30748\n",
              "Bad Card Number                                            8778\n",
              "Bad Expiration                                             7095\n",
              "Bad CVV                                                    7078\n",
              "Bad Zipcode                                                1333\n",
              "Bad PIN,Insufficient Balance                                339\n",
              "Insufficient Balance,Technical Glitch                       291\n",
              "Bad PIN,Technical Glitch                                     83\n",
              "Bad Card Number,Insufficient Balance                         77\n",
              "Bad CVV,Insufficient Balance                                 58\n",
              "Bad Expiration,Insufficient Balance                          45\n",
              "Bad Card Number,Bad Expiration                               40\n",
              "Bad Card Number,Bad CVV                                      32\n",
              "Bad Expiration,Bad CVV                                       28\n",
              "Bad Expiration,Technical Glitch                              19\n",
              "Bad Card Number,Technical Glitch                             16\n",
              "Bad CVV,Technical Glitch                                     14\n",
              "Bad Zipcode,Insufficient Balance                              9\n",
              "Bad Zipcode,Technical Glitch                                  4\n",
              "Bad Card Number,Bad Expiration,Technical Glitch               1\n",
              "Bad Card Number,Bad Expiration,Insufficient Balance           1\n",
              "Name: transaction_error, dtype: int64"
            ]
          },
          "execution_count": 12,
          "metadata": {},
          "output_type": "execute_result"
        }
      ],
      "source": [
        "df_transactions.transaction_error=df_transactions.transaction_error.fillna('NAN')\n",
        "# df_transactions.transaction_error=df_transactions.transaction_error.apply(lambda value:value=='NAN')\n",
        "df_transactions.transaction_error.value_counts()"
      ]
    },
    {
      "cell_type": "code",
      "execution_count": 13,
      "metadata": {
        "colab": {
          "base_uri": "https://localhost:8080/"
        },
        "id": "B8krQP-l10RK",
        "outputId": "e55209d7-f426-48c9-a31d-4e5576d4de69"
      },
      "outputs": [
        {
          "data": {
            "text/plain": [
              "NAN                                     17852\n",
              "Insufficient Balance                      254\n",
              "Bad PIN                                   195\n",
              "Bad CVV                                   174\n",
              "Bad Expiration                             74\n",
              "Bad Card Number                            58\n",
              "Technical Glitch                           43\n",
              "Bad CVV,Insufficient Balance                4\n",
              "Bad PIN,Insufficient Balance                4\n",
              "Bad Card Number,Insufficient Balance        2\n",
              "Bad Expiration,Bad CVV                      1\n",
              "Bad Expiration,Insufficient Balance         1\n",
              "Bad Expiration,Technical Glitch             1\n",
              "Bad PIN,Technical Glitch                    1\n",
              "Bad CVV,Technical Glitch                    1\n",
              "Name: transaction_error, dtype: int64"
            ]
          },
          "execution_count": 13,
          "metadata": {},
          "output_type": "execute_result"
        }
      ],
      "source": [
        "df_transactions[df_transactions.is_fraud==1].transaction_error.value_counts()"
      ]
    },
    {
      "cell_type": "code",
      "execution_count": 14,
      "metadata": {
        "colab": {
          "base_uri": "https://localhost:8080/"
        },
        "id": "befQlf3x2pCl",
        "outputId": "79c6fd2b-3ae3-4471-eb27-c7efa0e46e55"
      },
      "outputs": [
        {
          "data": {
            "text/plain": [
              "0    15251673\n",
              "1      154648\n",
              "2       37590\n",
              "6       30748\n",
              "5        8778\n",
              "4        7095\n",
              "3        7078\n",
              "7        2390\n",
              "Name: transaction_error, dtype: int64"
            ]
          },
          "execution_count": 14,
          "metadata": {},
          "output_type": "execute_result"
        }
      ],
      "source": [
        "def convert(value):\n",
        "  conv_dict = {'NAN':0, 'Insufficient Balance':1, 'Bad PIN':2, 'Bad CVV':3, 'Bad Expiration':4, 'Bad Card Number':5, 'Technical Glitch':6}\n",
        "  try:\n",
        "    return conv_dict[value]\n",
        "  except:\n",
        "    return 7\n",
        "df_transactions.transaction_error = df_transactions.transaction_error.apply(convert)\n",
        "df_transactions.transaction_error.value_counts()"
      ]
    },
    {
      "cell_type": "code",
      "execution_count": 15,
      "metadata": {
        "colab": {
          "base_uri": "https://localhost:8080/"
        },
        "id": "HJ08YYy6g0tc",
        "outputId": "207949d1-fc73-46b8-aa47-3fe5e7e6cb18"
      },
      "outputs": [
        {
          "name": "stdout",
          "output_type": "stream",
          "text": [
            "<class 'pandas.core.frame.DataFrame'>\n",
            "RangeIndex: 15500000 entries, 0 to 15499999\n",
            "Data columns (total 7 columns):\n",
            " #   Column             Dtype \n",
            "---  ------             ----- \n",
            " 0   User               int64 \n",
            " 1   Time               object\n",
            " 2   Amount             object\n",
            " 3   use_chip           object\n",
            " 4   MCC                int64 \n",
            " 5   transaction_error  int64 \n",
            " 6   is_fraud           int64 \n",
            "dtypes: int64(4), object(3)\n",
            "memory usage: 827.8+ MB\n"
          ]
        }
      ],
      "source": [
        "df_transactions.info()"
      ]
    },
    {
      "cell_type": "code",
      "execution_count": 16,
      "metadata": {
        "colab": {
          "base_uri": "https://localhost:8080/",
          "height": 206
        },
        "id": "Rt6Ca6eJ4VM0",
        "outputId": "e0315589-56a8-447a-9255-025ad9d3a7c3"
      },
      "outputs": [
        {
          "data": {
            "text/html": [
              "\n",
              "  <div id=\"df-520865ba-a664-4a18-889a-649dfd759bcd\">\n",
              "    <div class=\"colab-df-container\">\n",
              "      <div>\n",
              "<style scoped>\n",
              "    .dataframe tbody tr th:only-of-type {\n",
              "        vertical-align: middle;\n",
              "    }\n",
              "\n",
              "    .dataframe tbody tr th {\n",
              "        vertical-align: top;\n",
              "    }\n",
              "\n",
              "    .dataframe thead th {\n",
              "        text-align: right;\n",
              "    }\n",
              "</style>\n",
              "<table border=\"1\" class=\"dataframe\">\n",
              "  <thead>\n",
              "    <tr style=\"text-align: right;\">\n",
              "      <th></th>\n",
              "      <th>User</th>\n",
              "      <th>Time</th>\n",
              "      <th>Amount</th>\n",
              "      <th>use_chip</th>\n",
              "      <th>MCC</th>\n",
              "      <th>transaction_error</th>\n",
              "      <th>is_fraud</th>\n",
              "    </tr>\n",
              "  </thead>\n",
              "  <tbody>\n",
              "    <tr>\n",
              "      <th>0</th>\n",
              "      <td>0</td>\n",
              "      <td>621</td>\n",
              "      <td>134.09</td>\n",
              "      <td>Swipe Transaction</td>\n",
              "      <td>5300</td>\n",
              "      <td>0</td>\n",
              "      <td>0</td>\n",
              "    </tr>\n",
              "    <tr>\n",
              "      <th>1</th>\n",
              "      <td>0</td>\n",
              "      <td>642</td>\n",
              "      <td>38.48</td>\n",
              "      <td>Swipe Transaction</td>\n",
              "      <td>5411</td>\n",
              "      <td>0</td>\n",
              "      <td>0</td>\n",
              "    </tr>\n",
              "    <tr>\n",
              "      <th>2</th>\n",
              "      <td>0</td>\n",
              "      <td>622</td>\n",
              "      <td>120.34</td>\n",
              "      <td>Swipe Transaction</td>\n",
              "      <td>5411</td>\n",
              "      <td>0</td>\n",
              "      <td>0</td>\n",
              "    </tr>\n",
              "    <tr>\n",
              "      <th>3</th>\n",
              "      <td>0</td>\n",
              "      <td>1745</td>\n",
              "      <td>128.95</td>\n",
              "      <td>Swipe Transaction</td>\n",
              "      <td>5651</td>\n",
              "      <td>0</td>\n",
              "      <td>0</td>\n",
              "    </tr>\n",
              "    <tr>\n",
              "      <th>4</th>\n",
              "      <td>0</td>\n",
              "      <td>623</td>\n",
              "      <td>104.71</td>\n",
              "      <td>Swipe Transaction</td>\n",
              "      <td>5912</td>\n",
              "      <td>0</td>\n",
              "      <td>0</td>\n",
              "    </tr>\n",
              "  </tbody>\n",
              "</table>\n",
              "</div>\n",
              "      <button class=\"colab-df-convert\" onclick=\"convertToInteractive('df-520865ba-a664-4a18-889a-649dfd759bcd')\"\n",
              "              title=\"Convert this dataframe to an interactive table.\"\n",
              "              style=\"display:none;\">\n",
              "        \n",
              "  <svg xmlns=\"http://www.w3.org/2000/svg\" height=\"24px\"viewBox=\"0 0 24 24\"\n",
              "       width=\"24px\">\n",
              "    <path d=\"M0 0h24v24H0V0z\" fill=\"none\"/>\n",
              "    <path d=\"M18.56 5.44l.94 2.06.94-2.06 2.06-.94-2.06-.94-.94-2.06-.94 2.06-2.06.94zm-11 1L8.5 8.5l.94-2.06 2.06-.94-2.06-.94L8.5 2.5l-.94 2.06-2.06.94zm10 10l.94 2.06.94-2.06 2.06-.94-2.06-.94-.94-2.06-.94 2.06-2.06.94z\"/><path d=\"M17.41 7.96l-1.37-1.37c-.4-.4-.92-.59-1.43-.59-.52 0-1.04.2-1.43.59L10.3 9.45l-7.72 7.72c-.78.78-.78 2.05 0 2.83L4 21.41c.39.39.9.59 1.41.59.51 0 1.02-.2 1.41-.59l7.78-7.78 2.81-2.81c.8-.78.8-2.07 0-2.86zM5.41 20L4 18.59l7.72-7.72 1.47 1.35L5.41 20z\"/>\n",
              "  </svg>\n",
              "      </button>\n",
              "      \n",
              "  <style>\n",
              "    .colab-df-container {\n",
              "      display:flex;\n",
              "      flex-wrap:wrap;\n",
              "      gap: 12px;\n",
              "    }\n",
              "\n",
              "    .colab-df-convert {\n",
              "      background-color: #E8F0FE;\n",
              "      border: none;\n",
              "      border-radius: 50%;\n",
              "      cursor: pointer;\n",
              "      display: none;\n",
              "      fill: #1967D2;\n",
              "      height: 32px;\n",
              "      padding: 0 0 0 0;\n",
              "      width: 32px;\n",
              "    }\n",
              "\n",
              "    .colab-df-convert:hover {\n",
              "      background-color: #E2EBFA;\n",
              "      box-shadow: 0px 1px 2px rgba(60, 64, 67, 0.3), 0px 1px 3px 1px rgba(60, 64, 67, 0.15);\n",
              "      fill: #174EA6;\n",
              "    }\n",
              "\n",
              "    [theme=dark] .colab-df-convert {\n",
              "      background-color: #3B4455;\n",
              "      fill: #D2E3FC;\n",
              "    }\n",
              "\n",
              "    [theme=dark] .colab-df-convert:hover {\n",
              "      background-color: #434B5C;\n",
              "      box-shadow: 0px 1px 3px 1px rgba(0, 0, 0, 0.15);\n",
              "      filter: drop-shadow(0px 1px 2px rgba(0, 0, 0, 0.3));\n",
              "      fill: #FFFFFF;\n",
              "    }\n",
              "  </style>\n",
              "\n",
              "      <script>\n",
              "        const buttonEl =\n",
              "          document.querySelector('#df-520865ba-a664-4a18-889a-649dfd759bcd button.colab-df-convert');\n",
              "        buttonEl.style.display =\n",
              "          google.colab.kernel.accessAllowed ? 'block' : 'none';\n",
              "\n",
              "        async function convertToInteractive(key) {\n",
              "          const element = document.querySelector('#df-520865ba-a664-4a18-889a-649dfd759bcd');\n",
              "          const dataTable =\n",
              "            await google.colab.kernel.invokeFunction('convertToInteractive',\n",
              "                                                     [key], {});\n",
              "          if (!dataTable) return;\n",
              "\n",
              "          const docLinkHtml = 'Like what you see? Visit the ' +\n",
              "            '<a target=\"_blank\" href=https://colab.research.google.com/notebooks/data_table.ipynb>data table notebook</a>'\n",
              "            + ' to learn more about interactive tables.';\n",
              "          element.innerHTML = '';\n",
              "          dataTable['output_type'] = 'display_data';\n",
              "          await google.colab.output.renderOutput(dataTable, element);\n",
              "          const docLink = document.createElement('div');\n",
              "          docLink.innerHTML = docLinkHtml;\n",
              "          element.appendChild(docLink);\n",
              "        }\n",
              "      </script>\n",
              "    </div>\n",
              "  </div>\n",
              "  "
            ],
            "text/plain": [
              "   User  Time  Amount           use_chip   MCC  transaction_error  is_fraud\n",
              "0     0   621  134.09  Swipe Transaction  5300                  0         0\n",
              "1     0   642   38.48  Swipe Transaction  5411                  0         0\n",
              "2     0   622  120.34  Swipe Transaction  5411                  0         0\n",
              "3     0  1745  128.95  Swipe Transaction  5651                  0         0\n",
              "4     0   623  104.71  Swipe Transaction  5912                  0         0"
            ]
          },
          "execution_count": 16,
          "metadata": {},
          "output_type": "execute_result"
        }
      ],
      "source": [
        "df_transactions.Time = df_transactions.Time.apply(lambda value:int(value.replace(':','')))\n",
        "df_transactions.Amount = df_transactions.Amount.apply(lambda value:float(value.replace('$','')))\n",
        "df_transactions.head()"
      ]
    },
    {
      "cell_type": "code",
      "execution_count": 17,
      "metadata": {
        "colab": {
          "base_uri": "https://localhost:8080/"
        },
        "id": "tznhzaLI59nR",
        "outputId": "4c2701a6-5cc5-495d-dac4-42393c18f069"
      },
      "outputs": [
        {
          "data": {
            "text/plain": [
              "0    9738279\n",
              "1    3978325\n",
              "3    1783396\n",
              "Name: use_chip, dtype: int64"
            ]
          },
          "execution_count": 17,
          "metadata": {},
          "output_type": "execute_result"
        }
      ],
      "source": [
        "df_transactions.use_chip = df_transactions.use_chip.apply(lambda value:{'Swipe Transaction':0,\n",
        "                                                                        'Chip Transaction':1, 'Online Transaction':3}[value])\n",
        "df_transactions.use_chip.value_counts()"
      ]
    },
    {
      "cell_type": "code",
      "execution_count": 18,
      "metadata": {
        "colab": {
          "base_uri": "https://localhost:8080/"
        },
        "id": "Bx0Z9NtU6KZR",
        "outputId": "e222a66f-6cef-48b1-bf38-c0e32a99ed08"
      },
      "outputs": [
        {
          "name": "stdout",
          "output_type": "stream",
          "text": [
            "<class 'pandas.core.frame.DataFrame'>\n",
            "RangeIndex: 15500000 entries, 0 to 15499999\n",
            "Data columns (total 7 columns):\n",
            " #   Column             Dtype  \n",
            "---  ------             -----  \n",
            " 0   User               int64  \n",
            " 1   Time               int64  \n",
            " 2   Amount             float64\n",
            " 3   use_chip           int64  \n",
            " 4   MCC                int64  \n",
            " 5   transaction_error  int64  \n",
            " 6   is_fraud           int64  \n",
            "dtypes: float64(1), int64(6)\n",
            "memory usage: 827.8 MB\n"
          ]
        }
      ],
      "source": [
        "df_transactions.info()"
      ]
    },
    {
      "cell_type": "code",
      "execution_count": 19,
      "metadata": {
        "colab": {
          "base_uri": "https://localhost:8080/"
        },
        "id": "XIrJ_0gx68aU",
        "outputId": "4de70177-ceb1-4c27-d806-012e49408734"
      },
      "outputs": [
        {
          "name": "stdout",
          "output_type": "stream",
          "text": [
            "<class 'pandas.core.frame.DataFrame'>\n",
            "RangeIndex: 2000 entries, 0 to 1999\n",
            "Data columns (total 18 columns):\n",
            " #   Column                       Non-Null Count  Dtype  \n",
            "---  ------                       --------------  -----  \n",
            " 0   Person                       2000 non-null   object \n",
            " 1   Current Age                  2000 non-null   int64  \n",
            " 2   Retirement Age               2000 non-null   int64  \n",
            " 3   Birth Year                   2000 non-null   int64  \n",
            " 4   Birth Month                  2000 non-null   int64  \n",
            " 5   Gender                       2000 non-null   object \n",
            " 6   Address                      2000 non-null   object \n",
            " 7   Apartment                    528 non-null    float64\n",
            " 8   City                         2000 non-null   object \n",
            " 9   State                        2000 non-null   object \n",
            " 10  Zipcode                      2000 non-null   int64  \n",
            " 11  Latitude                     2000 non-null   float64\n",
            " 12  Longitude                    2000 non-null   float64\n",
            " 13  Per Capita Income - Zipcode  2000 non-null   object \n",
            " 14  Yearly Income - Person       2000 non-null   object \n",
            " 15  Total Debt                   2000 non-null   object \n",
            " 16  FICO Score                   2000 non-null   int64  \n",
            " 17  Num Credit Cards             2000 non-null   int64  \n",
            "dtypes: float64(3), int64(7), object(8)\n",
            "memory usage: 281.4+ KB\n"
          ]
        }
      ],
      "source": [
        "df_user = pd.read_csv('Data/sd254_users.csv')\n",
        "df_user.info()"
      ]
    },
    {
      "cell_type": "code",
      "execution_count": 20,
      "metadata": {
        "colab": {
          "base_uri": "https://localhost:8080/"
        },
        "id": "bxvKPl217SUF",
        "outputId": "fb164da8-50db-4737-9f80-a053ebc5a4c9"
      },
      "outputs": [
        {
          "data": {
            "text/plain": [
              "Index(['Current Age', 'Retirement Age', 'Gender', 'Zipcode',\n",
              "       'Yearly Income - Person', 'Total Debt', 'FICO Score'],\n",
              "      dtype='object')"
            ]
          },
          "execution_count": 20,
          "metadata": {},
          "output_type": "execute_result"
        }
      ],
      "source": [
        "df_user.drop(['Person','Birth Year','Birth Month','Address','Apartment',\n",
        "              'City','State','Latitude','Longitude','Per Capita Income - Zipcode','Num Credit Cards'], axis=1, inplace=True)\n",
        "df_user.columns"
      ]
    },
    {
      "cell_type": "code",
      "execution_count": 21,
      "metadata": {
        "id": "1o1dKLol8nbx"
      },
      "outputs": [],
      "source": [
        "df_user.rename(columns={'Current Age':'age', 'Retirement Age':'ret_age', 'Yearly Income - Person':'yearly_income',\n",
        "                        'Total Debt':'total_debt','FICO Score':'fico_score'}, inplace=True)"
      ]
    },
    {
      "cell_type": "code",
      "execution_count": 22,
      "metadata": {
        "colab": {
          "base_uri": "https://localhost:8080/",
          "height": 206
        },
        "id": "XPI-mIhw96ZI",
        "outputId": "7f46b8ef-0711-4d79-f3f4-d1782514b957"
      },
      "outputs": [
        {
          "data": {
            "text/html": [
              "\n",
              "  <div id=\"df-1a8ef252-40d1-47cb-9b61-4be091a9266f\">\n",
              "    <div class=\"colab-df-container\">\n",
              "      <div>\n",
              "<style scoped>\n",
              "    .dataframe tbody tr th:only-of-type {\n",
              "        vertical-align: middle;\n",
              "    }\n",
              "\n",
              "    .dataframe tbody tr th {\n",
              "        vertical-align: top;\n",
              "    }\n",
              "\n",
              "    .dataframe thead th {\n",
              "        text-align: right;\n",
              "    }\n",
              "</style>\n",
              "<table border=\"1\" class=\"dataframe\">\n",
              "  <thead>\n",
              "    <tr style=\"text-align: right;\">\n",
              "      <th></th>\n",
              "      <th>age</th>\n",
              "      <th>ret_age</th>\n",
              "      <th>Gender</th>\n",
              "      <th>Zipcode</th>\n",
              "      <th>yearly_income</th>\n",
              "      <th>total_debt</th>\n",
              "      <th>fico_score</th>\n",
              "    </tr>\n",
              "  </thead>\n",
              "  <tbody>\n",
              "    <tr>\n",
              "      <th>0</th>\n",
              "      <td>53</td>\n",
              "      <td>66</td>\n",
              "      <td>Female</td>\n",
              "      <td>91750</td>\n",
              "      <td>$59696</td>\n",
              "      <td>$127613</td>\n",
              "      <td>787</td>\n",
              "    </tr>\n",
              "    <tr>\n",
              "      <th>1</th>\n",
              "      <td>53</td>\n",
              "      <td>68</td>\n",
              "      <td>Female</td>\n",
              "      <td>11363</td>\n",
              "      <td>$77254</td>\n",
              "      <td>$191349</td>\n",
              "      <td>701</td>\n",
              "    </tr>\n",
              "    <tr>\n",
              "      <th>2</th>\n",
              "      <td>81</td>\n",
              "      <td>67</td>\n",
              "      <td>Female</td>\n",
              "      <td>91792</td>\n",
              "      <td>$33483</td>\n",
              "      <td>$196</td>\n",
              "      <td>698</td>\n",
              "    </tr>\n",
              "    <tr>\n",
              "      <th>3</th>\n",
              "      <td>63</td>\n",
              "      <td>63</td>\n",
              "      <td>Female</td>\n",
              "      <td>10069</td>\n",
              "      <td>$249925</td>\n",
              "      <td>$202328</td>\n",
              "      <td>722</td>\n",
              "    </tr>\n",
              "    <tr>\n",
              "      <th>4</th>\n",
              "      <td>43</td>\n",
              "      <td>70</td>\n",
              "      <td>Male</td>\n",
              "      <td>94117</td>\n",
              "      <td>$109687</td>\n",
              "      <td>$183855</td>\n",
              "      <td>675</td>\n",
              "    </tr>\n",
              "  </tbody>\n",
              "</table>\n",
              "</div>\n",
              "      <button class=\"colab-df-convert\" onclick=\"convertToInteractive('df-1a8ef252-40d1-47cb-9b61-4be091a9266f')\"\n",
              "              title=\"Convert this dataframe to an interactive table.\"\n",
              "              style=\"display:none;\">\n",
              "        \n",
              "  <svg xmlns=\"http://www.w3.org/2000/svg\" height=\"24px\"viewBox=\"0 0 24 24\"\n",
              "       width=\"24px\">\n",
              "    <path d=\"M0 0h24v24H0V0z\" fill=\"none\"/>\n",
              "    <path d=\"M18.56 5.44l.94 2.06.94-2.06 2.06-.94-2.06-.94-.94-2.06-.94 2.06-2.06.94zm-11 1L8.5 8.5l.94-2.06 2.06-.94-2.06-.94L8.5 2.5l-.94 2.06-2.06.94zm10 10l.94 2.06.94-2.06 2.06-.94-2.06-.94-.94-2.06-.94 2.06-2.06.94z\"/><path d=\"M17.41 7.96l-1.37-1.37c-.4-.4-.92-.59-1.43-.59-.52 0-1.04.2-1.43.59L10.3 9.45l-7.72 7.72c-.78.78-.78 2.05 0 2.83L4 21.41c.39.39.9.59 1.41.59.51 0 1.02-.2 1.41-.59l7.78-7.78 2.81-2.81c.8-.78.8-2.07 0-2.86zM5.41 20L4 18.59l7.72-7.72 1.47 1.35L5.41 20z\"/>\n",
              "  </svg>\n",
              "      </button>\n",
              "      \n",
              "  <style>\n",
              "    .colab-df-container {\n",
              "      display:flex;\n",
              "      flex-wrap:wrap;\n",
              "      gap: 12px;\n",
              "    }\n",
              "\n",
              "    .colab-df-convert {\n",
              "      background-color: #E8F0FE;\n",
              "      border: none;\n",
              "      border-radius: 50%;\n",
              "      cursor: pointer;\n",
              "      display: none;\n",
              "      fill: #1967D2;\n",
              "      height: 32px;\n",
              "      padding: 0 0 0 0;\n",
              "      width: 32px;\n",
              "    }\n",
              "\n",
              "    .colab-df-convert:hover {\n",
              "      background-color: #E2EBFA;\n",
              "      box-shadow: 0px 1px 2px rgba(60, 64, 67, 0.3), 0px 1px 3px 1px rgba(60, 64, 67, 0.15);\n",
              "      fill: #174EA6;\n",
              "    }\n",
              "\n",
              "    [theme=dark] .colab-df-convert {\n",
              "      background-color: #3B4455;\n",
              "      fill: #D2E3FC;\n",
              "    }\n",
              "\n",
              "    [theme=dark] .colab-df-convert:hover {\n",
              "      background-color: #434B5C;\n",
              "      box-shadow: 0px 1px 3px 1px rgba(0, 0, 0, 0.15);\n",
              "      filter: drop-shadow(0px 1px 2px rgba(0, 0, 0, 0.3));\n",
              "      fill: #FFFFFF;\n",
              "    }\n",
              "  </style>\n",
              "\n",
              "      <script>\n",
              "        const buttonEl =\n",
              "          document.querySelector('#df-1a8ef252-40d1-47cb-9b61-4be091a9266f button.colab-df-convert');\n",
              "        buttonEl.style.display =\n",
              "          google.colab.kernel.accessAllowed ? 'block' : 'none';\n",
              "\n",
              "        async function convertToInteractive(key) {\n",
              "          const element = document.querySelector('#df-1a8ef252-40d1-47cb-9b61-4be091a9266f');\n",
              "          const dataTable =\n",
              "            await google.colab.kernel.invokeFunction('convertToInteractive',\n",
              "                                                     [key], {});\n",
              "          if (!dataTable) return;\n",
              "\n",
              "          const docLinkHtml = 'Like what you see? Visit the ' +\n",
              "            '<a target=\"_blank\" href=https://colab.research.google.com/notebooks/data_table.ipynb>data table notebook</a>'\n",
              "            + ' to learn more about interactive tables.';\n",
              "          element.innerHTML = '';\n",
              "          dataTable['output_type'] = 'display_data';\n",
              "          await google.colab.output.renderOutput(dataTable, element);\n",
              "          const docLink = document.createElement('div');\n",
              "          docLink.innerHTML = docLinkHtml;\n",
              "          element.appendChild(docLink);\n",
              "        }\n",
              "      </script>\n",
              "    </div>\n",
              "  </div>\n",
              "  "
            ],
            "text/plain": [
              "   age  ret_age  Gender  Zipcode yearly_income total_debt  fico_score\n",
              "0   53       66  Female    91750        $59696    $127613         787\n",
              "1   53       68  Female    11363        $77254    $191349         701\n",
              "2   81       67  Female    91792        $33483       $196         698\n",
              "3   63       63  Female    10069       $249925    $202328         722\n",
              "4   43       70    Male    94117       $109687    $183855         675"
            ]
          },
          "execution_count": 22,
          "metadata": {},
          "output_type": "execute_result"
        }
      ],
      "source": [
        "df_user.head()"
      ]
    },
    {
      "cell_type": "code",
      "execution_count": 23,
      "metadata": {
        "colab": {
          "base_uri": "https://localhost:8080/",
          "height": 206
        },
        "id": "CfKogB35-MqL",
        "outputId": "46039423-4a2b-4065-c42d-7985801cae1c"
      },
      "outputs": [
        {
          "data": {
            "text/html": [
              "\n",
              "  <div id=\"df-8cde1625-fd3d-476b-8d70-ea59c78e6df6\">\n",
              "    <div class=\"colab-df-container\">\n",
              "      <div>\n",
              "<style scoped>\n",
              "    .dataframe tbody tr th:only-of-type {\n",
              "        vertical-align: middle;\n",
              "    }\n",
              "\n",
              "    .dataframe tbody tr th {\n",
              "        vertical-align: top;\n",
              "    }\n",
              "\n",
              "    .dataframe thead th {\n",
              "        text-align: right;\n",
              "    }\n",
              "</style>\n",
              "<table border=\"1\" class=\"dataframe\">\n",
              "  <thead>\n",
              "    <tr style=\"text-align: right;\">\n",
              "      <th></th>\n",
              "      <th>age</th>\n",
              "      <th>ret_age</th>\n",
              "      <th>Gender</th>\n",
              "      <th>Zipcode</th>\n",
              "      <th>yearly_income</th>\n",
              "      <th>total_debt</th>\n",
              "      <th>fico_score</th>\n",
              "    </tr>\n",
              "  </thead>\n",
              "  <tbody>\n",
              "    <tr>\n",
              "      <th>0</th>\n",
              "      <td>53</td>\n",
              "      <td>66</td>\n",
              "      <td>1</td>\n",
              "      <td>91750</td>\n",
              "      <td>59696</td>\n",
              "      <td>127613</td>\n",
              "      <td>787</td>\n",
              "    </tr>\n",
              "    <tr>\n",
              "      <th>1</th>\n",
              "      <td>53</td>\n",
              "      <td>68</td>\n",
              "      <td>1</td>\n",
              "      <td>11363</td>\n",
              "      <td>77254</td>\n",
              "      <td>191349</td>\n",
              "      <td>701</td>\n",
              "    </tr>\n",
              "    <tr>\n",
              "      <th>2</th>\n",
              "      <td>81</td>\n",
              "      <td>67</td>\n",
              "      <td>1</td>\n",
              "      <td>91792</td>\n",
              "      <td>33483</td>\n",
              "      <td>196</td>\n",
              "      <td>698</td>\n",
              "    </tr>\n",
              "    <tr>\n",
              "      <th>3</th>\n",
              "      <td>63</td>\n",
              "      <td>63</td>\n",
              "      <td>1</td>\n",
              "      <td>10069</td>\n",
              "      <td>249925</td>\n",
              "      <td>202328</td>\n",
              "      <td>722</td>\n",
              "    </tr>\n",
              "    <tr>\n",
              "      <th>4</th>\n",
              "      <td>43</td>\n",
              "      <td>70</td>\n",
              "      <td>0</td>\n",
              "      <td>94117</td>\n",
              "      <td>109687</td>\n",
              "      <td>183855</td>\n",
              "      <td>675</td>\n",
              "    </tr>\n",
              "  </tbody>\n",
              "</table>\n",
              "</div>\n",
              "      <button class=\"colab-df-convert\" onclick=\"convertToInteractive('df-8cde1625-fd3d-476b-8d70-ea59c78e6df6')\"\n",
              "              title=\"Convert this dataframe to an interactive table.\"\n",
              "              style=\"display:none;\">\n",
              "        \n",
              "  <svg xmlns=\"http://www.w3.org/2000/svg\" height=\"24px\"viewBox=\"0 0 24 24\"\n",
              "       width=\"24px\">\n",
              "    <path d=\"M0 0h24v24H0V0z\" fill=\"none\"/>\n",
              "    <path d=\"M18.56 5.44l.94 2.06.94-2.06 2.06-.94-2.06-.94-.94-2.06-.94 2.06-2.06.94zm-11 1L8.5 8.5l.94-2.06 2.06-.94-2.06-.94L8.5 2.5l-.94 2.06-2.06.94zm10 10l.94 2.06.94-2.06 2.06-.94-2.06-.94-.94-2.06-.94 2.06-2.06.94z\"/><path d=\"M17.41 7.96l-1.37-1.37c-.4-.4-.92-.59-1.43-.59-.52 0-1.04.2-1.43.59L10.3 9.45l-7.72 7.72c-.78.78-.78 2.05 0 2.83L4 21.41c.39.39.9.59 1.41.59.51 0 1.02-.2 1.41-.59l7.78-7.78 2.81-2.81c.8-.78.8-2.07 0-2.86zM5.41 20L4 18.59l7.72-7.72 1.47 1.35L5.41 20z\"/>\n",
              "  </svg>\n",
              "      </button>\n",
              "      \n",
              "  <style>\n",
              "    .colab-df-container {\n",
              "      display:flex;\n",
              "      flex-wrap:wrap;\n",
              "      gap: 12px;\n",
              "    }\n",
              "\n",
              "    .colab-df-convert {\n",
              "      background-color: #E8F0FE;\n",
              "      border: none;\n",
              "      border-radius: 50%;\n",
              "      cursor: pointer;\n",
              "      display: none;\n",
              "      fill: #1967D2;\n",
              "      height: 32px;\n",
              "      padding: 0 0 0 0;\n",
              "      width: 32px;\n",
              "    }\n",
              "\n",
              "    .colab-df-convert:hover {\n",
              "      background-color: #E2EBFA;\n",
              "      box-shadow: 0px 1px 2px rgba(60, 64, 67, 0.3), 0px 1px 3px 1px rgba(60, 64, 67, 0.15);\n",
              "      fill: #174EA6;\n",
              "    }\n",
              "\n",
              "    [theme=dark] .colab-df-convert {\n",
              "      background-color: #3B4455;\n",
              "      fill: #D2E3FC;\n",
              "    }\n",
              "\n",
              "    [theme=dark] .colab-df-convert:hover {\n",
              "      background-color: #434B5C;\n",
              "      box-shadow: 0px 1px 3px 1px rgba(0, 0, 0, 0.15);\n",
              "      filter: drop-shadow(0px 1px 2px rgba(0, 0, 0, 0.3));\n",
              "      fill: #FFFFFF;\n",
              "    }\n",
              "  </style>\n",
              "\n",
              "      <script>\n",
              "        const buttonEl =\n",
              "          document.querySelector('#df-8cde1625-fd3d-476b-8d70-ea59c78e6df6 button.colab-df-convert');\n",
              "        buttonEl.style.display =\n",
              "          google.colab.kernel.accessAllowed ? 'block' : 'none';\n",
              "\n",
              "        async function convertToInteractive(key) {\n",
              "          const element = document.querySelector('#df-8cde1625-fd3d-476b-8d70-ea59c78e6df6');\n",
              "          const dataTable =\n",
              "            await google.colab.kernel.invokeFunction('convertToInteractive',\n",
              "                                                     [key], {});\n",
              "          if (!dataTable) return;\n",
              "\n",
              "          const docLinkHtml = 'Like what you see? Visit the ' +\n",
              "            '<a target=\"_blank\" href=https://colab.research.google.com/notebooks/data_table.ipynb>data table notebook</a>'\n",
              "            + ' to learn more about interactive tables.';\n",
              "          element.innerHTML = '';\n",
              "          dataTable['output_type'] = 'display_data';\n",
              "          await google.colab.output.renderOutput(dataTable, element);\n",
              "          const docLink = document.createElement('div');\n",
              "          docLink.innerHTML = docLinkHtml;\n",
              "          element.appendChild(docLink);\n",
              "        }\n",
              "      </script>\n",
              "    </div>\n",
              "  </div>\n",
              "  "
            ],
            "text/plain": [
              "   age  ret_age  Gender  Zipcode  yearly_income  total_debt  fico_score\n",
              "0   53       66       1    91750          59696      127613         787\n",
              "1   53       68       1    11363          77254      191349         701\n",
              "2   81       67       1    91792          33483         196         698\n",
              "3   63       63       1    10069         249925      202328         722\n",
              "4   43       70       0    94117         109687      183855         675"
            ]
          },
          "execution_count": 23,
          "metadata": {},
          "output_type": "execute_result"
        }
      ],
      "source": [
        "df_user.Gender = df_user.Gender.apply(lambda value:{'Male':0,'Female':1}[value])\n",
        "df_user.yearly_income = df_user.yearly_income.apply(lambda value:int(value.replace('$','')))\n",
        "df_user.total_debt = df_user.total_debt.apply(lambda value:int(value.replace('$','')))\n",
        "df_user.head()"
      ]
    },
    {
      "cell_type": "code",
      "execution_count": 24,
      "metadata": {
        "colab": {
          "base_uri": "https://localhost:8080/"
        },
        "id": "aQtDo3UpApd8",
        "outputId": "a9facbdf-3a71-4eab-88aa-c6c3df417d05"
      },
      "outputs": [
        {
          "name": "stdout",
          "output_type": "stream",
          "text": [
            "<class 'pandas.core.frame.DataFrame'>\n",
            "RangeIndex: 2000 entries, 0 to 1999\n",
            "Data columns (total 7 columns):\n",
            " #   Column         Non-Null Count  Dtype\n",
            "---  ------         --------------  -----\n",
            " 0   age            2000 non-null   int64\n",
            " 1   ret_age        2000 non-null   int64\n",
            " 2   Gender         2000 non-null   int64\n",
            " 3   Zipcode        2000 non-null   int64\n",
            " 4   yearly_income  2000 non-null   int64\n",
            " 5   total_debt     2000 non-null   int64\n",
            " 6   fico_score     2000 non-null   int64\n",
            "dtypes: int64(7)\n",
            "memory usage: 109.5 KB\n"
          ]
        }
      ],
      "source": [
        "df_user.info()"
      ]
    },
    {
      "cell_type": "code",
      "execution_count": 25,
      "metadata": {
        "id": "WCgY14E0A4oH"
      },
      "outputs": [],
      "source": [
        "df_user['Index'] = df_user.index"
      ]
    },
    {
      "cell_type": "code",
      "execution_count": 26,
      "metadata": {
        "id": "xgPTCH05EY1V"
      },
      "outputs": [],
      "source": [
        "merged_inner = pd.merge(left=df_transactions, right=df_user, left_on='User', right_on='Index')"
      ]
    },
    {
      "cell_type": "code",
      "execution_count": 27,
      "metadata": {
        "colab": {
          "base_uri": "https://localhost:8080/",
          "height": 206
        },
        "id": "ikyK9f1jG54N",
        "outputId": "99c4acd3-2237-4c03-e9a9-403f66b47afd"
      },
      "outputs": [
        {
          "data": {
            "text/html": [
              "\n",
              "  <div id=\"df-264dbf8c-79e8-4f1e-95ea-306a54ff2416\">\n",
              "    <div class=\"colab-df-container\">\n",
              "      <div>\n",
              "<style scoped>\n",
              "    .dataframe tbody tr th:only-of-type {\n",
              "        vertical-align: middle;\n",
              "    }\n",
              "\n",
              "    .dataframe tbody tr th {\n",
              "        vertical-align: top;\n",
              "    }\n",
              "\n",
              "    .dataframe thead th {\n",
              "        text-align: right;\n",
              "    }\n",
              "</style>\n",
              "<table border=\"1\" class=\"dataframe\">\n",
              "  <thead>\n",
              "    <tr style=\"text-align: right;\">\n",
              "      <th></th>\n",
              "      <th>User</th>\n",
              "      <th>Time</th>\n",
              "      <th>Amount</th>\n",
              "      <th>use_chip</th>\n",
              "      <th>MCC</th>\n",
              "      <th>transaction_error</th>\n",
              "      <th>is_fraud</th>\n",
              "      <th>age</th>\n",
              "      <th>ret_age</th>\n",
              "      <th>Gender</th>\n",
              "      <th>Zipcode</th>\n",
              "      <th>yearly_income</th>\n",
              "      <th>total_debt</th>\n",
              "      <th>fico_score</th>\n",
              "      <th>Index</th>\n",
              "    </tr>\n",
              "  </thead>\n",
              "  <tbody>\n",
              "    <tr>\n",
              "      <th>0</th>\n",
              "      <td>0</td>\n",
              "      <td>621</td>\n",
              "      <td>134.09</td>\n",
              "      <td>0</td>\n",
              "      <td>5300</td>\n",
              "      <td>0</td>\n",
              "      <td>0</td>\n",
              "      <td>53</td>\n",
              "      <td>66</td>\n",
              "      <td>1</td>\n",
              "      <td>91750</td>\n",
              "      <td>59696</td>\n",
              "      <td>127613</td>\n",
              "      <td>787</td>\n",
              "      <td>0</td>\n",
              "    </tr>\n",
              "    <tr>\n",
              "      <th>1</th>\n",
              "      <td>0</td>\n",
              "      <td>642</td>\n",
              "      <td>38.48</td>\n",
              "      <td>0</td>\n",
              "      <td>5411</td>\n",
              "      <td>0</td>\n",
              "      <td>0</td>\n",
              "      <td>53</td>\n",
              "      <td>66</td>\n",
              "      <td>1</td>\n",
              "      <td>91750</td>\n",
              "      <td>59696</td>\n",
              "      <td>127613</td>\n",
              "      <td>787</td>\n",
              "      <td>0</td>\n",
              "    </tr>\n",
              "    <tr>\n",
              "      <th>2</th>\n",
              "      <td>0</td>\n",
              "      <td>622</td>\n",
              "      <td>120.34</td>\n",
              "      <td>0</td>\n",
              "      <td>5411</td>\n",
              "      <td>0</td>\n",
              "      <td>0</td>\n",
              "      <td>53</td>\n",
              "      <td>66</td>\n",
              "      <td>1</td>\n",
              "      <td>91750</td>\n",
              "      <td>59696</td>\n",
              "      <td>127613</td>\n",
              "      <td>787</td>\n",
              "      <td>0</td>\n",
              "    </tr>\n",
              "    <tr>\n",
              "      <th>3</th>\n",
              "      <td>0</td>\n",
              "      <td>1745</td>\n",
              "      <td>128.95</td>\n",
              "      <td>0</td>\n",
              "      <td>5651</td>\n",
              "      <td>0</td>\n",
              "      <td>0</td>\n",
              "      <td>53</td>\n",
              "      <td>66</td>\n",
              "      <td>1</td>\n",
              "      <td>91750</td>\n",
              "      <td>59696</td>\n",
              "      <td>127613</td>\n",
              "      <td>787</td>\n",
              "      <td>0</td>\n",
              "    </tr>\n",
              "    <tr>\n",
              "      <th>4</th>\n",
              "      <td>0</td>\n",
              "      <td>623</td>\n",
              "      <td>104.71</td>\n",
              "      <td>0</td>\n",
              "      <td>5912</td>\n",
              "      <td>0</td>\n",
              "      <td>0</td>\n",
              "      <td>53</td>\n",
              "      <td>66</td>\n",
              "      <td>1</td>\n",
              "      <td>91750</td>\n",
              "      <td>59696</td>\n",
              "      <td>127613</td>\n",
              "      <td>787</td>\n",
              "      <td>0</td>\n",
              "    </tr>\n",
              "  </tbody>\n",
              "</table>\n",
              "</div>\n",
              "      <button class=\"colab-df-convert\" onclick=\"convertToInteractive('df-264dbf8c-79e8-4f1e-95ea-306a54ff2416')\"\n",
              "              title=\"Convert this dataframe to an interactive table.\"\n",
              "              style=\"display:none;\">\n",
              "        \n",
              "  <svg xmlns=\"http://www.w3.org/2000/svg\" height=\"24px\"viewBox=\"0 0 24 24\"\n",
              "       width=\"24px\">\n",
              "    <path d=\"M0 0h24v24H0V0z\" fill=\"none\"/>\n",
              "    <path d=\"M18.56 5.44l.94 2.06.94-2.06 2.06-.94-2.06-.94-.94-2.06-.94 2.06-2.06.94zm-11 1L8.5 8.5l.94-2.06 2.06-.94-2.06-.94L8.5 2.5l-.94 2.06-2.06.94zm10 10l.94 2.06.94-2.06 2.06-.94-2.06-.94-.94-2.06-.94 2.06-2.06.94z\"/><path d=\"M17.41 7.96l-1.37-1.37c-.4-.4-.92-.59-1.43-.59-.52 0-1.04.2-1.43.59L10.3 9.45l-7.72 7.72c-.78.78-.78 2.05 0 2.83L4 21.41c.39.39.9.59 1.41.59.51 0 1.02-.2 1.41-.59l7.78-7.78 2.81-2.81c.8-.78.8-2.07 0-2.86zM5.41 20L4 18.59l7.72-7.72 1.47 1.35L5.41 20z\"/>\n",
              "  </svg>\n",
              "      </button>\n",
              "      \n",
              "  <style>\n",
              "    .colab-df-container {\n",
              "      display:flex;\n",
              "      flex-wrap:wrap;\n",
              "      gap: 12px;\n",
              "    }\n",
              "\n",
              "    .colab-df-convert {\n",
              "      background-color: #E8F0FE;\n",
              "      border: none;\n",
              "      border-radius: 50%;\n",
              "      cursor: pointer;\n",
              "      display: none;\n",
              "      fill: #1967D2;\n",
              "      height: 32px;\n",
              "      padding: 0 0 0 0;\n",
              "      width: 32px;\n",
              "    }\n",
              "\n",
              "    .colab-df-convert:hover {\n",
              "      background-color: #E2EBFA;\n",
              "      box-shadow: 0px 1px 2px rgba(60, 64, 67, 0.3), 0px 1px 3px 1px rgba(60, 64, 67, 0.15);\n",
              "      fill: #174EA6;\n",
              "    }\n",
              "\n",
              "    [theme=dark] .colab-df-convert {\n",
              "      background-color: #3B4455;\n",
              "      fill: #D2E3FC;\n",
              "    }\n",
              "\n",
              "    [theme=dark] .colab-df-convert:hover {\n",
              "      background-color: #434B5C;\n",
              "      box-shadow: 0px 1px 3px 1px rgba(0, 0, 0, 0.15);\n",
              "      filter: drop-shadow(0px 1px 2px rgba(0, 0, 0, 0.3));\n",
              "      fill: #FFFFFF;\n",
              "    }\n",
              "  </style>\n",
              "\n",
              "      <script>\n",
              "        const buttonEl =\n",
              "          document.querySelector('#df-264dbf8c-79e8-4f1e-95ea-306a54ff2416 button.colab-df-convert');\n",
              "        buttonEl.style.display =\n",
              "          google.colab.kernel.accessAllowed ? 'block' : 'none';\n",
              "\n",
              "        async function convertToInteractive(key) {\n",
              "          const element = document.querySelector('#df-264dbf8c-79e8-4f1e-95ea-306a54ff2416');\n",
              "          const dataTable =\n",
              "            await google.colab.kernel.invokeFunction('convertToInteractive',\n",
              "                                                     [key], {});\n",
              "          if (!dataTable) return;\n",
              "\n",
              "          const docLinkHtml = 'Like what you see? Visit the ' +\n",
              "            '<a target=\"_blank\" href=https://colab.research.google.com/notebooks/data_table.ipynb>data table notebook</a>'\n",
              "            + ' to learn more about interactive tables.';\n",
              "          element.innerHTML = '';\n",
              "          dataTable['output_type'] = 'display_data';\n",
              "          await google.colab.output.renderOutput(dataTable, element);\n",
              "          const docLink = document.createElement('div');\n",
              "          docLink.innerHTML = docLinkHtml;\n",
              "          element.appendChild(docLink);\n",
              "        }\n",
              "      </script>\n",
              "    </div>\n",
              "  </div>\n",
              "  "
            ],
            "text/plain": [
              "   User  Time  Amount  use_chip   MCC  transaction_error  is_fraud  age  \\\n",
              "0     0   621  134.09         0  5300                  0         0   53   \n",
              "1     0   642   38.48         0  5411                  0         0   53   \n",
              "2     0   622  120.34         0  5411                  0         0   53   \n",
              "3     0  1745  128.95         0  5651                  0         0   53   \n",
              "4     0   623  104.71         0  5912                  0         0   53   \n",
              "\n",
              "   ret_age  Gender  Zipcode  yearly_income  total_debt  fico_score  Index  \n",
              "0       66       1    91750          59696      127613         787      0  \n",
              "1       66       1    91750          59696      127613         787      0  \n",
              "2       66       1    91750          59696      127613         787      0  \n",
              "3       66       1    91750          59696      127613         787      0  \n",
              "4       66       1    91750          59696      127613         787      0  "
            ]
          },
          "execution_count": 27,
          "metadata": {},
          "output_type": "execute_result"
        }
      ],
      "source": [
        "merged_inner.head()"
      ]
    },
    {
      "cell_type": "code",
      "execution_count": 28,
      "metadata": {
        "id": "3KKQto7UHH21"
      },
      "outputs": [],
      "source": [
        "df = merged_inner.drop(['User', 'Index'], axis=1)"
      ]
    },
    {
      "cell_type": "code",
      "execution_count": 29,
      "metadata": {
        "colab": {
          "base_uri": "https://localhost:8080/"
        },
        "id": "QdifSLGCW06U",
        "outputId": "673ed62a-10d0-4fb0-d34f-3163bce55615"
      },
      "outputs": [
        {
          "name": "stdout",
          "output_type": "stream",
          "text": [
            "<class 'pandas.core.frame.DataFrame'>\n",
            "Int64Index: 15500000 entries, 0 to 15499999\n",
            "Data columns (total 13 columns):\n",
            " #   Column             Dtype  \n",
            "---  ------             -----  \n",
            " 0   Time               int64  \n",
            " 1   Amount             float64\n",
            " 2   use_chip           int64  \n",
            " 3   MCC                int64  \n",
            " 4   transaction_error  int64  \n",
            " 5   is_fraud           int64  \n",
            " 6   age                int64  \n",
            " 7   ret_age            int64  \n",
            " 8   Gender             int64  \n",
            " 9   Zipcode            int64  \n",
            " 10  yearly_income      int64  \n",
            " 11  total_debt         int64  \n",
            " 12  fico_score         int64  \n",
            "dtypes: float64(1), int64(12)\n",
            "memory usage: 1.6 GB\n"
          ]
        }
      ],
      "source": [
        "df.info()"
      ]
    },
    {
      "cell_type": "code",
      "execution_count": null,
      "metadata": {
        "id": "0EwiifSLXM4q"
      },
      "outputs": [],
      "source": [
        "y=df.is_fraud \n",
        "df.drop('is_fraud', axis=1, inplace=True)\n",
        "X=df"
      ]
    },
    {
      "cell_type": "code",
      "execution_count": null,
      "metadata": {
        "id": "kzKI5-piPB2K"
      },
      "outputs": [],
      "source": [
        "oversample = SMOTE()\n",
        "X, y = oversample.fit_resample(X, y)"
      ]
    },
    {
      "cell_type": "code",
      "execution_count": null,
      "metadata": {
        "colab": {
          "base_uri": "https://localhost:8080/"
        },
        "id": "OfOvmBDcjcU1",
        "outputId": "48862fcc-ab0a-4f93-b7ea-fc9fb877a0d4"
      },
      "outputs": [
        {
          "data": {
            "text/plain": [
              "is_fraud\n",
              "0           15481335\n",
              "1           15481335\n",
              "dtype: int64"
            ]
          },
          "execution_count": 16,
          "metadata": {},
          "output_type": "execute_result"
        }
      ],
      "source": [
        "y.value_counts()"
      ]
    },
    {
      "cell_type": "code",
      "execution_count": null,
      "metadata": {
        "id": "QGhvfIa_XYMj"
      },
      "outputs": [],
      "source": [
        "X_train, X_test, y_train, y_test = train_test_split(X, y, test_size = 0.3, random_state = 0, stratify=y)"
      ]
    },
    {
      "cell_type": "code",
      "execution_count": null,
      "metadata": {
        "colab": {
          "base_uri": "https://localhost:8080/",
          "height": 1000,
          "referenced_widgets": [
            "c7bb8307452f43b0ba839e90f6f8ba21"
          ]
        },
        "id": "SLcyU_9VeOSK",
        "outputId": "9b80eb82-ab41-456c-83ec-8a81934efbf5"
      },
      "outputs": [
        {
          "data": {
            "application/vnd.jupyter.widget-view+json": {
              "model_id": "c7bb8307452f43b0ba839e90f6f8ba21",
              "version_major": 2,
              "version_minor": 0
            },
            "text/plain": [
              "MetricVisualizer(layout=Layout(align_self='stretch', height='500px'))"
            ]
          },
          "metadata": {},
          "output_type": "display_data"
        },
        {
          "name": "stdout",
          "output_type": "stream",
          "text": [
            "Learning rate set to 0.5\n",
            "0:\tlearn: 0.4663000\ttotal: 6.37s\tremaining: 1h 46m 7s\n",
            "1:\tlearn: 0.4107490\ttotal: 11.3s\tremaining: 1h 33m 48s\n",
            "2:\tlearn: 0.3610566\ttotal: 16s\tremaining: 1h 28m 44s\n",
            "3:\tlearn: 0.3284013\ttotal: 22.9s\tremaining: 1h 35m 10s\n",
            "4:\tlearn: 0.3029885\ttotal: 27.2s\tremaining: 1h 30m 9s\n",
            "5:\tlearn: 0.2804722\ttotal: 31.8s\tremaining: 1h 27m 54s\n",
            "6:\tlearn: 0.2656735\ttotal: 38.1s\tremaining: 1h 30m 1s\n",
            "7:\tlearn: 0.2485244\ttotal: 42.2s\tremaining: 1h 27m 14s\n",
            "8:\tlearn: 0.2425178\ttotal: 46.5s\tremaining: 1h 25m 15s\n",
            "9:\tlearn: 0.2376778\ttotal: 53.2s\tremaining: 1h 27m 43s\n",
            "10:\tlearn: 0.2323761\ttotal: 57.4s\tremaining: 1h 26m 5s\n",
            "11:\tlearn: 0.2289995\ttotal: 1m 2s\tremaining: 1h 25m 6s\n",
            "12:\tlearn: 0.2147502\ttotal: 1m 8s\tremaining: 1h 26m 25s\n",
            "13:\tlearn: 0.2112499\ttotal: 1m 12s\tremaining: 1h 25m 5s\n",
            "14:\tlearn: 0.2007850\ttotal: 1m 18s\tremaining: 1h 25m 48s\n",
            "15:\tlearn: 0.1968905\ttotal: 1m 23s\tremaining: 1h 25m 51s\n",
            "16:\tlearn: 0.1903314\ttotal: 1m 28s\tremaining: 1h 25m 3s\n",
            "17:\tlearn: 0.1846520\ttotal: 1m 35s\tremaining: 1h 26m 33s\n",
            "18:\tlearn: 0.1826801\ttotal: 1m 39s\tremaining: 1h 25m 30s\n",
            "19:\tlearn: 0.1811715\ttotal: 1m 43s\tremaining: 1h 24m 36s\n",
            "20:\tlearn: 0.1765267\ttotal: 1m 50s\tremaining: 1h 25m 35s\n",
            "21:\tlearn: 0.1722314\ttotal: 1m 55s\tremaining: 1h 25m 17s\n",
            "22:\tlearn: 0.1712638\ttotal: 1m 59s\tremaining: 1h 24m 19s\n",
            "23:\tlearn: 0.1692860\ttotal: 2m 5s\tremaining: 1h 24m 44s\n",
            "24:\tlearn: 0.1679408\ttotal: 2m 9s\tremaining: 1h 24m 13s\n",
            "25:\tlearn: 0.1604567\ttotal: 2m 15s\tremaining: 1h 24m 24s\n",
            "26:\tlearn: 0.1574528\ttotal: 2m 20s\tremaining: 1h 24m 30s\n",
            "27:\tlearn: 0.1568320\ttotal: 2m 24s\tremaining: 1h 23m 48s\n",
            "28:\tlearn: 0.1520434\ttotal: 2m 31s\tremaining: 1h 24m 19s\n",
            "29:\tlearn: 0.1501471\ttotal: 2m 35s\tremaining: 1h 23m 52s\n",
            "30:\tlearn: 0.1479244\ttotal: 2m 40s\tremaining: 1h 23m 27s\n",
            "31:\tlearn: 0.1459755\ttotal: 2m 46s\tremaining: 1h 23m 51s\n",
            "32:\tlearn: 0.1442995\ttotal: 2m 50s\tremaining: 1h 23m 17s\n",
            "33:\tlearn: 0.1430386\ttotal: 2m 55s\tremaining: 1h 23m 2s\n",
            "34:\tlearn: 0.1408788\ttotal: 3m 1s\tremaining: 1h 23m 30s\n",
            "35:\tlearn: 0.1389372\ttotal: 3m 6s\tremaining: 1h 23m 3s\n",
            "36:\tlearn: 0.1371045\ttotal: 3m 11s\tremaining: 1h 22m 52s\n",
            "37:\tlearn: 0.1355190\ttotal: 3m 17s\tremaining: 1h 23m 14s\n",
            "38:\tlearn: 0.1345511\ttotal: 3m 21s\tremaining: 1h 22m 43s\n",
            "39:\tlearn: 0.1337369\ttotal: 3m 26s\tremaining: 1h 22m 38s\n",
            "40:\tlearn: 0.1314715\ttotal: 3m 32s\tremaining: 1h 22m 48s\n",
            "41:\tlearn: 0.1299357\ttotal: 3m 37s\tremaining: 1h 22m 37s\n",
            "42:\tlearn: 0.1274139\ttotal: 3m 43s\tremaining: 1h 22m 52s\n",
            "43:\tlearn: 0.1266215\ttotal: 3m 47s\tremaining: 1h 22m 32s\n",
            "44:\tlearn: 0.1238012\ttotal: 3m 52s\tremaining: 1h 22m 15s\n",
            "45:\tlearn: 0.1229568\ttotal: 3m 58s\tremaining: 1h 22m 33s\n",
            "46:\tlearn: 0.1221152\ttotal: 4m 3s\tremaining: 1h 22m 8s\n",
            "47:\tlearn: 0.1214935\ttotal: 4m 7s\tremaining: 1h 21m 47s\n",
            "48:\tlearn: 0.1205591\ttotal: 4m 13s\tremaining: 1h 21m 55s\n",
            "49:\tlearn: 0.1196835\ttotal: 4m 18s\tremaining: 1h 21m 45s\n",
            "50:\tlearn: 0.1188476\ttotal: 4m 22s\tremaining: 1h 21m 33s\n",
            "51:\tlearn: 0.1183530\ttotal: 4m 28s\tremaining: 1h 21m 36s\n",
            "52:\tlearn: 0.1174173\ttotal: 4m 33s\tremaining: 1h 21m 20s\n",
            "53:\tlearn: 0.1161224\ttotal: 4m 38s\tremaining: 1h 21m 16s\n",
            "54:\tlearn: 0.1154983\ttotal: 4m 43s\tremaining: 1h 21m 6s\n",
            "55:\tlearn: 0.1146244\ttotal: 4m 48s\tremaining: 1h 20m 55s\n",
            "56:\tlearn: 0.1141344\ttotal: 4m 54s\tremaining: 1h 21m 5s\n",
            "57:\tlearn: 0.1136445\ttotal: 4m 58s\tremaining: 1h 20m 48s\n",
            "58:\tlearn: 0.1130067\ttotal: 5m 3s\tremaining: 1h 20m 35s\n",
            "59:\tlearn: 0.1124346\ttotal: 5m 9s\tremaining: 1h 20m 46s\n",
            "60:\tlearn: 0.1116542\ttotal: 5m 14s\tremaining: 1h 20m 34s\n",
            "61:\tlearn: 0.1108580\ttotal: 5m 18s\tremaining: 1h 20m 14s\n",
            "62:\tlearn: 0.1100956\ttotal: 5m 24s\tremaining: 1h 20m 25s\n",
            "63:\tlearn: 0.1097439\ttotal: 5m 28s\tremaining: 1h 20m 8s\n",
            "64:\tlearn: 0.1091379\ttotal: 5m 33s\tremaining: 1h 19m 53s\n",
            "65:\tlearn: 0.1085772\ttotal: 5m 39s\tremaining: 1h 20m 5s\n",
            "66:\tlearn: 0.1081137\ttotal: 5m 44s\tremaining: 1h 19m 51s\n",
            "67:\tlearn: 0.1073591\ttotal: 5m 49s\tremaining: 1h 19m 50s\n",
            "68:\tlearn: 0.1061386\ttotal: 5m 54s\tremaining: 1h 19m 48s\n",
            "69:\tlearn: 0.1055383\ttotal: 5m 59s\tremaining: 1h 19m 35s\n",
            "70:\tlearn: 0.1048711\ttotal: 6m 5s\tremaining: 1h 19m 44s\n",
            "71:\tlearn: 0.1044985\ttotal: 6m 10s\tremaining: 1h 19m 31s\n",
            "72:\tlearn: 0.1041100\ttotal: 6m 14s\tremaining: 1h 19m 15s\n",
            "73:\tlearn: 0.1038125\ttotal: 6m 20s\tremaining: 1h 19m 22s\n",
            "74:\tlearn: 0.1029461\ttotal: 6m 25s\tremaining: 1h 19m 9s\n",
            "75:\tlearn: 0.1023092\ttotal: 6m 30s\tremaining: 1h 19m 2s\n",
            "76:\tlearn: 0.1018844\ttotal: 6m 36s\tremaining: 1h 19m 15s\n",
            "77:\tlearn: 0.1013313\ttotal: 6m 41s\tremaining: 1h 19m 3s\n",
            "78:\tlearn: 0.1010854\ttotal: 6m 46s\tremaining: 1h 18m 59s\n",
            "79:\tlearn: 0.1004016\ttotal: 6m 51s\tremaining: 1h 18m 53s\n",
            "80:\tlearn: 0.1000858\ttotal: 6m 55s\tremaining: 1h 18m 39s\n",
            "81:\tlearn: 0.0998547\ttotal: 7m 1s\tremaining: 1h 18m 40s\n",
            "82:\tlearn: 0.0997144\ttotal: 7m 6s\tremaining: 1h 18m 29s\n",
            "83:\tlearn: 0.0990623\ttotal: 7m 10s\tremaining: 1h 18m 16s\n",
            "84:\tlearn: 0.0987987\ttotal: 7m 16s\tremaining: 1h 18m 21s\n",
            "85:\tlearn: 0.0985305\ttotal: 7m 20s\tremaining: 1h 18m 5s\n",
            "86:\tlearn: 0.0982154\ttotal: 7m 25s\tremaining: 1h 17m 54s\n",
            "87:\tlearn: 0.0979415\ttotal: 7m 31s\tremaining: 1h 18m\n",
            "88:\tlearn: 0.0975104\ttotal: 7m 35s\tremaining: 1h 17m 45s\n",
            "89:\tlearn: 0.0971560\ttotal: 7m 40s\tremaining: 1h 17m 37s\n",
            "90:\tlearn: 0.0966810\ttotal: 7m 47s\tremaining: 1h 17m 46s\n",
            "91:\tlearn: 0.0962419\ttotal: 7m 52s\tremaining: 1h 17m 39s\n",
            "92:\tlearn: 0.0958168\ttotal: 7m 56s\tremaining: 1h 17m 29s\n",
            "93:\tlearn: 0.0956022\ttotal: 8m 2s\tremaining: 1h 17m 30s\n",
            "94:\tlearn: 0.0951358\ttotal: 8m 6s\tremaining: 1h 17m 14s\n",
            "95:\tlearn: 0.0945973\ttotal: 8m 11s\tremaining: 1h 17m 6s\n",
            "96:\tlearn: 0.0943078\ttotal: 8m 16s\tremaining: 1h 17m 3s\n",
            "97:\tlearn: 0.0941336\ttotal: 8m 21s\tremaining: 1h 16m 51s\n",
            "98:\tlearn: 0.0937520\ttotal: 8m 26s\tremaining: 1h 16m 52s\n",
            "99:\tlearn: 0.0934948\ttotal: 8m 31s\tremaining: 1h 16m 45s\n",
            "100:\tlearn: 0.0932178\ttotal: 8m 36s\tremaining: 1h 16m 34s\n",
            "101:\tlearn: 0.0929854\ttotal: 8m 41s\tremaining: 1h 16m 34s\n",
            "102:\tlearn: 0.0927073\ttotal: 8m 46s\tremaining: 1h 16m 26s\n",
            "103:\tlearn: 0.0924646\ttotal: 8m 50s\tremaining: 1h 16m 13s\n",
            "104:\tlearn: 0.0919597\ttotal: 8m 57s\tremaining: 1h 16m 18s\n",
            "105:\tlearn: 0.0914741\ttotal: 9m 1s\tremaining: 1h 16m 6s\n",
            "106:\tlearn: 0.0911094\ttotal: 9m 6s\tremaining: 1h 15m 58s\n",
            "107:\tlearn: 0.0907528\ttotal: 9m 12s\tremaining: 1h 16m 1s\n",
            "108:\tlearn: 0.0903229\ttotal: 9m 16s\tremaining: 1h 15m 50s\n",
            "109:\tlearn: 0.0898277\ttotal: 9m 21s\tremaining: 1h 15m 40s\n",
            "110:\tlearn: 0.0893457\ttotal: 9m 27s\tremaining: 1h 15m 48s\n",
            "111:\tlearn: 0.0890757\ttotal: 9m 32s\tremaining: 1h 15m 36s\n",
            "112:\tlearn: 0.0889181\ttotal: 9m 36s\tremaining: 1h 15m 27s\n",
            "113:\tlearn: 0.0886083\ttotal: 9m 42s\tremaining: 1h 15m 28s\n",
            "114:\tlearn: 0.0883543\ttotal: 9m 47s\tremaining: 1h 15m 18s\n",
            "115:\tlearn: 0.0881016\ttotal: 9m 52s\tremaining: 1h 15m 15s\n",
            "116:\tlearn: 0.0869667\ttotal: 9m 57s\tremaining: 1h 15m 12s\n",
            "117:\tlearn: 0.0868420\ttotal: 10m 2s\tremaining: 1h 15m 1s\n",
            "118:\tlearn: 0.0866652\ttotal: 10m 8s\tremaining: 1h 15m 2s\n",
            "119:\tlearn: 0.0862866\ttotal: 10m 12s\tremaining: 1h 14m 53s\n",
            "120:\tlearn: 0.0859975\ttotal: 10m 20s\tremaining: 1h 15m 6s\n",
            "121:\tlearn: 0.0855578\ttotal: 10m 26s\tremaining: 1h 15m 5s\n",
            "122:\tlearn: 0.0853089\ttotal: 10m 30s\tremaining: 1h 14m 55s\n",
            "123:\tlearn: 0.0850580\ttotal: 10m 36s\tremaining: 1h 14m 53s\n",
            "124:\tlearn: 0.0848475\ttotal: 10m 41s\tremaining: 1h 14m 49s\n",
            "125:\tlearn: 0.0846438\ttotal: 10m 45s\tremaining: 1h 14m 40s\n",
            "126:\tlearn: 0.0843517\ttotal: 10m 51s\tremaining: 1h 14m 39s\n",
            "127:\tlearn: 0.0840569\ttotal: 10m 56s\tremaining: 1h 14m 29s\n",
            "128:\tlearn: 0.0838984\ttotal: 11m\tremaining: 1h 14m 19s\n",
            "129:\tlearn: 0.0835929\ttotal: 11m 7s\tremaining: 1h 14m 24s\n",
            "130:\tlearn: 0.0833050\ttotal: 11m 11s\tremaining: 1h 14m 16s\n",
            "131:\tlearn: 0.0831116\ttotal: 11m 16s\tremaining: 1h 14m 8s\n",
            "132:\tlearn: 0.0827900\ttotal: 11m 22s\tremaining: 1h 14m 9s\n",
            "133:\tlearn: 0.0826166\ttotal: 11m 27s\tremaining: 1h 14m\n",
            "134:\tlearn: 0.0824478\ttotal: 11m 31s\tremaining: 1h 13m 50s\n",
            "135:\tlearn: 0.0823569\ttotal: 11m 37s\tremaining: 1h 13m 49s\n",
            "136:\tlearn: 0.0821235\ttotal: 11m 41s\tremaining: 1h 13m 40s\n",
            "137:\tlearn: 0.0819676\ttotal: 11m 46s\tremaining: 1h 13m 33s\n",
            "138:\tlearn: 0.0818048\ttotal: 11m 52s\tremaining: 1h 13m 32s\n",
            "139:\tlearn: 0.0816510\ttotal: 11m 56s\tremaining: 1h 13m 21s\n",
            "140:\tlearn: 0.0815266\ttotal: 12m 1s\tremaining: 1h 13m 14s\n",
            "141:\tlearn: 0.0813086\ttotal: 12m 6s\tremaining: 1h 13m 10s\n",
            "142:\tlearn: 0.0811249\ttotal: 12m 11s\tremaining: 1h 13m 1s\n",
            "143:\tlearn: 0.0809853\ttotal: 12m 15s\tremaining: 1h 12m 55s\n",
            "144:\tlearn: 0.0808271\ttotal: 12m 21s\tremaining: 1h 12m 51s\n",
            "145:\tlearn: 0.0806870\ttotal: 12m 25s\tremaining: 1h 12m 41s\n",
            "146:\tlearn: 0.0805324\ttotal: 12m 30s\tremaining: 1h 12m 35s\n",
            "147:\tlearn: 0.0804111\ttotal: 12m 35s\tremaining: 1h 12m 31s\n",
            "148:\tlearn: 0.0802842\ttotal: 12m 39s\tremaining: 1h 12m 20s\n",
            "149:\tlearn: 0.0801260\ttotal: 12m 45s\tremaining: 1h 12m 17s\n",
            "150:\tlearn: 0.0799614\ttotal: 12m 50s\tremaining: 1h 12m 12s\n",
            "151:\tlearn: 0.0798056\ttotal: 12m 55s\tremaining: 1h 12m 4s\n",
            "152:\tlearn: 0.0796896\ttotal: 13m 1s\tremaining: 1h 12m 6s\n",
            "153:\tlearn: 0.0795095\ttotal: 13m 5s\tremaining: 1h 11m 55s\n",
            "154:\tlearn: 0.0793972\ttotal: 13m 10s\tremaining: 1h 11m 48s\n",
            "155:\tlearn: 0.0791541\ttotal: 13m 16s\tremaining: 1h 11m 50s\n",
            "156:\tlearn: 0.0790261\ttotal: 13m 21s\tremaining: 1h 11m 43s\n",
            "157:\tlearn: 0.0788350\ttotal: 13m 26s\tremaining: 1h 11m 38s\n",
            "158:\tlearn: 0.0786926\ttotal: 13m 32s\tremaining: 1h 11m 37s\n",
            "159:\tlearn: 0.0786397\ttotal: 13m 36s\tremaining: 1h 11m 27s\n",
            "160:\tlearn: 0.0785763\ttotal: 13m 41s\tremaining: 1h 11m 20s\n",
            "161:\tlearn: 0.0784602\ttotal: 13m 47s\tremaining: 1h 11m 19s\n",
            "162:\tlearn: 0.0781950\ttotal: 13m 51s\tremaining: 1h 11m 12s\n",
            "163:\tlearn: 0.0780615\ttotal: 13m 58s\tremaining: 1h 11m 14s\n",
            "164:\tlearn: 0.0778599\ttotal: 14m 3s\tremaining: 1h 11m 6s\n",
            "165:\tlearn: 0.0775887\ttotal: 14m 7s\tremaining: 1h 10m 58s\n",
            "166:\tlearn: 0.0773160\ttotal: 14m 13s\tremaining: 1h 10m 59s\n",
            "167:\tlearn: 0.0771600\ttotal: 14m 18s\tremaining: 1h 10m 51s\n",
            "168:\tlearn: 0.0770933\ttotal: 14m 22s\tremaining: 1h 10m 40s\n",
            "169:\tlearn: 0.0769348\ttotal: 14m 28s\tremaining: 1h 10m 41s\n",
            "170:\tlearn: 0.0768564\ttotal: 14m 32s\tremaining: 1h 10m 30s\n",
            "171:\tlearn: 0.0766932\ttotal: 14m 36s\tremaining: 1h 10m 20s\n",
            "172:\tlearn: 0.0765652\ttotal: 14m 43s\tremaining: 1h 10m 21s\n",
            "173:\tlearn: 0.0764349\ttotal: 14m 47s\tremaining: 1h 10m 14s\n",
            "174:\tlearn: 0.0762821\ttotal: 14m 53s\tremaining: 1h 10m 10s\n",
            "175:\tlearn: 0.0762101\ttotal: 14m 58s\tremaining: 1h 10m 8s\n",
            "176:\tlearn: 0.0760395\ttotal: 15m 3s\tremaining: 1h 10m\n",
            "177:\tlearn: 0.0759172\ttotal: 15m 8s\tremaining: 1h 9m 54s\n",
            "178:\tlearn: 0.0757544\ttotal: 15m 13s\tremaining: 1h 9m 51s\n",
            "179:\tlearn: 0.0756018\ttotal: 15m 18s\tremaining: 1h 9m 44s\n",
            "180:\tlearn: 0.0755044\ttotal: 15m 24s\tremaining: 1h 9m 44s\n",
            "181:\tlearn: 0.0753149\ttotal: 15m 29s\tremaining: 1h 9m 38s\n",
            "182:\tlearn: 0.0751963\ttotal: 15m 34s\tremaining: 1h 9m 29s\n",
            "183:\tlearn: 0.0749967\ttotal: 15m 40s\tremaining: 1h 9m 31s\n",
            "184:\tlearn: 0.0747332\ttotal: 15m 45s\tremaining: 1h 9m 24s\n",
            "185:\tlearn: 0.0745346\ttotal: 15m 49s\tremaining: 1h 9m 17s\n",
            "186:\tlearn: 0.0744682\ttotal: 15m 55s\tremaining: 1h 9m 15s\n",
            "187:\tlearn: 0.0741542\ttotal: 16m\tremaining: 1h 9m 8s\n",
            "188:\tlearn: 0.0740638\ttotal: 16m 5s\tremaining: 1h 9m 3s\n",
            "189:\tlearn: 0.0739737\ttotal: 16m 10s\tremaining: 1h 8m 58s\n",
            "190:\tlearn: 0.0738495\ttotal: 16m 15s\tremaining: 1h 8m 50s\n",
            "191:\tlearn: 0.0737424\ttotal: 16m 21s\tremaining: 1h 8m 48s\n",
            "192:\tlearn: 0.0734971\ttotal: 16m 25s\tremaining: 1h 8m 41s\n",
            "193:\tlearn: 0.0734139\ttotal: 16m 30s\tremaining: 1h 8m 33s\n",
            "194:\tlearn: 0.0732589\ttotal: 16m 36s\tremaining: 1h 8m 34s\n",
            "195:\tlearn: 0.0731778\ttotal: 16m 41s\tremaining: 1h 8m 26s\n",
            "196:\tlearn: 0.0730735\ttotal: 16m 45s\tremaining: 1h 8m 19s\n",
            "197:\tlearn: 0.0729733\ttotal: 16m 52s\tremaining: 1h 8m 19s\n",
            "198:\tlearn: 0.0728850\ttotal: 16m 56s\tremaining: 1h 8m 10s\n",
            "199:\tlearn: 0.0727283\ttotal: 17m\tremaining: 1h 8m 3s\n",
            "200:\tlearn: 0.0725445\ttotal: 17m 7s\tremaining: 1h 8m 3s\n",
            "201:\tlearn: 0.0724073\ttotal: 17m 11s\tremaining: 1h 7m 55s\n",
            "202:\tlearn: 0.0722412\ttotal: 17m 16s\tremaining: 1h 7m 49s\n",
            "203:\tlearn: 0.0721217\ttotal: 17m 22s\tremaining: 1h 7m 46s\n",
            "204:\tlearn: 0.0719451\ttotal: 17m 26s\tremaining: 1h 7m 39s\n",
            "205:\tlearn: 0.0718997\ttotal: 17m 32s\tremaining: 1h 7m 35s\n",
            "206:\tlearn: 0.0717209\ttotal: 17m 37s\tremaining: 1h 7m 31s\n",
            "207:\tlearn: 0.0715599\ttotal: 17m 41s\tremaining: 1h 7m 22s\n",
            "208:\tlearn: 0.0714042\ttotal: 17m 47s\tremaining: 1h 7m 19s\n",
            "209:\tlearn: 0.0713232\ttotal: 17m 52s\tremaining: 1h 7m 13s\n",
            "210:\tlearn: 0.0711130\ttotal: 17m 56s\tremaining: 1h 7m 6s\n",
            "211:\tlearn: 0.0710618\ttotal: 18m 3s\tremaining: 1h 7m 5s\n",
            "212:\tlearn: 0.0709309\ttotal: 18m 7s\tremaining: 1h 6m 57s\n",
            "213:\tlearn: 0.0708749\ttotal: 18m 11s\tremaining: 1h 6m 49s\n",
            "214:\tlearn: 0.0707757\ttotal: 18m 18s\tremaining: 1h 6m 48s\n",
            "215:\tlearn: 0.0706548\ttotal: 18m 21s\tremaining: 1h 6m 39s\n",
            "216:\tlearn: 0.0705383\ttotal: 18m 26s\tremaining: 1h 6m 32s\n",
            "217:\tlearn: 0.0704500\ttotal: 18m 32s\tremaining: 1h 6m 31s\n",
            "218:\tlearn: 0.0703590\ttotal: 18m 37s\tremaining: 1h 6m 24s\n",
            "219:\tlearn: 0.0702097\ttotal: 18m 42s\tremaining: 1h 6m 19s\n",
            "220:\tlearn: 0.0701077\ttotal: 18m 48s\tremaining: 1h 6m 16s\n",
            "221:\tlearn: 0.0698837\ttotal: 18m 52s\tremaining: 1h 6m 10s\n",
            "222:\tlearn: 0.0698260\ttotal: 18m 58s\tremaining: 1h 6m 6s\n",
            "223:\tlearn: 0.0697165\ttotal: 19m 3s\tremaining: 1h 6m\n",
            "224:\tlearn: 0.0695866\ttotal: 19m 7s\tremaining: 1h 5m 53s\n",
            "225:\tlearn: 0.0694717\ttotal: 19m 12s\tremaining: 1h 5m 48s\n",
            "226:\tlearn: 0.0692834\ttotal: 19m 17s\tremaining: 1h 5m 43s\n",
            "227:\tlearn: 0.0692170\ttotal: 19m 22s\tremaining: 1h 5m 34s\n",
            "228:\tlearn: 0.0690898\ttotal: 19m 28s\tremaining: 1h 5m 35s\n",
            "229:\tlearn: 0.0689763\ttotal: 19m 33s\tremaining: 1h 5m 28s\n",
            "230:\tlearn: 0.0687731\ttotal: 19m 37s\tremaining: 1h 5m 20s\n",
            "231:\tlearn: 0.0686173\ttotal: 19m 44s\tremaining: 1h 5m 20s\n",
            "232:\tlearn: 0.0684992\ttotal: 19m 48s\tremaining: 1h 5m 13s\n",
            "233:\tlearn: 0.0684444\ttotal: 19m 53s\tremaining: 1h 5m 6s\n",
            "234:\tlearn: 0.0682596\ttotal: 19m 59s\tremaining: 1h 5m 5s\n",
            "235:\tlearn: 0.0681029\ttotal: 20m 4s\tremaining: 1h 4m 59s\n",
            "236:\tlearn: 0.0680487\ttotal: 20m 9s\tremaining: 1h 4m 54s\n",
            "237:\tlearn: 0.0678787\ttotal: 20m 14s\tremaining: 1h 4m 49s\n",
            "238:\tlearn: 0.0678256\ttotal: 20m 19s\tremaining: 1h 4m 42s\n",
            "239:\tlearn: 0.0677143\ttotal: 20m 25s\tremaining: 1h 4m 39s\n",
            "240:\tlearn: 0.0676500\ttotal: 20m 29s\tremaining: 1h 4m 33s\n",
            "241:\tlearn: 0.0675376\ttotal: 20m 34s\tremaining: 1h 4m 25s\n",
            "242:\tlearn: 0.0674761\ttotal: 20m 40s\tremaining: 1h 4m 23s\n",
            "243:\tlearn: 0.0673404\ttotal: 20m 44s\tremaining: 1h 4m 17s\n",
            "244:\tlearn: 0.0672278\ttotal: 20m 49s\tremaining: 1h 4m 9s\n",
            "245:\tlearn: 0.0670899\ttotal: 20m 55s\tremaining: 1h 4m 7s\n",
            "246:\tlearn: 0.0669664\ttotal: 20m 59s\tremaining: 1h 4m 1s\n",
            "247:\tlearn: 0.0668553\ttotal: 21m 4s\tremaining: 1h 3m 54s\n",
            "248:\tlearn: 0.0667523\ttotal: 21m 11s\tremaining: 1h 3m 53s\n",
            "249:\tlearn: 0.0666259\ttotal: 21m 15s\tremaining: 1h 3m 46s\n",
            "250:\tlearn: 0.0665628\ttotal: 21m 20s\tremaining: 1h 3m 41s\n",
            "251:\tlearn: 0.0664726\ttotal: 21m 25s\tremaining: 1h 3m 36s\n",
            "252:\tlearn: 0.0663209\ttotal: 21m 30s\tremaining: 1h 3m 29s\n",
            "253:\tlearn: 0.0661879\ttotal: 21m 36s\tremaining: 1h 3m 27s\n",
            "254:\tlearn: 0.0661169\ttotal: 21m 40s\tremaining: 1h 3m 20s\n",
            "255:\tlearn: 0.0660193\ttotal: 21m 45s\tremaining: 1h 3m 12s\n",
            "256:\tlearn: 0.0659139\ttotal: 21m 51s\tremaining: 1h 3m 12s\n",
            "257:\tlearn: 0.0657863\ttotal: 21m 56s\tremaining: 1h 3m 6s\n",
            "258:\tlearn: 0.0657056\ttotal: 22m 1s\tremaining: 1h 3m\n",
            "259:\tlearn: 0.0656168\ttotal: 22m 7s\tremaining: 1h 2m 59s\n",
            "260:\tlearn: 0.0655256\ttotal: 22m 12s\tremaining: 1h 2m 52s\n",
            "261:\tlearn: 0.0654198\ttotal: 22m 17s\tremaining: 1h 2m 46s\n",
            "262:\tlearn: 0.0653473\ttotal: 22m 22s\tremaining: 1h 2m 41s\n",
            "263:\tlearn: 0.0651760\ttotal: 22m 26s\tremaining: 1h 2m 35s\n",
            "264:\tlearn: 0.0650991\ttotal: 22m 32s\tremaining: 1h 2m 30s\n",
            "265:\tlearn: 0.0650184\ttotal: 22m 37s\tremaining: 1h 2m 26s\n",
            "266:\tlearn: 0.0649623\ttotal: 22m 41s\tremaining: 1h 2m 17s\n",
            "267:\tlearn: 0.0648768\ttotal: 22m 46s\tremaining: 1h 2m 12s\n",
            "268:\tlearn: 0.0648231\ttotal: 22m 51s\tremaining: 1h 2m 8s\n",
            "269:\tlearn: 0.0647297\ttotal: 22m 56s\tremaining: 1h 2m 1s\n",
            "270:\tlearn: 0.0646275\ttotal: 23m 2s\tremaining: 1h 1m 59s\n",
            "271:\tlearn: 0.0645682\ttotal: 23m 6s\tremaining: 1h 1m 51s\n",
            "272:\tlearn: 0.0645465\ttotal: 23m 10s\tremaining: 1h 1m 43s\n",
            "273:\tlearn: 0.0644822\ttotal: 23m 17s\tremaining: 1h 1m 41s\n",
            "274:\tlearn: 0.0644103\ttotal: 23m 21s\tremaining: 1h 1m 35s\n",
            "275:\tlearn: 0.0643431\ttotal: 23m 25s\tremaining: 1h 1m 27s\n",
            "276:\tlearn: 0.0642757\ttotal: 23m 32s\tremaining: 1h 1m 25s\n",
            "277:\tlearn: 0.0641770\ttotal: 23m 36s\tremaining: 1h 1m 18s\n",
            "278:\tlearn: 0.0641464\ttotal: 23m 40s\tremaining: 1h 1m 11s\n",
            "279:\tlearn: 0.0640366\ttotal: 23m 46s\tremaining: 1h 1m 9s\n",
            "280:\tlearn: 0.0639660\ttotal: 23m 51s\tremaining: 1h 1m 2s\n",
            "281:\tlearn: 0.0638687\ttotal: 23m 56s\tremaining: 1h 57s\n",
            "282:\tlearn: 0.0637683\ttotal: 24m 2s\tremaining: 1h 55s\n",
            "283:\tlearn: 0.0637127\ttotal: 24m 6s\tremaining: 1h 47s\n",
            "284:\tlearn: 0.0636245\ttotal: 24m 12s\tremaining: 1h 43s\n",
            "285:\tlearn: 0.0635393\ttotal: 24m 17s\tremaining: 1h 39s\n",
            "286:\tlearn: 0.0634298\ttotal: 24m 22s\tremaining: 1h 32s\n",
            "287:\tlearn: 0.0633562\ttotal: 24m 28s\tremaining: 1h 30s\n",
            "288:\tlearn: 0.0632646\ttotal: 24m 32s\tremaining: 1h 22s\n",
            "289:\tlearn: 0.0631374\ttotal: 24m 36s\tremaining: 1h 15s\n",
            "290:\tlearn: 0.0630294\ttotal: 24m 42s\tremaining: 1h 12s\n",
            "291:\tlearn: 0.0629862\ttotal: 24m 47s\tremaining: 1h 5s\n",
            "292:\tlearn: 0.0628697\ttotal: 24m 51s\tremaining: 59m 58s\n",
            "293:\tlearn: 0.0627528\ttotal: 24m 57s\tremaining: 59m 56s\n",
            "294:\tlearn: 0.0626584\ttotal: 25m 2s\tremaining: 59m 49s\n",
            "295:\tlearn: 0.0625263\ttotal: 25m 6s\tremaining: 59m 42s\n",
            "296:\tlearn: 0.0624947\ttotal: 25m 12s\tremaining: 59m 39s\n",
            "297:\tlearn: 0.0624326\ttotal: 25m 16s\tremaining: 59m 33s\n",
            "298:\tlearn: 0.0623840\ttotal: 25m 21s\tremaining: 59m 26s\n",
            "299:\tlearn: 0.0623055\ttotal: 25m 27s\tremaining: 59m 23s\n",
            "300:\tlearn: 0.0622478\ttotal: 25m 31s\tremaining: 59m 15s\n",
            "301:\tlearn: 0.0621602\ttotal: 25m 35s\tremaining: 59m 8s\n",
            "302:\tlearn: 0.0620398\ttotal: 25m 42s\tremaining: 59m 7s\n",
            "303:\tlearn: 0.0619230\ttotal: 25m 46s\tremaining: 58m 59s\n",
            "304:\tlearn: 0.0618144\ttotal: 25m 50s\tremaining: 58m 52s\n",
            "305:\tlearn: 0.0617211\ttotal: 25m 56s\tremaining: 58m 49s\n",
            "306:\tlearn: 0.0616257\ttotal: 26m\tremaining: 58m 41s\n",
            "307:\tlearn: 0.0615500\ttotal: 26m 4s\tremaining: 58m 35s\n",
            "308:\tlearn: 0.0614648\ttotal: 26m 11s\tremaining: 58m 33s\n",
            "309:\tlearn: 0.0613925\ttotal: 26m 15s\tremaining: 58m 27s\n",
            "310:\tlearn: 0.0613506\ttotal: 26m 21s\tremaining: 58m 22s\n",
            "311:\tlearn: 0.0613129\ttotal: 26m 26s\tremaining: 58m 17s\n",
            "312:\tlearn: 0.0612536\ttotal: 26m 30s\tremaining: 58m 11s\n",
            "313:\tlearn: 0.0611936\ttotal: 26m 36s\tremaining: 58m 6s\n",
            "314:\tlearn: 0.0611359\ttotal: 26m 41s\tremaining: 58m 1s\n",
            "315:\tlearn: 0.0610991\ttotal: 26m 45s\tremaining: 57m 55s\n",
            "316:\tlearn: 0.0610194\ttotal: 26m 52s\tremaining: 57m 53s\n",
            "317:\tlearn: 0.0608952\ttotal: 26m 56s\tremaining: 57m 46s\n",
            "318:\tlearn: 0.0608622\ttotal: 27m\tremaining: 57m 39s\n",
            "319:\tlearn: 0.0607903\ttotal: 27m 5s\tremaining: 57m 34s\n",
            "320:\tlearn: 0.0606620\ttotal: 27m 10s\tremaining: 57m 29s\n",
            "321:\tlearn: 0.0606029\ttotal: 27m 14s\tremaining: 57m 22s\n",
            "322:\tlearn: 0.0605173\ttotal: 27m 21s\tremaining: 57m 20s\n",
            "323:\tlearn: 0.0604539\ttotal: 27m 25s\tremaining: 57m 14s\n",
            "324:\tlearn: 0.0603354\ttotal: 27m 30s\tremaining: 57m 8s\n",
            "325:\tlearn: 0.0602807\ttotal: 27m 36s\tremaining: 57m 4s\n",
            "326:\tlearn: 0.0601995\ttotal: 27m 40s\tremaining: 56m 57s\n",
            "327:\tlearn: 0.0601055\ttotal: 27m 45s\tremaining: 56m 51s\n",
            "328:\tlearn: 0.0600347\ttotal: 27m 51s\tremaining: 56m 49s\n",
            "329:\tlearn: 0.0599601\ttotal: 27m 55s\tremaining: 56m 42s\n",
            "330:\tlearn: 0.0599097\ttotal: 27m 59s\tremaining: 56m 35s\n",
            "331:\tlearn: 0.0598214\ttotal: 28m 6s\tremaining: 56m 32s\n",
            "332:\tlearn: 0.0597315\ttotal: 28m 10s\tremaining: 56m 26s\n",
            "333:\tlearn: 0.0596427\ttotal: 28m 15s\tremaining: 56m 20s\n",
            "334:\tlearn: 0.0595522\ttotal: 28m 21s\tremaining: 56m 17s\n",
            "335:\tlearn: 0.0594525\ttotal: 28m 25s\tremaining: 56m 10s\n",
            "336:\tlearn: 0.0594078\ttotal: 28m 31s\tremaining: 56m 6s\n",
            "337:\tlearn: 0.0593181\ttotal: 28m 36s\tremaining: 56m 1s\n",
            "338:\tlearn: 0.0592618\ttotal: 28m 40s\tremaining: 55m 54s\n",
            "339:\tlearn: 0.0592035\ttotal: 28m 46s\tremaining: 55m 50s\n",
            "340:\tlearn: 0.0591396\ttotal: 28m 50s\tremaining: 55m 43s\n",
            "341:\tlearn: 0.0590585\ttotal: 28m 55s\tremaining: 55m 38s\n",
            "342:\tlearn: 0.0589752\ttotal: 29m 1s\tremaining: 55m 35s\n",
            "343:\tlearn: 0.0588719\ttotal: 29m 5s\tremaining: 55m 28s\n",
            "344:\tlearn: 0.0588207\ttotal: 29m 9s\tremaining: 55m 22s\n",
            "345:\tlearn: 0.0587521\ttotal: 29m 16s\tremaining: 55m 19s\n",
            "346:\tlearn: 0.0586952\ttotal: 29m 20s\tremaining: 55m 12s\n",
            "347:\tlearn: 0.0586361\ttotal: 29m 25s\tremaining: 55m 7s\n",
            "348:\tlearn: 0.0585863\ttotal: 29m 32s\tremaining: 55m 5s\n",
            "349:\tlearn: 0.0584728\ttotal: 29m 36s\tremaining: 54m 59s\n",
            "350:\tlearn: 0.0583906\ttotal: 29m 41s\tremaining: 54m 54s\n",
            "351:\tlearn: 0.0582918\ttotal: 29m 47s\tremaining: 54m 50s\n",
            "352:\tlearn: 0.0582046\ttotal: 29m 51s\tremaining: 54m 43s\n",
            "353:\tlearn: 0.0581690\ttotal: 29m 57s\tremaining: 54m 39s\n",
            "354:\tlearn: 0.0581244\ttotal: 30m 2s\tremaining: 54m 34s\n",
            "355:\tlearn: 0.0580689\ttotal: 30m 6s\tremaining: 54m 27s\n",
            "356:\tlearn: 0.0579717\ttotal: 30m 12s\tremaining: 54m 24s\n",
            "357:\tlearn: 0.0578914\ttotal: 30m 17s\tremaining: 54m 18s\n",
            "358:\tlearn: 0.0578001\ttotal: 30m 21s\tremaining: 54m 12s\n",
            "359:\tlearn: 0.0577315\ttotal: 30m 28s\tremaining: 54m 10s\n",
            "360:\tlearn: 0.0576623\ttotal: 30m 32s\tremaining: 54m 3s\n",
            "361:\tlearn: 0.0576005\ttotal: 30m 36s\tremaining: 53m 57s\n",
            "362:\tlearn: 0.0575193\ttotal: 30m 43s\tremaining: 53m 54s\n",
            "363:\tlearn: 0.0573907\ttotal: 30m 47s\tremaining: 53m 48s\n",
            "364:\tlearn: 0.0573512\ttotal: 30m 53s\tremaining: 53m 44s\n",
            "365:\tlearn: 0.0572661\ttotal: 30m 58s\tremaining: 53m 39s\n",
            "366:\tlearn: 0.0571898\ttotal: 31m 2s\tremaining: 53m 33s\n",
            "367:\tlearn: 0.0571041\ttotal: 31m 8s\tremaining: 53m 28s\n",
            "368:\tlearn: 0.0570633\ttotal: 31m 12s\tremaining: 53m 22s\n",
            "369:\tlearn: 0.0570391\ttotal: 31m 17s\tremaining: 53m 16s\n",
            "370:\tlearn: 0.0569744\ttotal: 31m 22s\tremaining: 53m 11s\n",
            "371:\tlearn: 0.0568842\ttotal: 31m 27s\tremaining: 53m 5s\n",
            "372:\tlearn: 0.0568333\ttotal: 31m 31s\tremaining: 52m 59s\n",
            "373:\tlearn: 0.0567670\ttotal: 31m 37s\tremaining: 52m 55s\n",
            "374:\tlearn: 0.0567097\ttotal: 31m 41s\tremaining: 52m 49s\n",
            "375:\tlearn: 0.0566637\ttotal: 31m 46s\tremaining: 52m 43s\n",
            "376:\tlearn: 0.0565577\ttotal: 31m 52s\tremaining: 52m 40s\n",
            "377:\tlearn: 0.0564734\ttotal: 31m 56s\tremaining: 52m 34s\n",
            "378:\tlearn: 0.0564255\ttotal: 32m 1s\tremaining: 52m 28s\n",
            "379:\tlearn: 0.0563439\ttotal: 32m 7s\tremaining: 52m 25s\n",
            "380:\tlearn: 0.0562585\ttotal: 32m 12s\tremaining: 52m 19s\n",
            "381:\tlearn: 0.0562323\ttotal: 32m 16s\tremaining: 52m 13s\n",
            "382:\tlearn: 0.0561588\ttotal: 32m 23s\tremaining: 52m 10s\n",
            "383:\tlearn: 0.0560682\ttotal: 32m 27s\tremaining: 52m 4s\n",
            "384:\tlearn: 0.0560479\ttotal: 32m 32s\tremaining: 51m 58s\n",
            "385:\tlearn: 0.0559919\ttotal: 32m 37s\tremaining: 51m 53s\n",
            "386:\tlearn: 0.0558760\ttotal: 32m 41s\tremaining: 51m 47s\n",
            "387:\tlearn: 0.0558127\ttotal: 32m 46s\tremaining: 51m 42s\n",
            "388:\tlearn: 0.0557597\ttotal: 32m 52s\tremaining: 51m 37s\n",
            "389:\tlearn: 0.0556614\ttotal: 32m 56s\tremaining: 51m 31s\n",
            "390:\tlearn: 0.0556077\ttotal: 33m 2s\tremaining: 51m 27s\n",
            "391:\tlearn: 0.0555488\ttotal: 33m 7s\tremaining: 51m 22s\n",
            "392:\tlearn: 0.0554626\ttotal: 33m 11s\tremaining: 51m 15s\n",
            "393:\tlearn: 0.0554207\ttotal: 33m 16s\tremaining: 51m 11s\n",
            "394:\tlearn: 0.0553797\ttotal: 33m 21s\tremaining: 51m 5s\n",
            "395:\tlearn: 0.0553381\ttotal: 33m 25s\tremaining: 50m 59s\n",
            "396:\tlearn: 0.0552899\ttotal: 33m 31s\tremaining: 50m 55s\n",
            "397:\tlearn: 0.0552485\ttotal: 33m 36s\tremaining: 50m 49s\n",
            "398:\tlearn: 0.0552004\ttotal: 33m 45s\tremaining: 50m 51s\n",
            "399:\tlearn: 0.0551626\ttotal: 33m 50s\tremaining: 50m 45s\n",
            "400:\tlearn: 0.0551306\ttotal: 33m 53s\tremaining: 50m 38s\n",
            "401:\tlearn: 0.0550526\ttotal: 33m 59s\tremaining: 50m 33s\n",
            "402:\tlearn: 0.0549608\ttotal: 34m 4s\tremaining: 50m 28s\n",
            "403:\tlearn: 0.0549113\ttotal: 34m 8s\tremaining: 50m 22s\n",
            "404:\tlearn: 0.0547994\ttotal: 34m 14s\tremaining: 50m 18s\n",
            "405:\tlearn: 0.0547542\ttotal: 34m 18s\tremaining: 50m 12s\n",
            "406:\tlearn: 0.0546615\ttotal: 34m 23s\tremaining: 50m 6s\n",
            "407:\tlearn: 0.0546309\ttotal: 34m 29s\tremaining: 50m 2s\n",
            "408:\tlearn: 0.0545976\ttotal: 34m 32s\tremaining: 49m 55s\n",
            "409:\tlearn: 0.0545261\ttotal: 34m 37s\tremaining: 49m 49s\n",
            "410:\tlearn: 0.0544540\ttotal: 34m 43s\tremaining: 49m 45s\n",
            "411:\tlearn: 0.0544038\ttotal: 34m 47s\tremaining: 49m 39s\n",
            "412:\tlearn: 0.0543730\ttotal: 34m 52s\tremaining: 49m 33s\n",
            "413:\tlearn: 0.0543442\ttotal: 34m 58s\tremaining: 49m 30s\n",
            "414:\tlearn: 0.0543149\ttotal: 35m 2s\tremaining: 49m 24s\n",
            "415:\tlearn: 0.0542746\ttotal: 35m 6s\tremaining: 49m 17s\n",
            "416:\tlearn: 0.0542314\ttotal: 35m 13s\tremaining: 49m 14s\n",
            "417:\tlearn: 0.0541896\ttotal: 35m 17s\tremaining: 49m 8s\n",
            "418:\tlearn: 0.0541231\ttotal: 35m 21s\tremaining: 49m 2s\n",
            "419:\tlearn: 0.0539993\ttotal: 35m 28s\tremaining: 48m 58s\n",
            "420:\tlearn: 0.0539578\ttotal: 35m 33s\tremaining: 48m 53s\n",
            "421:\tlearn: 0.0539107\ttotal: 35m 38s\tremaining: 48m 49s\n",
            "422:\tlearn: 0.0538295\ttotal: 35m 43s\tremaining: 48m 44s\n",
            "423:\tlearn: 0.0537936\ttotal: 35m 48s\tremaining: 48m 38s\n",
            "424:\tlearn: 0.0537586\ttotal: 35m 53s\tremaining: 48m 34s\n",
            "425:\tlearn: 0.0536933\ttotal: 35m 58s\tremaining: 48m 28s\n",
            "426:\tlearn: 0.0536413\ttotal: 36m 3s\tremaining: 48m 22s\n",
            "427:\tlearn: 0.0535974\ttotal: 36m 8s\tremaining: 48m 18s\n",
            "428:\tlearn: 0.0535314\ttotal: 36m 13s\tremaining: 48m 12s\n",
            "429:\tlearn: 0.0534582\ttotal: 36m 17s\tremaining: 48m 7s\n",
            "430:\tlearn: 0.0533818\ttotal: 36m 23s\tremaining: 48m 3s\n",
            "431:\tlearn: 0.0533419\ttotal: 36m 28s\tremaining: 47m 57s\n",
            "432:\tlearn: 0.0532952\ttotal: 36m 32s\tremaining: 47m 51s\n",
            "433:\tlearn: 0.0532684\ttotal: 36m 38s\tremaining: 47m 47s\n",
            "434:\tlearn: 0.0532246\ttotal: 36m 43s\tremaining: 47m 41s\n",
            "435:\tlearn: 0.0531679\ttotal: 36m 47s\tremaining: 47m 35s\n",
            "436:\tlearn: 0.0531440\ttotal: 36m 53s\tremaining: 47m 32s\n",
            "437:\tlearn: 0.0530582\ttotal: 36m 57s\tremaining: 47m 25s\n",
            "438:\tlearn: 0.0529981\ttotal: 37m 2s\tremaining: 47m 20s\n",
            "439:\tlearn: 0.0529420\ttotal: 37m 9s\tremaining: 47m 17s\n",
            "440:\tlearn: 0.0528929\ttotal: 37m 13s\tremaining: 47m 11s\n",
            "441:\tlearn: 0.0528575\ttotal: 37m 17s\tremaining: 47m 5s\n",
            "442:\tlearn: 0.0528313\ttotal: 37m 23s\tremaining: 47m 1s\n",
            "443:\tlearn: 0.0527997\ttotal: 37m 28s\tremaining: 46m 55s\n",
            "444:\tlearn: 0.0527374\ttotal: 37m 33s\tremaining: 46m 50s\n",
            "445:\tlearn: 0.0526902\ttotal: 37m 38s\tremaining: 46m 45s\n",
            "446:\tlearn: 0.0525973\ttotal: 37m 43s\tremaining: 46m 40s\n",
            "447:\tlearn: 0.0525818\ttotal: 37m 48s\tremaining: 46m 35s\n",
            "448:\tlearn: 0.0525317\ttotal: 37m 53s\tremaining: 46m 30s\n",
            "449:\tlearn: 0.0524952\ttotal: 37m 58s\tremaining: 46m 24s\n",
            "450:\tlearn: 0.0524276\ttotal: 38m 4s\tremaining: 46m 20s\n",
            "451:\tlearn: 0.0523738\ttotal: 38m 8s\tremaining: 46m 14s\n",
            "452:\tlearn: 0.0523435\ttotal: 38m 12s\tremaining: 46m 8s\n",
            "453:\tlearn: 0.0522695\ttotal: 38m 19s\tremaining: 46m 5s\n",
            "454:\tlearn: 0.0522325\ttotal: 38m 22s\tremaining: 45m 58s\n",
            "455:\tlearn: 0.0521711\ttotal: 38m 27s\tremaining: 45m 52s\n",
            "456:\tlearn: 0.0521463\ttotal: 38m 33s\tremaining: 45m 48s\n",
            "457:\tlearn: 0.0521073\ttotal: 38m 37s\tremaining: 45m 43s\n",
            "458:\tlearn: 0.0520734\ttotal: 38m 41s\tremaining: 45m 36s\n",
            "459:\tlearn: 0.0520224\ttotal: 38m 48s\tremaining: 45m 32s\n",
            "460:\tlearn: 0.0519491\ttotal: 38m 52s\tremaining: 45m 27s\n",
            "461:\tlearn: 0.0518819\ttotal: 38m 56s\tremaining: 45m 20s\n",
            "462:\tlearn: 0.0518627\ttotal: 39m 2s\tremaining: 45m 16s\n",
            "463:\tlearn: 0.0518191\ttotal: 39m 6s\tremaining: 45m 10s\n",
            "464:\tlearn: 0.0517843\ttotal: 39m 10s\tremaining: 45m 4s\n",
            "465:\tlearn: 0.0517375\ttotal: 39m 16s\tremaining: 45m\n",
            "466:\tlearn: 0.0516851\ttotal: 39m 20s\tremaining: 44m 54s\n",
            "467:\tlearn: 0.0516357\ttotal: 39m 25s\tremaining: 44m 48s\n",
            "468:\tlearn: 0.0515952\ttotal: 39m 31s\tremaining: 44m 44s\n",
            "469:\tlearn: 0.0515457\ttotal: 39m 35s\tremaining: 44m 38s\n",
            "470:\tlearn: 0.0515029\ttotal: 39m 39s\tremaining: 44m 32s\n",
            "471:\tlearn: 0.0514687\ttotal: 39m 45s\tremaining: 44m 28s\n",
            "472:\tlearn: 0.0514235\ttotal: 39m 50s\tremaining: 44m 23s\n",
            "473:\tlearn: 0.0513691\ttotal: 39m 54s\tremaining: 44m 17s\n",
            "474:\tlearn: 0.0513479\ttotal: 40m\tremaining: 44m 13s\n",
            "475:\tlearn: 0.0513019\ttotal: 40m 5s\tremaining: 44m 8s\n",
            "476:\tlearn: 0.0512723\ttotal: 40m 10s\tremaining: 44m 2s\n",
            "477:\tlearn: 0.0512386\ttotal: 40m 15s\tremaining: 43m 57s\n",
            "478:\tlearn: 0.0511904\ttotal: 40m 20s\tremaining: 43m 52s\n",
            "479:\tlearn: 0.0511434\ttotal: 40m 24s\tremaining: 43m 47s\n",
            "480:\tlearn: 0.0511023\ttotal: 40m 29s\tremaining: 43m 41s\n",
            "481:\tlearn: 0.0510717\ttotal: 40m 33s\tremaining: 43m 35s\n",
            "482:\tlearn: 0.0510053\ttotal: 40m 39s\tremaining: 43m 31s\n",
            "483:\tlearn: 0.0509683\ttotal: 40m 44s\tremaining: 43m 26s\n",
            "484:\tlearn: 0.0509203\ttotal: 40m 49s\tremaining: 43m 20s\n",
            "485:\tlearn: 0.0508878\ttotal: 40m 55s\tremaining: 43m 17s\n",
            "486:\tlearn: 0.0508575\ttotal: 40m 59s\tremaining: 43m 11s\n",
            "487:\tlearn: 0.0507782\ttotal: 41m 4s\tremaining: 43m 5s\n",
            "488:\tlearn: 0.0507227\ttotal: 41m 10s\tremaining: 43m 2s\n",
            "489:\tlearn: 0.0506936\ttotal: 41m 15s\tremaining: 42m 56s\n",
            "490:\tlearn: 0.0506347\ttotal: 41m 19s\tremaining: 42m 50s\n",
            "491:\tlearn: 0.0505926\ttotal: 41m 25s\tremaining: 42m 46s\n",
            "492:\tlearn: 0.0505464\ttotal: 41m 30s\tremaining: 42m 40s\n",
            "493:\tlearn: 0.0504849\ttotal: 41m 34s\tremaining: 42m 34s\n",
            "494:\tlearn: 0.0504626\ttotal: 41m 39s\tremaining: 42m 30s\n",
            "495:\tlearn: 0.0504374\ttotal: 41m 43s\tremaining: 42m 23s\n",
            "496:\tlearn: 0.0504155\ttotal: 41m 47s\tremaining: 42m 18s\n",
            "497:\tlearn: 0.0503834\ttotal: 41m 54s\tremaining: 42m 14s\n",
            "498:\tlearn: 0.0503411\ttotal: 41m 58s\tremaining: 42m 8s\n",
            "499:\tlearn: 0.0503058\ttotal: 42m 2s\tremaining: 42m 2s\n",
            "500:\tlearn: 0.0502304\ttotal: 42m 9s\tremaining: 41m 59s\n",
            "501:\tlearn: 0.0502028\ttotal: 42m 14s\tremaining: 41m 53s\n",
            "502:\tlearn: 0.0501724\ttotal: 42m 18s\tremaining: 41m 48s\n",
            "503:\tlearn: 0.0501302\ttotal: 42m 24s\tremaining: 41m 44s\n",
            "504:\tlearn: 0.0500934\ttotal: 42m 29s\tremaining: 41m 38s\n",
            "505:\tlearn: 0.0500355\ttotal: 42m 35s\tremaining: 41m 34s\n",
            "506:\tlearn: 0.0499865\ttotal: 42m 39s\tremaining: 41m 29s\n",
            "507:\tlearn: 0.0499388\ttotal: 42m 44s\tremaining: 41m 23s\n",
            "508:\tlearn: 0.0498881\ttotal: 42m 50s\tremaining: 41m 19s\n",
            "509:\tlearn: 0.0497881\ttotal: 42m 54s\tremaining: 41m 13s\n",
            "510:\tlearn: 0.0497505\ttotal: 42m 59s\tremaining: 41m 8s\n",
            "511:\tlearn: 0.0497017\ttotal: 43m 5s\tremaining: 41m 4s\n",
            "512:\tlearn: 0.0496304\ttotal: 43m 10s\tremaining: 40m 59s\n",
            "513:\tlearn: 0.0495822\ttotal: 43m 14s\tremaining: 40m 53s\n",
            "514:\tlearn: 0.0495532\ttotal: 43m 20s\tremaining: 40m 49s\n",
            "515:\tlearn: 0.0495208\ttotal: 43m 25s\tremaining: 40m 43s\n",
            "516:\tlearn: 0.0494744\ttotal: 43m 31s\tremaining: 40m 39s\n",
            "517:\tlearn: 0.0493557\ttotal: 43m 36s\tremaining: 40m 34s\n",
            "518:\tlearn: 0.0493224\ttotal: 43m 40s\tremaining: 40m 28s\n",
            "519:\tlearn: 0.0492760\ttotal: 43m 45s\tremaining: 40m 23s\n",
            "520:\tlearn: 0.0492430\ttotal: 43m 51s\tremaining: 40m 19s\n",
            "521:\tlearn: 0.0491813\ttotal: 43m 55s\tremaining: 40m 13s\n",
            "522:\tlearn: 0.0491444\ttotal: 44m 1s\tremaining: 40m 9s\n",
            "523:\tlearn: 0.0491017\ttotal: 44m 6s\tremaining: 40m 4s\n",
            "524:\tlearn: 0.0490537\ttotal: 44m 10s\tremaining: 39m 58s\n",
            "525:\tlearn: 0.0490070\ttotal: 44m 17s\tremaining: 39m 54s\n",
            "526:\tlearn: 0.0489789\ttotal: 44m 21s\tremaining: 39m 48s\n",
            "527:\tlearn: 0.0489252\ttotal: 44m 26s\tremaining: 39m 43s\n",
            "528:\tlearn: 0.0488968\ttotal: 44m 32s\tremaining: 39m 39s\n",
            "529:\tlearn: 0.0488302\ttotal: 44m 37s\tremaining: 39m 34s\n",
            "530:\tlearn: 0.0487894\ttotal: 44m 41s\tremaining: 39m 28s\n",
            "531:\tlearn: 0.0487590\ttotal: 44m 47s\tremaining: 39m 23s\n",
            "532:\tlearn: 0.0487252\ttotal: 44m 51s\tremaining: 39m 18s\n",
            "533:\tlearn: 0.0486738\ttotal: 44m 55s\tremaining: 39m 12s\n",
            "534:\tlearn: 0.0486374\ttotal: 45m 1s\tremaining: 39m 8s\n",
            "535:\tlearn: 0.0486148\ttotal: 45m 5s\tremaining: 39m 2s\n",
            "536:\tlearn: 0.0485446\ttotal: 45m 10s\tremaining: 38m 57s\n",
            "537:\tlearn: 0.0485257\ttotal: 45m 16s\tremaining: 38m 52s\n",
            "538:\tlearn: 0.0484811\ttotal: 45m 20s\tremaining: 38m 47s\n",
            "539:\tlearn: 0.0484092\ttotal: 45m 25s\tremaining: 38m 41s\n",
            "540:\tlearn: 0.0483611\ttotal: 45m 30s\tremaining: 38m 36s\n",
            "541:\tlearn: 0.0483317\ttotal: 45m 35s\tremaining: 38m 31s\n",
            "542:\tlearn: 0.0483047\ttotal: 45m 40s\tremaining: 38m 26s\n",
            "543:\tlearn: 0.0482740\ttotal: 45m 45s\tremaining: 38m 20s\n",
            "544:\tlearn: 0.0482509\ttotal: 45m 49s\tremaining: 38m 15s\n",
            "545:\tlearn: 0.0482198\ttotal: 45m 55s\tremaining: 38m 11s\n",
            "546:\tlearn: 0.0481794\ttotal: 46m\tremaining: 38m 6s\n",
            "547:\tlearn: 0.0481266\ttotal: 46m 4s\tremaining: 38m\n",
            "548:\tlearn: 0.0480637\ttotal: 46m 11s\tremaining: 37m 56s\n",
            "549:\tlearn: 0.0480212\ttotal: 46m 15s\tremaining: 37m 51s\n",
            "550:\tlearn: 0.0479757\ttotal: 46m 20s\tremaining: 37m 45s\n",
            "551:\tlearn: 0.0479484\ttotal: 46m 26s\tremaining: 37m 41s\n",
            "552:\tlearn: 0.0478876\ttotal: 46m 30s\tremaining: 37m 35s\n",
            "553:\tlearn: 0.0478480\ttotal: 46m 35s\tremaining: 37m 30s\n",
            "554:\tlearn: 0.0478155\ttotal: 46m 41s\tremaining: 37m 26s\n",
            "555:\tlearn: 0.0477667\ttotal: 46m 45s\tremaining: 37m 20s\n",
            "556:\tlearn: 0.0477403\ttotal: 46m 50s\tremaining: 37m 15s\n",
            "557:\tlearn: 0.0477028\ttotal: 46m 56s\tremaining: 37m 10s\n",
            "558:\tlearn: 0.0476480\ttotal: 47m 1s\tremaining: 37m 5s\n",
            "559:\tlearn: 0.0476146\ttotal: 47m 6s\tremaining: 37m\n",
            "560:\tlearn: 0.0475537\ttotal: 47m 11s\tremaining: 36m 55s\n",
            "561:\tlearn: 0.0475165\ttotal: 47m 16s\tremaining: 36m 50s\n",
            "562:\tlearn: 0.0474601\ttotal: 47m 22s\tremaining: 36m 46s\n",
            "563:\tlearn: 0.0474149\ttotal: 47m 27s\tremaining: 36m 41s\n",
            "564:\tlearn: 0.0473624\ttotal: 47m 31s\tremaining: 36m 35s\n",
            "565:\tlearn: 0.0473206\ttotal: 47m 37s\tremaining: 36m 31s\n",
            "566:\tlearn: 0.0472927\ttotal: 47m 41s\tremaining: 36m 25s\n",
            "567:\tlearn: 0.0472591\ttotal: 47m 45s\tremaining: 36m 19s\n",
            "568:\tlearn: 0.0472230\ttotal: 47m 52s\tremaining: 36m 15s\n",
            "569:\tlearn: 0.0471906\ttotal: 47m 56s\tremaining: 36m 10s\n",
            "570:\tlearn: 0.0471505\ttotal: 48m 1s\tremaining: 36m 4s\n",
            "571:\tlearn: 0.0471265\ttotal: 48m 7s\tremaining: 36m\n",
            "572:\tlearn: 0.0470850\ttotal: 48m 11s\tremaining: 35m 55s\n",
            "573:\tlearn: 0.0470507\ttotal: 48m 15s\tremaining: 35m 49s\n",
            "574:\tlearn: 0.0470198\ttotal: 48m 22s\tremaining: 35m 45s\n",
            "575:\tlearn: 0.0469825\ttotal: 48m 26s\tremaining: 35m 39s\n",
            "576:\tlearn: 0.0469621\ttotal: 48m 30s\tremaining: 35m 33s\n",
            "577:\tlearn: 0.0469231\ttotal: 48m 36s\tremaining: 35m 29s\n",
            "578:\tlearn: 0.0468996\ttotal: 48m 41s\tremaining: 35m 24s\n",
            "579:\tlearn: 0.0468759\ttotal: 48m 45s\tremaining: 35m 18s\n",
            "580:\tlearn: 0.0468323\ttotal: 48m 52s\tremaining: 35m 14s\n",
            "581:\tlearn: 0.0468059\ttotal: 48m 56s\tremaining: 35m 8s\n",
            "582:\tlearn: 0.0467694\ttotal: 49m\tremaining: 35m 3s\n",
            "583:\tlearn: 0.0467437\ttotal: 49m 6s\tremaining: 34m 58s\n",
            "584:\tlearn: 0.0467182\ttotal: 49m 10s\tremaining: 34m 53s\n",
            "585:\tlearn: 0.0466669\ttotal: 49m 16s\tremaining: 34m 48s\n",
            "586:\tlearn: 0.0466450\ttotal: 49m 21s\tremaining: 34m 43s\n",
            "587:\tlearn: 0.0465989\ttotal: 49m 26s\tremaining: 34m 38s\n",
            "588:\tlearn: 0.0465650\ttotal: 49m 31s\tremaining: 34m 33s\n",
            "589:\tlearn: 0.0465388\ttotal: 49m 36s\tremaining: 34m 28s\n",
            "590:\tlearn: 0.0464973\ttotal: 49m 40s\tremaining: 34m 22s\n",
            "591:\tlearn: 0.0464732\ttotal: 49m 46s\tremaining: 34m 18s\n",
            "592:\tlearn: 0.0464218\ttotal: 49m 51s\tremaining: 34m 13s\n",
            "593:\tlearn: 0.0463719\ttotal: 49m 56s\tremaining: 34m 7s\n",
            "594:\tlearn: 0.0463406\ttotal: 50m 2s\tremaining: 34m 3s\n",
            "595:\tlearn: 0.0462941\ttotal: 50m 6s\tremaining: 33m 58s\n",
            "596:\tlearn: 0.0462555\ttotal: 50m 11s\tremaining: 33m 52s\n",
            "597:\tlearn: 0.0462344\ttotal: 50m 17s\tremaining: 33m 48s\n",
            "598:\tlearn: 0.0462129\ttotal: 50m 21s\tremaining: 33m 42s\n",
            "599:\tlearn: 0.0461751\ttotal: 50m 27s\tremaining: 33m 38s\n",
            "600:\tlearn: 0.0461138\ttotal: 50m 33s\tremaining: 33m 33s\n",
            "601:\tlearn: 0.0460846\ttotal: 50m 37s\tremaining: 33m 28s\n",
            "602:\tlearn: 0.0460526\ttotal: 50m 43s\tremaining: 33m 23s\n",
            "603:\tlearn: 0.0459729\ttotal: 50m 48s\tremaining: 33m 18s\n",
            "604:\tlearn: 0.0459473\ttotal: 50m 51s\tremaining: 33m 12s\n",
            "605:\tlearn: 0.0458968\ttotal: 50m 57s\tremaining: 33m 7s\n",
            "606:\tlearn: 0.0458652\ttotal: 51m 2s\tremaining: 33m 2s\n",
            "607:\tlearn: 0.0458063\ttotal: 51m 6s\tremaining: 32m 57s\n",
            "608:\tlearn: 0.0457730\ttotal: 51m 12s\tremaining: 32m 52s\n",
            "609:\tlearn: 0.0457207\ttotal: 51m 17s\tremaining: 32m 47s\n",
            "610:\tlearn: 0.0456911\ttotal: 51m 21s\tremaining: 32m 41s\n",
            "611:\tlearn: 0.0456776\ttotal: 51m 27s\tremaining: 32m 37s\n",
            "612:\tlearn: 0.0456530\ttotal: 51m 32s\tremaining: 32m 32s\n",
            "613:\tlearn: 0.0456146\ttotal: 51m 36s\tremaining: 32m 26s\n",
            "614:\tlearn: 0.0455707\ttotal: 51m 42s\tremaining: 32m 22s\n",
            "615:\tlearn: 0.0455362\ttotal: 51m 47s\tremaining: 32m 17s\n",
            "616:\tlearn: 0.0455088\ttotal: 51m 52s\tremaining: 32m 11s\n",
            "617:\tlearn: 0.0454876\ttotal: 51m 57s\tremaining: 32m 7s\n",
            "618:\tlearn: 0.0454542\ttotal: 52m 2s\tremaining: 32m 1s\n",
            "619:\tlearn: 0.0454279\ttotal: 52m 6s\tremaining: 31m 56s\n",
            "620:\tlearn: 0.0454064\ttotal: 52m 12s\tremaining: 31m 52s\n",
            "621:\tlearn: 0.0453814\ttotal: 52m 16s\tremaining: 31m 46s\n",
            "622:\tlearn: 0.0453663\ttotal: 52m 20s\tremaining: 31m 40s\n",
            "623:\tlearn: 0.0453390\ttotal: 52m 27s\tremaining: 31m 36s\n",
            "624:\tlearn: 0.0452827\ttotal: 52m 32s\tremaining: 31m 31s\n",
            "625:\tlearn: 0.0452697\ttotal: 52m 36s\tremaining: 31m 25s\n",
            "626:\tlearn: 0.0452332\ttotal: 52m 42s\tremaining: 31m 21s\n",
            "627:\tlearn: 0.0452095\ttotal: 52m 46s\tremaining: 31m 15s\n",
            "628:\tlearn: 0.0451735\ttotal: 52m 52s\tremaining: 31m 11s\n",
            "629:\tlearn: 0.0451325\ttotal: 52m 57s\tremaining: 31m 6s\n",
            "630:\tlearn: 0.0450928\ttotal: 53m 1s\tremaining: 31m\n",
            "631:\tlearn: 0.0450557\ttotal: 53m 8s\tremaining: 30m 56s\n",
            "632:\tlearn: 0.0450279\ttotal: 53m 12s\tremaining: 30m 51s\n",
            "633:\tlearn: 0.0449857\ttotal: 53m 17s\tremaining: 30m 45s\n",
            "634:\tlearn: 0.0449500\ttotal: 53m 23s\tremaining: 30m 41s\n",
            "635:\tlearn: 0.0449219\ttotal: 53m 27s\tremaining: 30m 35s\n",
            "636:\tlearn: 0.0448938\ttotal: 53m 31s\tremaining: 30m 30s\n",
            "637:\tlearn: 0.0448411\ttotal: 53m 37s\tremaining: 30m 25s\n",
            "638:\tlearn: 0.0448070\ttotal: 53m 41s\tremaining: 30m 20s\n",
            "639:\tlearn: 0.0447721\ttotal: 53m 46s\tremaining: 30m 14s\n",
            "640:\tlearn: 0.0447584\ttotal: 53m 52s\tremaining: 30m 10s\n",
            "641:\tlearn: 0.0447269\ttotal: 53m 56s\tremaining: 30m 4s\n",
            "642:\tlearn: 0.0446939\ttotal: 54m\tremaining: 29m 59s\n",
            "643:\tlearn: 0.0446806\ttotal: 54m 6s\tremaining: 29m 54s\n",
            "644:\tlearn: 0.0446638\ttotal: 54m 10s\tremaining: 29m 48s\n",
            "645:\tlearn: 0.0446098\ttotal: 54m 14s\tremaining: 29m 43s\n",
            "646:\tlearn: 0.0445720\ttotal: 54m 20s\tremaining: 29m 39s\n",
            "647:\tlearn: 0.0445276\ttotal: 54m 25s\tremaining: 29m 33s\n",
            "648:\tlearn: 0.0444542\ttotal: 54m 29s\tremaining: 29m 28s\n",
            "649:\tlearn: 0.0444123\ttotal: 54m 35s\tremaining: 29m 23s\n",
            "650:\tlearn: 0.0443713\ttotal: 54m 39s\tremaining: 29m 18s\n",
            "651:\tlearn: 0.0443381\ttotal: 54m 44s\tremaining: 29m 12s\n",
            "652:\tlearn: 0.0442995\ttotal: 54m 49s\tremaining: 29m 8s\n",
            "653:\tlearn: 0.0442479\ttotal: 54m 54s\tremaining: 29m 2s\n",
            "654:\tlearn: 0.0442215\ttotal: 54m 58s\tremaining: 28m 57s\n",
            "655:\tlearn: 0.0441840\ttotal: 55m 5s\tremaining: 28m 53s\n",
            "656:\tlearn: 0.0441502\ttotal: 55m 9s\tremaining: 28m 48s\n",
            "657:\tlearn: 0.0441109\ttotal: 55m 15s\tremaining: 28m 43s\n",
            "658:\tlearn: 0.0440706\ttotal: 55m 20s\tremaining: 28m 38s\n",
            "659:\tlearn: 0.0440265\ttotal: 55m 24s\tremaining: 28m 32s\n",
            "660:\tlearn: 0.0439923\ttotal: 55m 29s\tremaining: 28m 27s\n",
            "661:\tlearn: 0.0439438\ttotal: 55m 34s\tremaining: 28m 22s\n",
            "662:\tlearn: 0.0438851\ttotal: 55m 39s\tremaining: 28m 17s\n",
            "663:\tlearn: 0.0438467\ttotal: 55m 44s\tremaining: 28m 12s\n",
            "664:\tlearn: 0.0438349\ttotal: 55m 49s\tremaining: 28m 7s\n",
            "665:\tlearn: 0.0438164\ttotal: 55m 53s\tremaining: 28m 1s\n",
            "666:\tlearn: 0.0437854\ttotal: 55m 59s\tremaining: 27m 57s\n",
            "667:\tlearn: 0.0437739\ttotal: 56m 3s\tremaining: 27m 51s\n",
            "668:\tlearn: 0.0437571\ttotal: 56m 8s\tremaining: 27m 46s\n",
            "669:\tlearn: 0.0437458\ttotal: 56m 14s\tremaining: 27m 41s\n",
            "670:\tlearn: 0.0437111\ttotal: 56m 19s\tremaining: 27m 36s\n",
            "671:\tlearn: 0.0436741\ttotal: 56m 23s\tremaining: 27m 31s\n",
            "672:\tlearn: 0.0436360\ttotal: 56m 29s\tremaining: 27m 26s\n",
            "673:\tlearn: 0.0436284\ttotal: 56m 33s\tremaining: 27m 21s\n",
            "674:\tlearn: 0.0435810\ttotal: 56m 38s\tremaining: 27m 16s\n",
            "675:\tlearn: 0.0435527\ttotal: 56m 44s\tremaining: 27m 11s\n",
            "676:\tlearn: 0.0435286\ttotal: 56m 49s\tremaining: 27m 6s\n",
            "677:\tlearn: 0.0434747\ttotal: 56m 53s\tremaining: 27m 1s\n",
            "678:\tlearn: 0.0434101\ttotal: 56m 59s\tremaining: 26m 56s\n",
            "679:\tlearn: 0.0433744\ttotal: 57m 3s\tremaining: 26m 51s\n",
            "680:\tlearn: 0.0433396\ttotal: 57m 8s\tremaining: 26m 46s\n",
            "681:\tlearn: 0.0432979\ttotal: 57m 14s\tremaining: 26m 41s\n",
            "682:\tlearn: 0.0432770\ttotal: 57m 19s\tremaining: 26m 36s\n",
            "683:\tlearn: 0.0432377\ttotal: 57m 24s\tremaining: 26m 31s\n",
            "684:\tlearn: 0.0431916\ttotal: 57m 29s\tremaining: 26m 26s\n",
            "685:\tlearn: 0.0431559\ttotal: 57m 34s\tremaining: 26m 21s\n",
            "686:\tlearn: 0.0431206\ttotal: 57m 40s\tremaining: 26m 16s\n",
            "687:\tlearn: 0.0430991\ttotal: 57m 45s\tremaining: 26m 11s\n",
            "688:\tlearn: 0.0430411\ttotal: 57m 49s\tremaining: 26m 6s\n",
            "689:\tlearn: 0.0429906\ttotal: 57m 55s\tremaining: 26m 1s\n",
            "690:\tlearn: 0.0429738\ttotal: 57m 59s\tremaining: 25m 55s\n",
            "691:\tlearn: 0.0429310\ttotal: 58m 3s\tremaining: 25m 50s\n",
            "692:\tlearn: 0.0429091\ttotal: 58m 9s\tremaining: 25m 45s\n",
            "693:\tlearn: 0.0428735\ttotal: 58m 13s\tremaining: 25m 40s\n",
            "694:\tlearn: 0.0428559\ttotal: 58m 18s\tremaining: 25m 35s\n",
            "695:\tlearn: 0.0428395\ttotal: 58m 23s\tremaining: 25m 30s\n",
            "696:\tlearn: 0.0427912\ttotal: 58m 28s\tremaining: 25m 25s\n",
            "697:\tlearn: 0.0427476\ttotal: 58m 32s\tremaining: 25m 19s\n",
            "698:\tlearn: 0.0427024\ttotal: 58m 39s\tremaining: 25m 15s\n",
            "699:\tlearn: 0.0426636\ttotal: 58m 43s\tremaining: 25m 10s\n",
            "700:\tlearn: 0.0426372\ttotal: 58m 48s\tremaining: 25m 4s\n",
            "701:\tlearn: 0.0426204\ttotal: 58m 54s\tremaining: 25m\n",
            "702:\tlearn: 0.0425948\ttotal: 58m 58s\tremaining: 24m 55s\n",
            "703:\tlearn: 0.0425463\ttotal: 59m 3s\tremaining: 24m 49s\n",
            "704:\tlearn: 0.0425233\ttotal: 59m 9s\tremaining: 24m 45s\n",
            "705:\tlearn: 0.0424855\ttotal: 59m 14s\tremaining: 24m 40s\n",
            "706:\tlearn: 0.0424654\ttotal: 59m 19s\tremaining: 24m 35s\n",
            "707:\tlearn: 0.0424437\ttotal: 59m 25s\tremaining: 24m 30s\n",
            "708:\tlearn: 0.0424045\ttotal: 59m 29s\tremaining: 24m 25s\n",
            "709:\tlearn: 0.0423825\ttotal: 59m 35s\tremaining: 24m 20s\n",
            "710:\tlearn: 0.0423497\ttotal: 59m 40s\tremaining: 24m 15s\n",
            "711:\tlearn: 0.0423187\ttotal: 59m 44s\tremaining: 24m 10s\n",
            "712:\tlearn: 0.0422784\ttotal: 59m 51s\tremaining: 24m 5s\n",
            "713:\tlearn: 0.0422425\ttotal: 59m 55s\tremaining: 24m\n",
            "714:\tlearn: 0.0422107\ttotal: 59m 59s\tremaining: 23m 54s\n",
            "715:\tlearn: 0.0421818\ttotal: 1h 6s\tremaining: 23m 50s\n",
            "716:\tlearn: 0.0421632\ttotal: 1h 10s\tremaining: 23m 44s\n",
            "717:\tlearn: 0.0421247\ttotal: 1h 14s\tremaining: 23m 39s\n",
            "718:\tlearn: 0.0421008\ttotal: 1h 20s\tremaining: 23m 34s\n",
            "719:\tlearn: 0.0420626\ttotal: 1h 24s\tremaining: 23m 29s\n",
            "720:\tlearn: 0.0420407\ttotal: 1h 29s\tremaining: 23m 24s\n",
            "721:\tlearn: 0.0420156\ttotal: 1h 35s\tremaining: 23m 19s\n",
            "722:\tlearn: 0.0419923\ttotal: 1h 39s\tremaining: 23m 14s\n",
            "723:\tlearn: 0.0419723\ttotal: 1h 43s\tremaining: 23m 8s\n",
            "724:\tlearn: 0.0419410\ttotal: 1h 49s\tremaining: 23m 4s\n",
            "725:\tlearn: 0.0419068\ttotal: 1h 53s\tremaining: 22m 59s\n",
            "726:\tlearn: 0.0418890\ttotal: 1h 57s\tremaining: 22m 53s\n",
            "727:\tlearn: 0.0418741\ttotal: 1h 1m 4s\tremaining: 22m 48s\n",
            "728:\tlearn: 0.0418459\ttotal: 1h 1m 8s\tremaining: 22m 43s\n",
            "729:\tlearn: 0.0418088\ttotal: 1h 1m 12s\tremaining: 22m 38s\n",
            "730:\tlearn: 0.0417928\ttotal: 1h 1m 18s\tremaining: 22m 33s\n",
            "731:\tlearn: 0.0417783\ttotal: 1h 1m 22s\tremaining: 22m 28s\n",
            "732:\tlearn: 0.0417386\ttotal: 1h 1m 27s\tremaining: 22m 23s\n",
            "733:\tlearn: 0.0417069\ttotal: 1h 1m 33s\tremaining: 22m 18s\n",
            "734:\tlearn: 0.0416876\ttotal: 1h 1m 38s\tremaining: 22m 13s\n",
            "735:\tlearn: 0.0416650\ttotal: 1h 1m 43s\tremaining: 22m 8s\n",
            "736:\tlearn: 0.0416382\ttotal: 1h 1m 48s\tremaining: 22m 3s\n",
            "737:\tlearn: 0.0416188\ttotal: 1h 1m 53s\tremaining: 21m 58s\n",
            "738:\tlearn: 0.0416074\ttotal: 1h 1m 59s\tremaining: 21m 53s\n",
            "739:\tlearn: 0.0415832\ttotal: 1h 2m 3s\tremaining: 21m 48s\n",
            "740:\tlearn: 0.0415569\ttotal: 1h 2m 8s\tremaining: 21m 43s\n",
            "741:\tlearn: 0.0415224\ttotal: 1h 2m 14s\tremaining: 21m 38s\n",
            "742:\tlearn: 0.0415108\ttotal: 1h 2m 18s\tremaining: 21m 33s\n",
            "743:\tlearn: 0.0414991\ttotal: 1h 2m 23s\tremaining: 21m 27s\n",
            "744:\tlearn: 0.0414766\ttotal: 1h 2m 29s\tremaining: 21m 23s\n",
            "745:\tlearn: 0.0414373\ttotal: 1h 2m 34s\tremaining: 21m 18s\n",
            "746:\tlearn: 0.0413981\ttotal: 1h 2m 39s\tremaining: 21m 13s\n",
            "747:\tlearn: 0.0413802\ttotal: 1h 2m 45s\tremaining: 21m 8s\n",
            "748:\tlearn: 0.0413523\ttotal: 1h 2m 49s\tremaining: 21m 3s\n",
            "749:\tlearn: 0.0413262\ttotal: 1h 2m 55s\tremaining: 20m 58s\n",
            "750:\tlearn: 0.0412753\ttotal: 1h 3m\tremaining: 20m 53s\n",
            "751:\tlearn: 0.0412585\ttotal: 1h 3m 4s\tremaining: 20m 48s\n",
            "752:\tlearn: 0.0412236\ttotal: 1h 3m 11s\tremaining: 20m 43s\n",
            "753:\tlearn: 0.0412029\ttotal: 1h 3m 15s\tremaining: 20m 38s\n",
            "754:\tlearn: 0.0411800\ttotal: 1h 3m 19s\tremaining: 20m 33s\n",
            "755:\tlearn: 0.0411447\ttotal: 1h 3m 25s\tremaining: 20m 28s\n",
            "756:\tlearn: 0.0411347\ttotal: 1h 3m 30s\tremaining: 20m 23s\n",
            "757:\tlearn: 0.0410955\ttotal: 1h 3m 34s\tremaining: 20m 17s\n",
            "758:\tlearn: 0.0410715\ttotal: 1h 3m 40s\tremaining: 20m 13s\n",
            "759:\tlearn: 0.0410583\ttotal: 1h 3m 44s\tremaining: 20m 7s\n",
            "760:\tlearn: 0.0410313\ttotal: 1h 3m 49s\tremaining: 20m 2s\n",
            "761:\tlearn: 0.0409793\ttotal: 1h 3m 55s\tremaining: 19m 57s\n",
            "762:\tlearn: 0.0409551\ttotal: 1h 3m 59s\tremaining: 19m 52s\n",
            "763:\tlearn: 0.0409318\ttotal: 1h 4m 3s\tremaining: 19m 47s\n",
            "764:\tlearn: 0.0409168\ttotal: 1h 4m 9s\tremaining: 19m 42s\n",
            "765:\tlearn: 0.0408978\ttotal: 1h 4m 13s\tremaining: 19m 37s\n",
            "766:\tlearn: 0.0408865\ttotal: 1h 4m 17s\tremaining: 19m 31s\n",
            "767:\tlearn: 0.0408792\ttotal: 1h 4m 23s\tremaining: 19m 27s\n",
            "768:\tlearn: 0.0408519\ttotal: 1h 4m 27s\tremaining: 19m 21s\n",
            "769:\tlearn: 0.0408270\ttotal: 1h 4m 32s\tremaining: 19m 16s\n",
            "770:\tlearn: 0.0408086\ttotal: 1h 4m 38s\tremaining: 19m 12s\n",
            "771:\tlearn: 0.0407861\ttotal: 1h 4m 43s\tremaining: 19m 6s\n",
            "772:\tlearn: 0.0407670\ttotal: 1h 4m 47s\tremaining: 19m 1s\n",
            "773:\tlearn: 0.0407190\ttotal: 1h 4m 54s\tremaining: 18m 57s\n",
            "774:\tlearn: 0.0406796\ttotal: 1h 4m 58s\tremaining: 18m 51s\n",
            "775:\tlearn: 0.0406539\ttotal: 1h 5m 3s\tremaining: 18m 46s\n",
            "776:\tlearn: 0.0406200\ttotal: 1h 5m 9s\tremaining: 18m 42s\n",
            "777:\tlearn: 0.0405605\ttotal: 1h 5m 13s\tremaining: 18m 36s\n",
            "778:\tlearn: 0.0405409\ttotal: 1h 5m 19s\tremaining: 18m 31s\n",
            "779:\tlearn: 0.0405189\ttotal: 1h 5m 24s\tremaining: 18m 26s\n",
            "780:\tlearn: 0.0404892\ttotal: 1h 5m 28s\tremaining: 18m 21s\n",
            "781:\tlearn: 0.0404536\ttotal: 1h 5m 34s\tremaining: 18m 16s\n",
            "782:\tlearn: 0.0404219\ttotal: 1h 5m 39s\tremaining: 18m 11s\n",
            "783:\tlearn: 0.0403677\ttotal: 1h 5m 44s\tremaining: 18m 6s\n",
            "784:\tlearn: 0.0403404\ttotal: 1h 5m 50s\tremaining: 18m 1s\n",
            "785:\tlearn: 0.0403202\ttotal: 1h 5m 55s\tremaining: 17m 56s\n",
            "786:\tlearn: 0.0402902\ttotal: 1h 6m\tremaining: 17m 51s\n",
            "787:\tlearn: 0.0402645\ttotal: 1h 6m 6s\tremaining: 17m 47s\n",
            "788:\tlearn: 0.0402273\ttotal: 1h 6m 10s\tremaining: 17m 41s\n",
            "789:\tlearn: 0.0401904\ttotal: 1h 6m 16s\tremaining: 17m 37s\n",
            "790:\tlearn: 0.0401606\ttotal: 1h 6m 20s\tremaining: 17m 31s\n",
            "791:\tlearn: 0.0401352\ttotal: 1h 6m 25s\tremaining: 17m 26s\n",
            "792:\tlearn: 0.0400998\ttotal: 1h 6m 30s\tremaining: 17m 21s\n",
            "793:\tlearn: 0.0400574\ttotal: 1h 6m 36s\tremaining: 17m 16s\n",
            "794:\tlearn: 0.0400435\ttotal: 1h 6m 40s\tremaining: 17m 11s\n",
            "795:\tlearn: 0.0400107\ttotal: 1h 6m 47s\tremaining: 17m 6s\n",
            "796:\tlearn: 0.0399730\ttotal: 1h 6m 51s\tremaining: 17m 1s\n",
            "797:\tlearn: 0.0399431\ttotal: 1h 6m 56s\tremaining: 16m 56s\n",
            "798:\tlearn: 0.0399261\ttotal: 1h 7m 2s\tremaining: 16m 52s\n",
            "799:\tlearn: 0.0398942\ttotal: 1h 7m 7s\tremaining: 16m 46s\n",
            "800:\tlearn: 0.0398728\ttotal: 1h 7m 13s\tremaining: 16m 41s\n",
            "801:\tlearn: 0.0398644\ttotal: 1h 7m 18s\tremaining: 16m 36s\n",
            "802:\tlearn: 0.0398448\ttotal: 1h 7m 22s\tremaining: 16m 31s\n",
            "803:\tlearn: 0.0398311\ttotal: 1h 7m 27s\tremaining: 16m 26s\n",
            "804:\tlearn: 0.0398003\ttotal: 1h 7m 32s\tremaining: 16m 21s\n",
            "805:\tlearn: 0.0397800\ttotal: 1h 7m 37s\tremaining: 16m 16s\n",
            "806:\tlearn: 0.0397422\ttotal: 1h 7m 42s\tremaining: 16m 11s\n",
            "807:\tlearn: 0.0397146\ttotal: 1h 7m 47s\tremaining: 16m 6s\n",
            "808:\tlearn: 0.0396824\ttotal: 1h 7m 51s\tremaining: 16m 1s\n",
            "809:\tlearn: 0.0396620\ttotal: 1h 7m 57s\tremaining: 15m 56s\n",
            "810:\tlearn: 0.0396467\ttotal: 1h 8m 2s\tremaining: 15m 51s\n",
            "811:\tlearn: 0.0396197\ttotal: 1h 8m 6s\tremaining: 15m 46s\n",
            "812:\tlearn: 0.0396097\ttotal: 1h 8m 12s\tremaining: 15m 41s\n",
            "813:\tlearn: 0.0395951\ttotal: 1h 8m 16s\tremaining: 15m 36s\n",
            "814:\tlearn: 0.0395795\ttotal: 1h 8m 21s\tremaining: 15m 30s\n",
            "815:\tlearn: 0.0395599\ttotal: 1h 8m 26s\tremaining: 15m 26s\n",
            "816:\tlearn: 0.0395498\ttotal: 1h 8m 31s\tremaining: 15m 20s\n",
            "817:\tlearn: 0.0395280\ttotal: 1h 8m 35s\tremaining: 15m 15s\n",
            "818:\tlearn: 0.0395018\ttotal: 1h 8m 42s\tremaining: 15m 11s\n",
            "819:\tlearn: 0.0394723\ttotal: 1h 8m 46s\tremaining: 15m 5s\n",
            "820:\tlearn: 0.0394455\ttotal: 1h 8m 51s\tremaining: 15m\n",
            "821:\tlearn: 0.0394100\ttotal: 1h 8m 57s\tremaining: 14m 55s\n",
            "822:\tlearn: 0.0393877\ttotal: 1h 9m 2s\tremaining: 14m 50s\n",
            "823:\tlearn: 0.0393536\ttotal: 1h 9m 7s\tremaining: 14m 45s\n",
            "824:\tlearn: 0.0393402\ttotal: 1h 9m 12s\tremaining: 14m 40s\n",
            "825:\tlearn: 0.0393085\ttotal: 1h 9m 16s\tremaining: 14m 35s\n",
            "826:\tlearn: 0.0392929\ttotal: 1h 9m 22s\tremaining: 14m 30s\n",
            "827:\tlearn: 0.0392764\ttotal: 1h 9m 27s\tremaining: 14m 25s\n",
            "828:\tlearn: 0.0392575\ttotal: 1h 9m 31s\tremaining: 14m 20s\n",
            "829:\tlearn: 0.0392393\ttotal: 1h 9m 37s\tremaining: 14m 15s\n",
            "830:\tlearn: 0.0392131\ttotal: 1h 9m 42s\tremaining: 14m 10s\n",
            "831:\tlearn: 0.0391874\ttotal: 1h 9m 47s\tremaining: 14m 5s\n",
            "832:\tlearn: 0.0391568\ttotal: 1h 9m 53s\tremaining: 14m\n",
            "833:\tlearn: 0.0391210\ttotal: 1h 9m 57s\tremaining: 13m 55s\n",
            "834:\tlearn: 0.0390891\ttotal: 1h 10m 2s\tremaining: 13m 50s\n",
            "835:\tlearn: 0.0390783\ttotal: 1h 10m 8s\tremaining: 13m 45s\n",
            "836:\tlearn: 0.0390491\ttotal: 1h 10m 13s\tremaining: 13m 40s\n",
            "837:\tlearn: 0.0390389\ttotal: 1h 10m 18s\tremaining: 13m 35s\n",
            "838:\tlearn: 0.0390172\ttotal: 1h 10m 24s\tremaining: 13m 30s\n",
            "839:\tlearn: 0.0389891\ttotal: 1h 10m 28s\tremaining: 13m 25s\n",
            "840:\tlearn: 0.0389624\ttotal: 1h 10m 34s\tremaining: 13m 20s\n",
            "841:\tlearn: 0.0389424\ttotal: 1h 10m 39s\tremaining: 13m 15s\n",
            "842:\tlearn: 0.0389260\ttotal: 1h 10m 43s\tremaining: 13m 10s\n",
            "843:\tlearn: 0.0388968\ttotal: 1h 10m 50s\tremaining: 13m 5s\n",
            "844:\tlearn: 0.0388576\ttotal: 1h 10m 54s\tremaining: 13m\n",
            "845:\tlearn: 0.0388323\ttotal: 1h 10m 59s\tremaining: 12m 55s\n",
            "846:\tlearn: 0.0388135\ttotal: 1h 11m 5s\tremaining: 12m 50s\n",
            "847:\tlearn: 0.0387783\ttotal: 1h 11m 9s\tremaining: 12m 45s\n",
            "848:\tlearn: 0.0387531\ttotal: 1h 11m 14s\tremaining: 12m 40s\n",
            "849:\tlearn: 0.0387256\ttotal: 1h 11m 20s\tremaining: 12m 35s\n",
            "850:\tlearn: 0.0387018\ttotal: 1h 11m 25s\tremaining: 12m 30s\n",
            "851:\tlearn: 0.0386760\ttotal: 1h 11m 29s\tremaining: 12m 25s\n",
            "852:\tlearn: 0.0386442\ttotal: 1h 11m 35s\tremaining: 12m 20s\n",
            "853:\tlearn: 0.0386071\ttotal: 1h 11m 40s\tremaining: 12m 15s\n",
            "854:\tlearn: 0.0385677\ttotal: 1h 11m 45s\tremaining: 12m 10s\n",
            "855:\tlearn: 0.0385489\ttotal: 1h 11m 51s\tremaining: 12m 5s\n",
            "856:\tlearn: 0.0385350\ttotal: 1h 11m 55s\tremaining: 12m\n",
            "857:\tlearn: 0.0385134\ttotal: 1h 12m\tremaining: 11m 55s\n",
            "858:\tlearn: 0.0384760\ttotal: 1h 12m 5s\tremaining: 11m 50s\n",
            "859:\tlearn: 0.0384470\ttotal: 1h 12m 10s\tremaining: 11m 44s\n",
            "860:\tlearn: 0.0384224\ttotal: 1h 12m 16s\tremaining: 11m 40s\n",
            "861:\tlearn: 0.0384115\ttotal: 1h 12m 20s\tremaining: 11m 34s\n",
            "862:\tlearn: 0.0383866\ttotal: 1h 12m 25s\tremaining: 11m 29s\n",
            "863:\tlearn: 0.0383527\ttotal: 1h 12m 32s\tremaining: 11m 25s\n",
            "864:\tlearn: 0.0383318\ttotal: 1h 12m 36s\tremaining: 11m 19s\n",
            "865:\tlearn: 0.0383107\ttotal: 1h 12m 41s\tremaining: 11m 14s\n",
            "866:\tlearn: 0.0382870\ttotal: 1h 12m 47s\tremaining: 11m 10s\n",
            "867:\tlearn: 0.0382582\ttotal: 1h 12m 52s\tremaining: 11m 4s\n",
            "868:\tlearn: 0.0382328\ttotal: 1h 12m 58s\tremaining: 11m\n",
            "869:\tlearn: 0.0382108\ttotal: 1h 13m 4s\tremaining: 10m 55s\n",
            "870:\tlearn: 0.0381691\ttotal: 1h 13m 9s\tremaining: 10m 50s\n",
            "871:\tlearn: 0.0381439\ttotal: 1h 13m 15s\tremaining: 10m 45s\n",
            "872:\tlearn: 0.0381182\ttotal: 1h 13m 20s\tremaining: 10m 40s\n",
            "873:\tlearn: 0.0380953\ttotal: 1h 13m 24s\tremaining: 10m 34s\n",
            "874:\tlearn: 0.0380610\ttotal: 1h 13m 30s\tremaining: 10m 30s\n",
            "875:\tlearn: 0.0380512\ttotal: 1h 13m 35s\tremaining: 10m 24s\n",
            "876:\tlearn: 0.0380398\ttotal: 1h 13m 40s\tremaining: 10m 20s\n",
            "877:\tlearn: 0.0380233\ttotal: 1h 13m 46s\tremaining: 10m 15s\n",
            "878:\tlearn: 0.0379715\ttotal: 1h 13m 50s\tremaining: 10m 9s\n",
            "879:\tlearn: 0.0379395\ttotal: 1h 13m 57s\tremaining: 10m 5s\n",
            "880:\tlearn: 0.0379165\ttotal: 1h 14m 1s\tremaining: 9m 59s\n",
            "881:\tlearn: 0.0378905\ttotal: 1h 14m 6s\tremaining: 9m 54s\n",
            "882:\tlearn: 0.0378697\ttotal: 1h 14m 12s\tremaining: 9m 50s\n",
            "883:\tlearn: 0.0378453\ttotal: 1h 14m 17s\tremaining: 9m 44s\n",
            "884:\tlearn: 0.0378232\ttotal: 1h 14m 22s\tremaining: 9m 39s\n",
            "885:\tlearn: 0.0378047\ttotal: 1h 14m 28s\tremaining: 9m 34s\n",
            "886:\tlearn: 0.0377980\ttotal: 1h 14m 32s\tremaining: 9m 29s\n",
            "887:\tlearn: 0.0377781\ttotal: 1h 14m 38s\tremaining: 9m 24s\n",
            "888:\tlearn: 0.0377474\ttotal: 1h 14m 43s\tremaining: 9m 19s\n",
            "889:\tlearn: 0.0377114\ttotal: 1h 14m 48s\tremaining: 9m 14s\n",
            "890:\tlearn: 0.0376809\ttotal: 1h 14m 54s\tremaining: 9m 9s\n",
            "891:\tlearn: 0.0376647\ttotal: 1h 14m 59s\tremaining: 9m 4s\n",
            "892:\tlearn: 0.0376408\ttotal: 1h 15m 3s\tremaining: 8m 59s\n",
            "893:\tlearn: 0.0376229\ttotal: 1h 15m 10s\tremaining: 8m 54s\n",
            "894:\tlearn: 0.0375939\ttotal: 1h 15m 14s\tremaining: 8m 49s\n",
            "895:\tlearn: 0.0375724\ttotal: 1h 15m 19s\tremaining: 8m 44s\n",
            "896:\tlearn: 0.0375474\ttotal: 1h 15m 25s\tremaining: 8m 39s\n",
            "897:\tlearn: 0.0375123\ttotal: 1h 15m 30s\tremaining: 8m 34s\n",
            "898:\tlearn: 0.0374883\ttotal: 1h 15m 35s\tremaining: 8m 29s\n",
            "899:\tlearn: 0.0374682\ttotal: 1h 15m 40s\tremaining: 8m 24s\n",
            "900:\tlearn: 0.0374522\ttotal: 1h 15m 45s\tremaining: 8m 19s\n",
            "901:\tlearn: 0.0374224\ttotal: 1h 15m 51s\tremaining: 8m 14s\n",
            "902:\tlearn: 0.0373983\ttotal: 1h 15m 56s\tremaining: 8m 9s\n",
            "903:\tlearn: 0.0373853\ttotal: 1h 16m\tremaining: 8m 4s\n",
            "904:\tlearn: 0.0373591\ttotal: 1h 16m 7s\tremaining: 7m 59s\n",
            "905:\tlearn: 0.0373446\ttotal: 1h 16m 11s\tremaining: 7m 54s\n",
            "906:\tlearn: 0.0373205\ttotal: 1h 16m 15s\tremaining: 7m 49s\n",
            "907:\tlearn: 0.0373032\ttotal: 1h 16m 21s\tremaining: 7m 44s\n",
            "908:\tlearn: 0.0372929\ttotal: 1h 16m 26s\tremaining: 7m 39s\n",
            "909:\tlearn: 0.0372615\ttotal: 1h 16m 31s\tremaining: 7m 34s\n",
            "910:\tlearn: 0.0372410\ttotal: 1h 16m 37s\tremaining: 7m 29s\n",
            "911:\tlearn: 0.0372180\ttotal: 1h 16m 42s\tremaining: 7m 24s\n",
            "912:\tlearn: 0.0371989\ttotal: 1h 16m 47s\tremaining: 7m 19s\n",
            "913:\tlearn: 0.0371801\ttotal: 1h 16m 53s\tremaining: 7m 14s\n",
            "914:\tlearn: 0.0371443\ttotal: 1h 16m 57s\tremaining: 7m 8s\n",
            "915:\tlearn: 0.0371097\ttotal: 1h 17m 3s\tremaining: 7m 4s\n",
            "916:\tlearn: 0.0370810\ttotal: 1h 17m 9s\tremaining: 6m 58s\n",
            "917:\tlearn: 0.0370648\ttotal: 1h 17m 13s\tremaining: 6m 53s\n",
            "918:\tlearn: 0.0370457\ttotal: 1h 17m 19s\tremaining: 6m 48s\n",
            "919:\tlearn: 0.0370397\ttotal: 1h 17m 24s\tremaining: 6m 43s\n",
            "920:\tlearn: 0.0370266\ttotal: 1h 17m 28s\tremaining: 6m 38s\n",
            "921:\tlearn: 0.0370110\ttotal: 1h 17m 35s\tremaining: 6m 33s\n",
            "922:\tlearn: 0.0369707\ttotal: 1h 17m 39s\tremaining: 6m 28s\n",
            "923:\tlearn: 0.0369574\ttotal: 1h 17m 43s\tremaining: 6m 23s\n",
            "924:\tlearn: 0.0369334\ttotal: 1h 17m 50s\tremaining: 6m 18s\n",
            "925:\tlearn: 0.0369072\ttotal: 1h 17m 54s\tremaining: 6m 13s\n",
            "926:\tlearn: 0.0368932\ttotal: 1h 17m 59s\tremaining: 6m 8s\n",
            "927:\tlearn: 0.0368713\ttotal: 1h 18m 5s\tremaining: 6m 3s\n",
            "928:\tlearn: 0.0368376\ttotal: 1h 18m 10s\tremaining: 5m 58s\n",
            "929:\tlearn: 0.0368195\ttotal: 1h 18m 15s\tremaining: 5m 53s\n",
            "930:\tlearn: 0.0367949\ttotal: 1h 18m 20s\tremaining: 5m 48s\n",
            "931:\tlearn: 0.0367831\ttotal: 1h 18m 25s\tremaining: 5m 43s\n",
            "932:\tlearn: 0.0367649\ttotal: 1h 18m 31s\tremaining: 5m 38s\n",
            "933:\tlearn: 0.0367340\ttotal: 1h 18m 36s\tremaining: 5m 33s\n",
            "934:\tlearn: 0.0367244\ttotal: 1h 18m 40s\tremaining: 5m 28s\n",
            "935:\tlearn: 0.0367206\ttotal: 1h 18m 46s\tremaining: 5m 23s\n",
            "936:\tlearn: 0.0366996\ttotal: 1h 18m 50s\tremaining: 5m 18s\n",
            "937:\tlearn: 0.0366814\ttotal: 1h 18m 55s\tremaining: 5m 12s\n",
            "938:\tlearn: 0.0366598\ttotal: 1h 19m\tremaining: 5m 7s\n",
            "939:\tlearn: 0.0366312\ttotal: 1h 19m 5s\tremaining: 5m 2s\n",
            "940:\tlearn: 0.0366065\ttotal: 1h 19m 9s\tremaining: 4m 57s\n",
            "941:\tlearn: 0.0365777\ttotal: 1h 19m 16s\tremaining: 4m 52s\n",
            "942:\tlearn: 0.0365592\ttotal: 1h 19m 20s\tremaining: 4m 47s\n",
            "943:\tlearn: 0.0365391\ttotal: 1h 19m 25s\tremaining: 4m 42s\n",
            "944:\tlearn: 0.0365232\ttotal: 1h 19m 31s\tremaining: 4m 37s\n",
            "945:\tlearn: 0.0365023\ttotal: 1h 19m 35s\tremaining: 4m 32s\n",
            "946:\tlearn: 0.0364893\ttotal: 1h 19m 39s\tremaining: 4m 27s\n",
            "947:\tlearn: 0.0364658\ttotal: 1h 19m 45s\tremaining: 4m 22s\n",
            "948:\tlearn: 0.0364396\ttotal: 1h 19m 50s\tremaining: 4m 17s\n",
            "949:\tlearn: 0.0364232\ttotal: 1h 19m 55s\tremaining: 4m 12s\n",
            "950:\tlearn: 0.0364097\ttotal: 1h 20m 1s\tremaining: 4m 7s\n",
            "951:\tlearn: 0.0363875\ttotal: 1h 20m 6s\tremaining: 4m 2s\n",
            "952:\tlearn: 0.0363652\ttotal: 1h 20m 13s\tremaining: 3m 57s\n",
            "953:\tlearn: 0.0363437\ttotal: 1h 20m 17s\tremaining: 3m 52s\n",
            "954:\tlearn: 0.0363268\ttotal: 1h 20m 22s\tremaining: 3m 47s\n",
            "955:\tlearn: 0.0363028\ttotal: 1h 20m 28s\tremaining: 3m 42s\n",
            "956:\tlearn: 0.0362785\ttotal: 1h 20m 32s\tremaining: 3m 37s\n",
            "957:\tlearn: 0.0362722\ttotal: 1h 20m 36s\tremaining: 3m 32s\n",
            "958:\tlearn: 0.0362604\ttotal: 1h 20m 42s\tremaining: 3m 27s\n",
            "959:\tlearn: 0.0362524\ttotal: 1h 20m 46s\tremaining: 3m 21s\n",
            "960:\tlearn: 0.0362365\ttotal: 1h 20m 50s\tremaining: 3m 16s\n",
            "961:\tlearn: 0.0362194\ttotal: 1h 20m 56s\tremaining: 3m 11s\n",
            "962:\tlearn: 0.0362046\ttotal: 1h 21m 1s\tremaining: 3m 6s\n",
            "963:\tlearn: 0.0361839\ttotal: 1h 21m 6s\tremaining: 3m 1s\n",
            "964:\tlearn: 0.0361630\ttotal: 1h 21m 12s\tremaining: 2m 56s\n",
            "965:\tlearn: 0.0361370\ttotal: 1h 21m 16s\tremaining: 2m 51s\n",
            "966:\tlearn: 0.0361208\ttotal: 1h 21m 21s\tremaining: 2m 46s\n",
            "967:\tlearn: 0.0360985\ttotal: 1h 21m 27s\tremaining: 2m 41s\n",
            "968:\tlearn: 0.0360848\ttotal: 1h 21m 31s\tremaining: 2m 36s\n",
            "969:\tlearn: 0.0360720\ttotal: 1h 21m 36s\tremaining: 2m 31s\n",
            "970:\tlearn: 0.0360596\ttotal: 1h 21m 41s\tremaining: 2m 26s\n",
            "971:\tlearn: 0.0360310\ttotal: 1h 21m 46s\tremaining: 2m 21s\n",
            "972:\tlearn: 0.0360227\ttotal: 1h 21m 50s\tremaining: 2m 16s\n",
            "973:\tlearn: 0.0360030\ttotal: 1h 21m 56s\tremaining: 2m 11s\n",
            "974:\tlearn: 0.0359914\ttotal: 1h 22m\tremaining: 2m 6s\n",
            "975:\tlearn: 0.0359720\ttotal: 1h 22m 7s\tremaining: 2m 1s\n",
            "976:\tlearn: 0.0359601\ttotal: 1h 22m 11s\tremaining: 1m 56s\n",
            "977:\tlearn: 0.0359481\ttotal: 1h 22m 15s\tremaining: 1m 51s\n",
            "978:\tlearn: 0.0359370\ttotal: 1h 22m 20s\tremaining: 1m 45s\n",
            "979:\tlearn: 0.0359220\ttotal: 1h 22m 25s\tremaining: 1m 40s\n",
            "980:\tlearn: 0.0358922\ttotal: 1h 22m 29s\tremaining: 1m 35s\n",
            "981:\tlearn: 0.0358702\ttotal: 1h 22m 35s\tremaining: 1m 30s\n",
            "982:\tlearn: 0.0358403\ttotal: 1h 22m 40s\tremaining: 1m 25s\n",
            "983:\tlearn: 0.0358123\ttotal: 1h 22m 44s\tremaining: 1m 20s\n",
            "984:\tlearn: 0.0358017\ttotal: 1h 22m 50s\tremaining: 1m 15s\n",
            "985:\tlearn: 0.0357888\ttotal: 1h 22m 54s\tremaining: 1m 10s\n",
            "986:\tlearn: 0.0357707\ttotal: 1h 22m 59s\tremaining: 1m 5s\n",
            "987:\tlearn: 0.0357537\ttotal: 1h 23m 5s\tremaining: 1m\n",
            "988:\tlearn: 0.0357370\ttotal: 1h 23m 10s\tremaining: 55.5s\n",
            "989:\tlearn: 0.0357234\ttotal: 1h 23m 14s\tremaining: 50.5s\n",
            "990:\tlearn: 0.0357033\ttotal: 1h 23m 20s\tremaining: 45.4s\n",
            "991:\tlearn: 0.0356756\ttotal: 1h 23m 24s\tremaining: 40.4s\n",
            "992:\tlearn: 0.0356548\ttotal: 1h 23m 28s\tremaining: 35.3s\n",
            "993:\tlearn: 0.0356437\ttotal: 1h 23m 34s\tremaining: 30.3s\n",
            "994:\tlearn: 0.0356306\ttotal: 1h 23m 39s\tremaining: 25.2s\n",
            "995:\tlearn: 0.0356194\ttotal: 1h 23m 43s\tremaining: 20.2s\n",
            "996:\tlearn: 0.0356047\ttotal: 1h 23m 49s\tremaining: 15.1s\n",
            "997:\tlearn: 0.0355914\ttotal: 1h 23m 53s\tremaining: 10.1s\n",
            "998:\tlearn: 0.0355786\ttotal: 1h 23m 58s\tremaining: 5.04s\n",
            "999:\tlearn: 0.0355523\ttotal: 1h 24m 4s\tremaining: 0us\n",
            "              precision    recall  f1-score   support\n",
            "\n",
            "           0       0.99      0.99      0.99   4644401\n",
            "           1       0.99      0.99      0.99   4644400\n",
            "\n",
            "    accuracy                           0.99   9288801\n",
            "   macro avg       0.99      0.99      0.99   9288801\n",
            "weighted avg       0.99      0.99      0.99   9288801\n",
            "\n"
          ]
        }
      ],
      "source": [
        "model = CatBoostClassifier()\n",
        "model.fit(X_train, y_train,plot=True) \n",
        "y_pred = model.predict(X_test)   \n",
        "print(classification_report(y_test, y_pred))  "
      ]
    },
    {
      "cell_type": "code",
      "execution_count": null,
      "metadata": {
        "colab": {
          "base_uri": "https://localhost:8080/"
        },
        "id": "6optOkpoGWAl",
        "outputId": "f583d2f6-08a6-4f84-8d50-1d90e363f874"
      },
      "outputs": [
        {
          "name": "stdout",
          "output_type": "stream",
          "text": [
            "0.9879249924684743\n",
            "0.9879351489130821\n"
          ]
        }
      ],
      "source": [
        "from sklearn.metrics import f1_score,roc_auc_score\n",
        "print(f1_score(y_test, y_pred)) \n",
        "print(roc_auc_score(y_test, y_pred))"
      ]
    },
    {
      "cell_type": "code",
      "execution_count": null,
      "metadata": {
        "id": "ot5-rJS-OnZ2"
      },
      "outputs": [],
      "source": [
        "model.save_model('model/model.h5')"
      ]
    },
    {
      "cell_type": "code",
      "execution_count": null,
      "metadata": {
        "id": "S-bD4CualSEm"
      },
      "outputs": [],
      "source": []
    }
  ],
  "metadata": {
    "accelerator": "GPU",
    "colab": {
      "provenance": []
    },
    "gpuClass": "standard",
    "kernelspec": {
      "display_name": "Python 3",
      "name": "python3"
    },
    "language_info": {
      "name": "python"
    },
    "widgets": {
      "application/vnd.jupyter.widget-state+json": {
        "c7bb8307452f43b0ba839e90f6f8ba21": {
          "model_module": "catboost-widget",
          "model_module_version": "^1.0.0",
          "model_name": "CatboostWidgetModel",
          "state": {
            "_dom_classes": [],
            "_model_module": "catboost-widget",
            "_model_module_version": "^1.0.0",
            "_model_name": "CatboostWidgetModel",
            "_view_count": null,
            "_view_module": "catboost-widget",
            "_view_module_version": "^1.0.0",
            "_view_name": "CatboostWidgetView",
            "data": {
              "catboost_info": {
                "content": {
                  "data": {
                    "iterations": [
                      {
                        "iteration": 0,
                        "learn": [
                          0.4663000196
                        ],
                        "passed_time": 6.373971612,
                        "remaining_time": 6367.59764
                      },
                      {
                        "iteration": 1,
                        "learn": [
                          0.4107489908
                        ],
                        "passed_time": 11.27926847,
                        "remaining_time": 5628.354965
                      },
                      {
                        "iteration": 2,
                        "learn": [
                          0.3610565847
                        ],
                        "passed_time": 16.02010242,
                        "remaining_time": 5324.014036
                      },
                      {
                        "iteration": 3,
                        "learn": [
                          0.3284013185
                        ],
                        "passed_time": 22.93516035,
                        "remaining_time": 5710.854927
                      },
                      {
                        "iteration": 4,
                        "learn": [
                          0.3029884898
                        ],
                        "passed_time": 27.18338322,
                        "remaining_time": 5409.493262
                      },
                      {
                        "iteration": 5,
                        "learn": [
                          0.2804721807
                        ],
                        "passed_time": 31.83523479,
                        "remaining_time": 5274.03723
                      },
                      {
                        "iteration": 6,
                        "learn": [
                          0.2656735305
                        ],
                        "passed_time": 38.075517,
                        "remaining_time": 5401.284055
                      },
                      {
                        "iteration": 7,
                        "learn": [
                          0.248524441
                        ],
                        "passed_time": 42.21151122,
                        "remaining_time": 5234.227391
                      },
                      {
                        "iteration": 8,
                        "learn": [
                          0.2425177849
                        ],
                        "passed_time": 46.46168915,
                        "remaining_time": 5115.948216
                      },
                      {
                        "iteration": 9,
                        "learn": [
                          0.2376778037
                        ],
                        "passed_time": 53.16548498,
                        "remaining_time": 5263.383013
                      },
                      {
                        "iteration": 10,
                        "learn": [
                          0.2323760935
                        ],
                        "passed_time": 57.44876205,
                        "remaining_time": 5165.16597
                      },
                      {
                        "iteration": 11,
                        "learn": [
                          0.2289995146
                        ],
                        "passed_time": 62.02648876,
                        "remaining_time": 5106.847574
                      },
                      {
                        "iteration": 12,
                        "learn": [
                          0.2147502355
                        ],
                        "passed_time": 68.30165765,
                        "remaining_time": 5185.672008
                      },
                      {
                        "iteration": 13,
                        "learn": [
                          0.2112499025
                        ],
                        "passed_time": 72.49843369,
                        "remaining_time": 5105.961115
                      },
                      {
                        "iteration": 14,
                        "learn": [
                          0.2007850281
                        ],
                        "passed_time": 78.408802,
                        "remaining_time": 5148.844665
                      },
                      {
                        "iteration": 15,
                        "learn": [
                          0.1968904541
                        ],
                        "passed_time": 83.7586952,
                        "remaining_time": 5151.159755
                      },
                      {
                        "iteration": 16,
                        "learn": [
                          0.1903314036
                        ],
                        "passed_time": 88.25309659,
                        "remaining_time": 5103.105526
                      },
                      {
                        "iteration": 17,
                        "learn": [
                          0.1846519726
                        ],
                        "passed_time": 95.19531587,
                        "remaining_time": 5193.433344
                      },
                      {
                        "iteration": 18,
                        "learn": [
                          0.1826800531
                        ],
                        "passed_time": 99.35821144,
                        "remaining_time": 5130.021338
                      },
                      {
                        "iteration": 19,
                        "learn": [
                          0.1811714682
                        ],
                        "passed_time": 103.6120937,
                        "remaining_time": 5076.992592
                      },
                      {
                        "iteration": 20,
                        "learn": [
                          0.1765267449
                        ],
                        "passed_time": 110.1597056,
                        "remaining_time": 5135.540559
                      },
                      {
                        "iteration": 21,
                        "learn": [
                          0.1722314284
                        ],
                        "passed_time": 115.1230852,
                        "remaining_time": 5117.744425
                      },
                      {
                        "iteration": 22,
                        "learn": [
                          0.1712637599
                        ],
                        "passed_time": 119.1075353,
                        "remaining_time": 5059.480955
                      },
                      {
                        "iteration": 23,
                        "learn": [
                          0.1692859922
                        ],
                        "passed_time": 125.0320832,
                        "remaining_time": 5084.638051
                      },
                      {
                        "iteration": 24,
                        "learn": [
                          0.167940778
                        ],
                        "passed_time": 129.5712093,
                        "remaining_time": 5053.277163
                      },
                      {
                        "iteration": 25,
                        "learn": [
                          0.1604567003
                        ],
                        "passed_time": 135.1874372,
                        "remaining_time": 5064.329378
                      },
                      {
                        "iteration": 26,
                        "learn": [
                          0.1574527713
                        ],
                        "passed_time": 140.7081213,
                        "remaining_time": 5070.70378
                      },
                      {
                        "iteration": 27,
                        "learn": [
                          0.1568320122
                        ],
                        "passed_time": 144.8622042,
                        "remaining_time": 5028.787945
                      },
                      {
                        "iteration": 28,
                        "learn": [
                          0.1520433886
                        ],
                        "passed_time": 151.095706,
                        "remaining_time": 5059.101052
                      },
                      {
                        "iteration": 29,
                        "learn": [
                          0.1501470834
                        ],
                        "passed_time": 155.6498591,
                        "remaining_time": 5032.678776
                      },
                      {
                        "iteration": 30,
                        "learn": [
                          0.147924361
                        ],
                        "passed_time": 160.2105188,
                        "remaining_time": 5007.870732
                      },
                      {
                        "iteration": 31,
                        "learn": [
                          0.1459755049
                        ],
                        "passed_time": 166.3366168,
                        "remaining_time": 5031.682657
                      },
                      {
                        "iteration": 32,
                        "learn": [
                          0.1442994717
                        ],
                        "passed_time": 170.546067,
                        "remaining_time": 4997.516568
                      },
                      {
                        "iteration": 33,
                        "learn": [
                          0.1430386042
                        ],
                        "passed_time": 175.3595775,
                        "remaining_time": 4982.275055
                      },
                      {
                        "iteration": 34,
                        "learn": [
                          0.1408787751
                        ],
                        "passed_time": 181.727493,
                        "remaining_time": 5010.486593
                      },
                      {
                        "iteration": 35,
                        "learn": [
                          0.1389372146
                        ],
                        "passed_time": 186.1166568,
                        "remaining_time": 4983.790477
                      },
                      {
                        "iteration": 36,
                        "learn": [
                          0.1371045473
                        ],
                        "passed_time": 191.0617406,
                        "remaining_time": 4972.769087
                      },
                      {
                        "iteration": 37,
                        "learn": [
                          0.1355190433
                        ],
                        "passed_time": 197.2719258,
                        "remaining_time": 4994.094543
                      },
                      {
                        "iteration": 38,
                        "learn": [
                          0.1345511381
                        ],
                        "passed_time": 201.4172643,
                        "remaining_time": 4963.127974
                      },
                      {
                        "iteration": 39,
                        "learn": [
                          0.1337369376
                        ],
                        "passed_time": 206.5892593,
                        "remaining_time": 4958.142224
                      },
                      {
                        "iteration": 40,
                        "learn": [
                          0.1314715258
                        ],
                        "passed_time": 212.4263312,
                        "remaining_time": 4968.703697
                      },
                      {
                        "iteration": 41,
                        "learn": [
                          0.1299356668
                        ],
                        "passed_time": 217.343839,
                        "remaining_time": 4957.50947
                      },
                      {
                        "iteration": 42,
                        "learn": [
                          0.1274139121
                        ],
                        "passed_time": 223.4148045,
                        "remaining_time": 4972.278324
                      },
                      {
                        "iteration": 43,
                        "learn": [
                          0.1266215005
                        ],
                        "passed_time": 227.9527693,
                        "remaining_time": 4952.791987
                      },
                      {
                        "iteration": 44,
                        "learn": [
                          0.123801215
                        ],
                        "passed_time": 232.5838928,
                        "remaining_time": 4935.947058
                      },
                      {
                        "iteration": 45,
                        "learn": [
                          0.122956782
                        ],
                        "passed_time": 238.8488246,
                        "remaining_time": 4953.516928
                      },
                      {
                        "iteration": 46,
                        "learn": [
                          0.1221152272
                        ],
                        "passed_time": 243.0696585,
                        "remaining_time": 4928.625203
                      },
                      {
                        "iteration": 47,
                        "learn": [
                          0.1214934531
                        ],
                        "passed_time": 247.4387727,
                        "remaining_time": 4907.535659
                      },
                      {
                        "iteration": 48,
                        "learn": [
                          0.1205591194
                        ],
                        "passed_time": 253.2739749,
                        "remaining_time": 4915.582655
                      },
                      {
                        "iteration": 49,
                        "learn": [
                          0.1196834569
                        ],
                        "passed_time": 258.1853601,
                        "remaining_time": 4905.521842
                      },
                      {
                        "iteration": 50,
                        "learn": [
                          0.1188476462
                        ],
                        "passed_time": 262.9602823,
                        "remaining_time": 4893.123685
                      },
                      {
                        "iteration": 51,
                        "learn": [
                          0.1183529607
                        ],
                        "passed_time": 268.5704214,
                        "remaining_time": 4896.245375
                      },
                      {
                        "iteration": 52,
                        "learn": [
                          0.1174173119
                        ],
                        "passed_time": 273.1620026,
                        "remaining_time": 4880.838047
                      },
                      {
                        "iteration": 53,
                        "learn": [
                          0.1161224289
                        ],
                        "passed_time": 278.339549,
                        "remaining_time": 4876.096543
                      },
                      {
                        "iteration": 54,
                        "learn": [
                          0.1154983308
                        ],
                        "passed_time": 283.2326598,
                        "remaining_time": 4866.452064
                      },
                      {
                        "iteration": 55,
                        "learn": [
                          0.1146243968
                        ],
                        "passed_time": 288.0299819,
                        "remaining_time": 4855.362552
                      },
                      {
                        "iteration": 56,
                        "learn": [
                          0.114134377
                        ],
                        "passed_time": 294.0733691,
                        "remaining_time": 4865.108545
                      },
                      {
                        "iteration": 57,
                        "learn": [
                          0.1136445302
                        ],
                        "passed_time": 298.5398698,
                        "remaining_time": 4848.699264
                      },
                      {
                        "iteration": 58,
                        "learn": [
                          0.1130066942
                        ],
                        "passed_time": 303.1623206,
                        "remaining_time": 4835.182097
                      },
                      {
                        "iteration": 59,
                        "learn": [
                          0.1124345652
                        ],
                        "passed_time": 309.3534341,
                        "remaining_time": 4846.537135
                      },
                      {
                        "iteration": 60,
                        "learn": [
                          0.1116542304
                        ],
                        "passed_time": 314.0605653,
                        "remaining_time": 4834.473292
                      },
                      {
                        "iteration": 61,
                        "learn": [
                          0.1108580121
                        ],
                        "passed_time": 318.2610917,
                        "remaining_time": 4814.982323
                      },
                      {
                        "iteration": 62,
                        "learn": [
                          0.1100955963
                        ],
                        "passed_time": 324.4279163,
                        "remaining_time": 4825.221549
                      },
                      {
                        "iteration": 63,
                        "learn": [
                          0.1097439169
                        ],
                        "passed_time": 328.7893542,
                        "remaining_time": 4808.544305
                      },
                      {
                        "iteration": 64,
                        "learn": [
                          0.1091378819
                        ],
                        "passed_time": 333.2294904,
                        "remaining_time": 4793.378055
                      },
                      {
                        "iteration": 65,
                        "learn": [
                          0.1085772238
                        ],
                        "passed_time": 339.5610207,
                        "remaining_time": 4805.302929
                      },
                      {
                        "iteration": 66,
                        "learn": [
                          0.1081136701
                        ],
                        "passed_time": 344.0624223,
                        "remaining_time": 4791.197612
                      },
                      {
                        "iteration": 67,
                        "learn": [
                          0.1073590747
                        ],
                        "passed_time": 349.537276,
                        "remaining_time": 4790.716783
                      },
                      {
                        "iteration": 68,
                        "learn": [
                          0.1061386016
                        ],
                        "passed_time": 354.9112333,
                        "remaining_time": 4788.729829
                      },
                      {
                        "iteration": 69,
                        "learn": [
                          0.1055382874
                        ],
                        "passed_time": 359.4385774,
                        "remaining_time": 4775.398243
                      },
                      {
                        "iteration": 70,
                        "learn": [
                          0.1048711187
                        ],
                        "passed_time": 365.6595781,
                        "remaining_time": 4784.475324
                      },
                      {
                        "iteration": 71,
                        "learn": [
                          0.1044985158
                        ],
                        "passed_time": 370.228179,
                        "remaining_time": 4771.829862
                      },
                      {
                        "iteration": 72,
                        "learn": [
                          0.1041100238
                        ],
                        "passed_time": 374.5078031,
                        "remaining_time": 4755.736074
                      },
                      {
                        "iteration": 73,
                        "learn": [
                          0.1038124939
                        ],
                        "passed_time": 380.595804,
                        "remaining_time": 4762.590736
                      },
                      {
                        "iteration": 74,
                        "learn": [
                          0.1029461166
                        ],
                        "passed_time": 385.1263901,
                        "remaining_time": 4749.892144
                      },
                      {
                        "iteration": 75,
                        "learn": [
                          0.1023092266
                        ],
                        "passed_time": 390.0862795,
                        "remaining_time": 4742.627925
                      },
                      {
                        "iteration": 76,
                        "learn": [
                          0.1018843947
                        ],
                        "passed_time": 396.6845887,
                        "remaining_time": 4755.063316
                      },
                      {
                        "iteration": 77,
                        "learn": [
                          0.1013312575
                        ],
                        "passed_time": 401.3354624,
                        "remaining_time": 4743.990978
                      },
                      {
                        "iteration": 78,
                        "learn": [
                          0.1010853625
                        ],
                        "passed_time": 406.5737004,
                        "remaining_time": 4739.928836
                      },
                      {
                        "iteration": 79,
                        "learn": [
                          0.1004016293
                        ],
                        "passed_time": 411.5757959,
                        "remaining_time": 4733.121652
                      },
                      {
                        "iteration": 80,
                        "learn": [
                          0.1000858169
                        ],
                        "passed_time": 415.9413603,
                        "remaining_time": 4719.137161
                      },
                      {
                        "iteration": 81,
                        "learn": [
                          0.09985467438
                        ],
                        "passed_time": 421.6810996,
                        "remaining_time": 4720.771334
                      },
                      {
                        "iteration": 82,
                        "learn": [
                          0.09971443062
                        ],
                        "passed_time": 426.2418767,
                        "remaining_time": 4709.20242
                      },
                      {
                        "iteration": 83,
                        "learn": [
                          0.09906232627
                        ],
                        "passed_time": 430.7171758,
                        "remaining_time": 4696.86825
                      },
                      {
                        "iteration": 84,
                        "learn": [
                          0.09879866202
                        ],
                        "passed_time": 436.7797951,
                        "remaining_time": 4701.806029
                      },
                      {
                        "iteration": 85,
                        "learn": [
                          0.09853051654
                        ],
                        "passed_time": 440.8932455,
                        "remaining_time": 4685.7724
                      },
                      {
                        "iteration": 86,
                        "learn": [
                          0.09821544809
                        ],
                        "passed_time": 445.4481433,
                        "remaining_time": 4674.645458
                      },
                      {
                        "iteration": 87,
                        "learn": [
                          0.09794147195
                        ],
                        "passed_time": 451.6078783,
                        "remaining_time": 4680.29983
                      },
                      {
                        "iteration": 88,
                        "learn": [
                          0.09751036519
                        ],
                        "passed_time": 455.8147829,
                        "remaining_time": 4665.699632
                      },
                      {
                        "iteration": 89,
                        "learn": [
                          0.09715599827
                        ],
                        "passed_time": 460.5860697,
                        "remaining_time": 4657.036927
                      },
                      {
                        "iteration": 90,
                        "learn": [
                          0.09668099359
                        ],
                        "passed_time": 467.2014908,
                        "remaining_time": 4666.880825
                      },
                      {
                        "iteration": 91,
                        "learn": [
                          0.09624191948
                        ],
                        "passed_time": 472.0785085,
                        "remaining_time": 4659.209627
                      },
                      {
                        "iteration": 92,
                        "learn": [
                          0.09581675026
                        ],
                        "passed_time": 476.7323852,
                        "remaining_time": 4649.422295
                      },
                      {
                        "iteration": 93,
                        "learn": [
                          0.09560220331
                        ],
                        "passed_time": 482.4765097,
                        "remaining_time": 4650.252317
                      },
                      {
                        "iteration": 94,
                        "learn": [
                          0.09513580073
                        ],
                        "passed_time": 486.5375635,
                        "remaining_time": 4634.910473
                      },
                      {
                        "iteration": 95,
                        "learn": [
                          0.09459733846
                        ],
                        "passed_time": 491.2647021,
                        "remaining_time": 4626.075944
                      },
                      {
                        "iteration": 96,
                        "learn": [
                          0.09430782797
                        ],
                        "passed_time": 496.6613227,
                        "remaining_time": 4623.558499
                      },
                      {
                        "iteration": 97,
                        "learn": [
                          0.09413358014
                        ],
                        "passed_time": 501.025841,
                        "remaining_time": 4611.482741
                      },
                      {
                        "iteration": 98,
                        "learn": [
                          0.093751957
                        ],
                        "passed_time": 506.7682436,
                        "remaining_time": 4612.102904
                      },
                      {
                        "iteration": 99,
                        "learn": [
                          0.09349475786
                        ],
                        "passed_time": 511.7016187,
                        "remaining_time": 4605.314569
                      },
                      {
                        "iteration": 100,
                        "learn": [
                          0.09321784894
                        ],
                        "passed_time": 516.2155226,
                        "remaining_time": 4594.829256
                      },
                      {
                        "iteration": 101,
                        "learn": [
                          0.0929853887
                        ],
                        "passed_time": 521.8621931,
                        "remaining_time": 4594.433818
                      },
                      {
                        "iteration": 102,
                        "learn": [
                          0.09270732631
                        ],
                        "passed_time": 526.6509029,
                        "remaining_time": 4586.46466
                      },
                      {
                        "iteration": 103,
                        "learn": [
                          0.09246461178
                        ],
                        "passed_time": 530.9027185,
                        "remaining_time": 4573.931113
                      },
                      {
                        "iteration": 104,
                        "learn": [
                          0.09195969214
                        ],
                        "passed_time": 537.1052618,
                        "remaining_time": 4578.182946
                      },
                      {
                        "iteration": 105,
                        "learn": [
                          0.09147409859
                        ],
                        "passed_time": 541.4719545,
                        "remaining_time": 4566.754031
                      },
                      {
                        "iteration": 106,
                        "learn": [
                          0.0911094456
                        ],
                        "passed_time": 546.2584297,
                        "remaining_time": 4558.960539
                      },
                      {
                        "iteration": 107,
                        "learn": [
                          0.09075276896
                        ],
                        "passed_time": 552.2376926,
                        "remaining_time": 4561.074276
                      },
                      {
                        "iteration": 108,
                        "learn": [
                          0.09032293541
                        ],
                        "passed_time": 556.7179131,
                        "remaining_time": 4550.785877
                      },
                      {
                        "iteration": 109,
                        "learn": [
                          0.08982769618
                        ],
                        "passed_time": 561.1947965,
                        "remaining_time": 4540.576081
                      },
                      {
                        "iteration": 110,
                        "learn": [
                          0.08934574771
                        ],
                        "passed_time": 567.9496049,
                        "remaining_time": 4548.713502
                      },
                      {
                        "iteration": 111,
                        "learn": [
                          0.08907565
                        ],
                        "passed_time": 572.1912359,
                        "remaining_time": 4536.659084
                      },
                      {
                        "iteration": 112,
                        "learn": [
                          0.08891807835
                        ],
                        "passed_time": 576.8458428,
                        "remaining_time": 4527.984624
                      },
                      {
                        "iteration": 113,
                        "learn": [
                          0.08860828117
                        ],
                        "passed_time": 582.6118345,
                        "remaining_time": 4528.018293
                      },
                      {
                        "iteration": 114,
                        "learn": [
                          0.08835430881
                        ],
                        "passed_time": 587.1501719,
                        "remaining_time": 4518.503497
                      },
                      {
                        "iteration": 115,
                        "learn": [
                          0.08810156204
                        ],
                        "passed_time": 592.4709879,
                        "remaining_time": 4515.037529
                      },
                      {
                        "iteration": 116,
                        "learn": [
                          0.08696672779
                        ],
                        "passed_time": 597.8736254,
                        "remaining_time": 4512.157361
                      },
                      {
                        "iteration": 117,
                        "learn": [
                          0.0868419981
                        ],
                        "passed_time": 602.257086,
                        "remaining_time": 4501.616524
                      },
                      {
                        "iteration": 118,
                        "learn": [
                          0.0866652241
                        ],
                        "passed_time": 608.1972827,
                        "remaining_time": 4502.704252
                      },
                      {
                        "iteration": 119,
                        "learn": [
                          0.08628662592
                        ],
                        "passed_time": 612.6932464,
                        "remaining_time": 4493.083807
                      },
                      {
                        "iteration": 120,
                        "learn": [
                          0.08599745562
                        ],
                        "passed_time": 620.3312155,
                        "remaining_time": 4506.373045
                      },
                      {
                        "iteration": 121,
                        "learn": [
                          0.08555776715
                        ],
                        "passed_time": 626.0186124,
                        "remaining_time": 4505.281489
                      },
                      {
                        "iteration": 122,
                        "learn": [
                          0.08530888452
                        ],
                        "passed_time": 630.4732985,
                        "remaining_time": 4495.325876
                      },
                      {
                        "iteration": 123,
                        "learn": [
                          0.08505803517
                        ],
                        "passed_time": 636.0603363,
                        "remaining_time": 4493.458505
                      },
                      {
                        "iteration": 124,
                        "learn": [
                          0.08484745033
                        ],
                        "passed_time": 641.3170809,
                        "remaining_time": 4489.219566
                      },
                      {
                        "iteration": 125,
                        "learn": [
                          0.08464377465
                        ],
                        "passed_time": 645.8669994,
                        "remaining_time": 4480.061568
                      },
                      {
                        "iteration": 126,
                        "learn": [
                          0.08435171787
                        ],
                        "passed_time": 651.6009542,
                        "remaining_time": 4479.11522
                      },
                      {
                        "iteration": 127,
                        "learn": [
                          0.08405686349
                        ],
                        "passed_time": 656.098975,
                        "remaining_time": 4469.674267
                      },
                      {
                        "iteration": 128,
                        "learn": [
                          0.08389841517
                        ],
                        "passed_time": 660.5211565,
                        "remaining_time": 4459.797886
                      },
                      {
                        "iteration": 129,
                        "learn": [
                          0.08359290612
                        ],
                        "passed_time": 667.1380782,
                        "remaining_time": 4464.693293
                      },
                      {
                        "iteration": 130,
                        "learn": [
                          0.08330499034
                        ],
                        "passed_time": 671.8056911,
                        "remaining_time": 4456.482027
                      },
                      {
                        "iteration": 131,
                        "learn": [
                          0.08311160071
                        ],
                        "passed_time": 676.4302041,
                        "remaining_time": 4448.041039
                      },
                      {
                        "iteration": 132,
                        "learn": [
                          0.0827899832
                        ],
                        "passed_time": 682.5116184,
                        "remaining_time": 4449.154685
                      },
                      {
                        "iteration": 133,
                        "learn": [
                          0.08261660335
                        ],
                        "passed_time": 687.029411,
                        "remaining_time": 4440.055746
                      },
                      {
                        "iteration": 134,
                        "learn": [
                          0.0824478027
                        ],
                        "passed_time": 691.4886047,
                        "remaining_time": 4430.649208
                      },
                      {
                        "iteration": 135,
                        "learn": [
                          0.08235686369
                        ],
                        "passed_time": 697.2977063,
                        "remaining_time": 4429.891311
                      },
                      {
                        "iteration": 136,
                        "learn": [
                          0.08212348933
                        ],
                        "passed_time": 701.7681723,
                        "remaining_time": 4420.627246
                      },
                      {
                        "iteration": 137,
                        "learn": [
                          0.0819676248
                        ],
                        "passed_time": 706.6153817,
                        "remaining_time": 4413.785935
                      },
                      {
                        "iteration": 138,
                        "learn": [
                          0.08180482219
                        ],
                        "passed_time": 712.2815201,
                        "remaining_time": 4412.045963
                      },
                      {
                        "iteration": 139,
                        "learn": [
                          0.08165102527
                        ],
                        "passed_time": 716.4429187,
                        "remaining_time": 4401.006501
                      },
                      {
                        "iteration": 140,
                        "learn": [
                          0.08152662143
                        ],
                        "passed_time": 721.3751312,
                        "remaining_time": 4394.760551
                      },
                      {
                        "iteration": 141,
                        "learn": [
                          0.08130856219
                        ],
                        "passed_time": 726.6632402,
                        "remaining_time": 4390.683522
                      },
                      {
                        "iteration": 142,
                        "learn": [
                          0.08112487895
                        ],
                        "passed_time": 731.1187889,
                        "remaining_time": 4381.600014
                      },
                      {
                        "iteration": 143,
                        "learn": [
                          0.08098532438
                        ],
                        "passed_time": 735.990851,
                        "remaining_time": 4375.056725
                      },
                      {
                        "iteration": 144,
                        "learn": [
                          0.08082706082
                        ],
                        "passed_time": 741.305297,
                        "remaining_time": 4371.145027
                      },
                      {
                        "iteration": 145,
                        "learn": [
                          0.08068697565
                        ],
                        "passed_time": 745.6717035,
                        "remaining_time": 4361.668731
                      },
                      {
                        "iteration": 146,
                        "learn": [
                          0.0805324145
                        ],
                        "passed_time": 750.6030957,
                        "remaining_time": 4355.540412
                      },
                      {
                        "iteration": 147,
                        "learn": [
                          0.08041108177
                        ],
                        "passed_time": 755.9217801,
                        "remaining_time": 4351.657815
                      },
                      {
                        "iteration": 148,
                        "learn": [
                          0.08028423835
                        ],
                        "passed_time": 759.8929807,
                        "remaining_time": 4340.05991
                      },
                      {
                        "iteration": 149,
                        "learn": [
                          0.0801259951
                        ],
                        "passed_time": 765.4846553,
                        "remaining_time": 4337.74638
                      },
                      {
                        "iteration": 150,
                        "learn": [
                          0.07996140754
                        ],
                        "passed_time": 770.4948028,
                        "remaining_time": 4332.119785
                      },
                      {
                        "iteration": 151,
                        "learn": [
                          0.07980563821
                        ],
                        "passed_time": 775.0646224,
                        "remaining_time": 4324.044736
                      },
                      {
                        "iteration": 152,
                        "learn": [
                          0.07968956523
                        ],
                        "passed_time": 781.4466922,
                        "remaining_time": 4326.048028
                      },
                      {
                        "iteration": 153,
                        "learn": [
                          0.07950954429
                        ],
                        "passed_time": 785.5947713,
                        "remaining_time": 4315.669978
                      },
                      {
                        "iteration": 154,
                        "learn": [
                          0.07939717966
                        ],
                        "passed_time": 790.229724,
                        "remaining_time": 4308.02656
                      },
                      {
                        "iteration": 155,
                        "learn": [
                          0.07915407579
                        ],
                        "passed_time": 796.7311208,
                        "remaining_time": 4310.519653
                      },
                      {
                        "iteration": 156,
                        "learn": [
                          0.07902611923
                        ],
                        "passed_time": 801.4965763,
                        "remaining_time": 4303.577158
                      },
                      {
                        "iteration": 157,
                        "learn": [
                          0.07883503659
                        ],
                        "passed_time": 806.5796678,
                        "remaining_time": 4298.354939
                      },
                      {
                        "iteration": 158,
                        "learn": [
                          0.07869255798
                        ],
                        "passed_time": 812.4131757,
                        "remaining_time": 4297.103652
                      },
                      {
                        "iteration": 159,
                        "learn": [
                          0.07863969478
                        ],
                        "passed_time": 816.6619655,
                        "remaining_time": 4287.475319
                      },
                      {
                        "iteration": 160,
                        "learn": [
                          0.07857630621
                        ],
                        "passed_time": 821.4865827,
                        "remaining_time": 4280.914552
                      },
                      {
                        "iteration": 161,
                        "learn": [
                          0.07846017547
                        ],
                        "passed_time": 827.2689161,
                        "remaining_time": 4279.329331
                      },
                      {
                        "iteration": 162,
                        "learn": [
                          0.07819496273
                        ],
                        "passed_time": 831.9846541,
                        "remaining_time": 4272.215678
                      },
                      {
                        "iteration": 163,
                        "learn": [
                          0.07806148684
                        ],
                        "passed_time": 838.4709233,
                        "remaining_time": 4274.156658
                      },
                      {
                        "iteration": 164,
                        "learn": [
                          0.07785986154
                        ],
                        "passed_time": 843.0911939,
                        "remaining_time": 4266.552405
                      },
                      {
                        "iteration": 165,
                        "learn": [
                          0.07758873437
                        ],
                        "passed_time": 847.586736,
                        "remaining_time": 4258.357457
                      },
                      {
                        "iteration": 166,
                        "learn": [
                          0.07731604121
                        ],
                        "passed_time": 853.9851307,
                        "remaining_time": 4259.698287
                      },
                      {
                        "iteration": 167,
                        "learn": [
                          0.07715998059
                        ],
                        "passed_time": 858.3892822,
                        "remaining_time": 4251.070731
                      },
                      {
                        "iteration": 168,
                        "learn": [
                          0.07709334505
                        ],
                        "passed_time": 862.3393075,
                        "remaining_time": 4240.260145
                      },
                      {
                        "iteration": 169,
                        "learn": [
                          0.07693479011
                        ],
                        "passed_time": 868.6691002,
                        "remaining_time": 4241.149136
                      },
                      {
                        "iteration": 170,
                        "learn": [
                          0.07685638925
                        ],
                        "passed_time": 872.6886301,
                        "remaining_time": 4230.753651
                      },
                      {
                        "iteration": 171,
                        "learn": [
                          0.07669321751
                        ],
                        "passed_time": 876.8036685,
                        "remaining_time": 4220.892079
                      },
                      {
                        "iteration": 172,
                        "learn": [
                          0.07656519757
                        ],
                        "passed_time": 883.1828041,
                        "remaining_time": 4221.92011
                      },
                      {
                        "iteration": 173,
                        "learn": [
                          0.07643493415
                        ],
                        "passed_time": 887.8448563,
                        "remaining_time": 4214.711789
                      },
                      {
                        "iteration": 174,
                        "learn": [
                          0.07628209743
                        ],
                        "passed_time": 893.1811414,
                        "remaining_time": 4210.711095
                      },
                      {
                        "iteration": 175,
                        "learn": [
                          0.07621010409
                        ],
                        "passed_time": 898.8744382,
                        "remaining_time": 4208.366688
                      },
                      {
                        "iteration": 176,
                        "learn": [
                          0.07603947523
                        ],
                        "passed_time": 903.3192646,
                        "remaining_time": 4200.179406
                      },
                      {
                        "iteration": 177,
                        "learn": [
                          0.07591720544
                        ],
                        "passed_time": 908.2163958,
                        "remaining_time": 4194.122907
                      },
                      {
                        "iteration": 178,
                        "learn": [
                          0.07575443738
                        ],
                        "passed_time": 913.794585,
                        "remaining_time": 4191.203096
                      },
                      {
                        "iteration": 179,
                        "learn": [
                          0.075601791
                        ],
                        "passed_time": 918.6489031,
                        "remaining_time": 4184.956114
                      },
                      {
                        "iteration": 180,
                        "learn": [
                          0.07550441279
                        ],
                        "passed_time": 924.7275212,
                        "remaining_time": 4184.264309
                      },
                      {
                        "iteration": 181,
                        "learn": [
                          0.07531493343
                        ],
                        "passed_time": 929.603672,
                        "remaining_time": 4178.108812
                      },
                      {
                        "iteration": 182,
                        "learn": [
                          0.07519632864
                        ],
                        "passed_time": 934.0276704,
                        "remaining_time": 4169.948671
                      },
                      {
                        "iteration": 183,
                        "learn": [
                          0.0749967017
                        ],
                        "passed_time": 940.6502217,
                        "remaining_time": 4171.579244
                      },
                      {
                        "iteration": 184,
                        "learn": [
                          0.07473316718
                        ],
                        "passed_time": 945.4114475,
                        "remaining_time": 4164.920701
                      },
                      {
                        "iteration": 185,
                        "learn": [
                          0.07453463035
                        ],
                        "passed_time": 949.8916353,
                        "remaining_time": 4157.05264
                      },
                      {
                        "iteration": 186,
                        "learn": [
                          0.07446815918
                        ],
                        "passed_time": 955.8985807,
                        "remaining_time": 4155.858535
                      },
                      {
                        "iteration": 187,
                        "learn": [
                          0.07415415206
                        ],
                        "passed_time": 960.5932896,
                        "remaining_time": 4148.945485
                      },
                      {
                        "iteration": 188,
                        "learn": [
                          0.07406375228
                        ],
                        "passed_time": 965.5241836,
                        "remaining_time": 4143.069381
                      },
                      {
                        "iteration": 189,
                        "learn": [
                          0.07397371591
                        ],
                        "passed_time": 970.8722233,
                        "remaining_time": 4138.981583
                      },
                      {
                        "iteration": 190,
                        "learn": [
                          0.07384949946
                        ],
                        "passed_time": 975.2051647,
                        "remaining_time": 4130.581038
                      },
                      {
                        "iteration": 191,
                        "learn": [
                          0.07374237153
                        ],
                        "passed_time": 981.0321567,
                        "remaining_time": 4128.510326
                      },
                      {
                        "iteration": 192,
                        "learn": [
                          0.07349711953
                        ],
                        "passed_time": 985.7358733,
                        "remaining_time": 4121.703885
                      },
                      {
                        "iteration": 193,
                        "learn": [
                          0.07341385976
                        ],
                        "passed_time": 990.1876874,
                        "remaining_time": 4113.872557
                      },
                      {
                        "iteration": 194,
                        "learn": [
                          0.07325889485
                        ],
                        "passed_time": 996.6776164,
                        "remaining_time": 4114.489647
                      },
                      {
                        "iteration": 195,
                        "learn": [
                          0.07317781504
                        ],
                        "passed_time": 1001.055183,
                        "remaining_time": 4106.369218
                      },
                      {
                        "iteration": 196,
                        "learn": [
                          0.07307349879
                        ],
                        "passed_time": 1005.62209,
                        "remaining_time": 4099.05857
                      },
                      {
                        "iteration": 197,
                        "learn": [
                          0.07297332891
                        ],
                        "passed_time": 1012.013753,
                        "remaining_time": 4099.166818
                      },
                      {
                        "iteration": 198,
                        "learn": [
                          0.07288500538
                        ],
                        "passed_time": 1016.347333,
                        "remaining_time": 4090.925695
                      },
                      {
                        "iteration": 199,
                        "learn": [
                          0.07272834494
                        ],
                        "passed_time": 1020.882645,
                        "remaining_time": 4083.53058
                      },
                      {
                        "iteration": 200,
                        "learn": [
                          0.07254445411
                        ],
                        "passed_time": 1027.190489,
                        "remaining_time": 4083.209952
                      },
                      {
                        "iteration": 201,
                        "learn": [
                          0.07240734208
                        ],
                        "passed_time": 1031.615505,
                        "remaining_time": 4075.391946
                      },
                      {
                        "iteration": 202,
                        "learn": [
                          0.07224119151
                        ],
                        "passed_time": 1036.546238,
                        "remaining_time": 4069.592866
                      },
                      {
                        "iteration": 203,
                        "learn": [
                          0.07212174466
                        ],
                        "passed_time": 1042.157418,
                        "remaining_time": 4066.457374
                      },
                      {
                        "iteration": 204,
                        "learn": [
                          0.07194507734
                        ],
                        "passed_time": 1046.798211,
                        "remaining_time": 4059.534524
                      },
                      {
                        "iteration": 205,
                        "learn": [
                          0.07189973184
                        ],
                        "passed_time": 1052.140308,
                        "remaining_time": 4055.336916
                      },
                      {
                        "iteration": 206,
                        "learn": [
                          0.07172087013
                        ],
                        "passed_time": 1057.514663,
                        "remaining_time": 4051.251823
                      },
                      {
                        "iteration": 207,
                        "learn": [
                          0.0715598612
                        ],
                        "passed_time": 1061.714855,
                        "remaining_time": 4042.683485
                      },
                      {
                        "iteration": 208,
                        "learn": [
                          0.07140424753
                        ],
                        "passed_time": 1067.433579,
                        "remaining_time": 4039.90412
                      },
                      {
                        "iteration": 209,
                        "learn": [
                          0.07132315044
                        ],
                        "passed_time": 1072.131798,
                        "remaining_time": 4033.257718
                      },
                      {
                        "iteration": 210,
                        "learn": [
                          0.07111302701
                        ],
                        "passed_time": 1076.77481,
                        "remaining_time": 4026.423341
                      },
                      {
                        "iteration": 211,
                        "learn": [
                          0.07106181908
                        ],
                        "passed_time": 1083.118305,
                        "remaining_time": 4025.930305
                      },
                      {
                        "iteration": 212,
                        "learn": [
                          0.07093093279
                        ],
                        "passed_time": 1087.367489,
                        "remaining_time": 4017.644195
                      },
                      {
                        "iteration": 213,
                        "learn": [
                          0.07087486583
                        ],
                        "passed_time": 1091.656499,
                        "remaining_time": 4009.542093
                      },
                      {
                        "iteration": 214,
                        "learn": [
                          0.07077573722
                        ],
                        "passed_time": 1098.002359,
                        "remaining_time": 4008.985357
                      },
                      {
                        "iteration": 215,
                        "learn": [
                          0.07065484856
                        ],
                        "passed_time": 1101.959819,
                        "remaining_time": 3999.706009
                      },
                      {
                        "iteration": 216,
                        "learn": [
                          0.07053826232
                        ],
                        "passed_time": 1106.464235,
                        "remaining_time": 3992.449292
                      },
                      {
                        "iteration": 217,
                        "learn": [
                          0.07045001668
                        ],
                        "passed_time": 1112.837454,
                        "remaining_time": 3991.921511
                      },
                      {
                        "iteration": 218,
                        "learn": [
                          0.07035901713
                        ],
                        "passed_time": 1117.155994,
                        "remaining_time": 3984.012927
                      },
                      {
                        "iteration": 219,
                        "learn": [
                          0.07020968694
                        ],
                        "passed_time": 1122.322676,
                        "remaining_time": 3979.144032
                      },
                      {
                        "iteration": 220,
                        "learn": [
                          0.07010772086
                        ],
                        "passed_time": 1128.167089,
                        "remaining_time": 3976.661367
                      },
                      {
                        "iteration": 221,
                        "learn": [
                          0.06988374726
                        ],
                        "passed_time": 1132.857169,
                        "remaining_time": 3970.10305
                      },
                      {
                        "iteration": 222,
                        "learn": [
                          0.06982601933
                        ],
                        "passed_time": 1138.259877,
                        "remaining_time": 3966.044504
                      },
                      {
                        "iteration": 223,
                        "learn": [
                          0.06971650671
                        ],
                        "passed_time": 1143.274571,
                        "remaining_time": 3960.629764
                      },
                      {
                        "iteration": 224,
                        "learn": [
                          0.06958659798
                        ],
                        "passed_time": 1147.765717,
                        "remaining_time": 3953.415249
                      },
                      {
                        "iteration": 225,
                        "learn": [
                          0.06947173328
                        ],
                        "passed_time": 1152.835186,
                        "remaining_time": 3948.205458
                      },
                      {
                        "iteration": 226,
                        "learn": [
                          0.06928341606
                        ],
                        "passed_time": 1157.932003,
                        "remaining_time": 3943.090035
                      },
                      {
                        "iteration": 227,
                        "learn": [
                          0.06921697661
                        ],
                        "passed_time": 1162.137421,
                        "remaining_time": 3934.95653
                      },
                      {
                        "iteration": 228,
                        "learn": [
                          0.06908981887
                        ],
                        "passed_time": 1168.820331,
                        "remaining_time": 3935.19858
                      },
                      {
                        "iteration": 229,
                        "learn": [
                          0.06897625468
                        ],
                        "passed_time": 1173.457123,
                        "remaining_time": 3928.530368
                      },
                      {
                        "iteration": 230,
                        "learn": [
                          0.0687731472
                        ],
                        "passed_time": 1177.787086,
                        "remaining_time": 3920.858309
                      },
                      {
                        "iteration": 231,
                        "learn": [
                          0.06861730261
                        ],
                        "passed_time": 1184.408726,
                        "remaining_time": 3920.801299
                      },
                      {
                        "iteration": 232,
                        "learn": [
                          0.06849919957
                        ],
                        "passed_time": 1188.929148,
                        "remaining_time": 3913.771057
                      },
                      {
                        "iteration": 233,
                        "learn": [
                          0.06844435812
                        ],
                        "passed_time": 1193.27302,
                        "remaining_time": 3906.18433
                      },
                      {
                        "iteration": 234,
                        "learn": [
                          0.06825956188
                        ],
                        "passed_time": 1199.576183,
                        "remaining_time": 3905.003318
                      },
                      {
                        "iteration": 235,
                        "learn": [
                          0.06810293024
                        ],
                        "passed_time": 1204.444487,
                        "remaining_time": 3899.133846
                      },
                      {
                        "iteration": 236,
                        "learn": [
                          0.06804870886
                        ],
                        "passed_time": 1209.624319,
                        "remaining_time": 3894.275761
                      },
                      {
                        "iteration": 237,
                        "learn": [
                          0.06787867112
                        ],
                        "passed_time": 1214.904758,
                        "remaining_time": 3889.737082
                      },
                      {
                        "iteration": 238,
                        "learn": [
                          0.06782559448
                        ],
                        "passed_time": 1219.188155,
                        "remaining_time": 3882.017514
                      },
                      {
                        "iteration": 239,
                        "learn": [
                          0.06771433142
                        ],
                        "passed_time": 1225.083761,
                        "remaining_time": 3879.431909
                      },
                      {
                        "iteration": 240,
                        "learn": [
                          0.0676499509
                        ],
                        "passed_time": 1229.825408,
                        "remaining_time": 3873.184584
                      },
                      {
                        "iteration": 241,
                        "learn": [
                          0.0675376123
                        ],
                        "passed_time": 1234.054058,
                        "remaining_time": 3865.342876
                      },
                      {
                        "iteration": 242,
                        "learn": [
                          0.06747610966
                        ],
                        "passed_time": 1240.232072,
                        "remaining_time": 3863.603614
                      },
                      {
                        "iteration": 243,
                        "learn": [
                          0.06734041344
                        ],
                        "passed_time": 1244.857808,
                        "remaining_time": 3857.018454
                      },
                      {
                        "iteration": 244,
                        "learn": [
                          0.06722779224
                        ],
                        "passed_time": 1249.032052,
                        "remaining_time": 3849.057957
                      },
                      {
                        "iteration": 245,
                        "learn": [
                          0.06708986986
                        ],
                        "passed_time": 1255.381639,
                        "remaining_time": 3847.795754
                      },
                      {
                        "iteration": 246,
                        "learn": [
                          0.06696644358
                        ],
                        "passed_time": 1259.986275,
                        "remaining_time": 3841.172732
                      },
                      {
                        "iteration": 247,
                        "learn": [
                          0.06685534203
                        ],
                        "passed_time": 1264.458768,
                        "remaining_time": 3834.165297
                      },
                      {
                        "iteration": 248,
                        "learn": [
                          0.0667522657
                        ],
                        "passed_time": 1271.079486,
                        "remaining_time": 3833.657407
                      },
                      {
                        "iteration": 249,
                        "learn": [
                          0.06662590098
                        ],
                        "passed_time": 1275.582102,
                        "remaining_time": 3826.746305
                      },
                      {
                        "iteration": 250,
                        "learn": [
                          0.06656284118
                        ],
                        "passed_time": 1280.54536,
                        "remaining_time": 3821.228984
                      },
                      {
                        "iteration": 251,
                        "learn": [
                          0.06647259134
                        ],
                        "passed_time": 1285.761932,
                        "remaining_time": 3816.467958
                      },
                      {
                        "iteration": 252,
                        "learn": [
                          0.06632094558
                        ],
                        "passed_time": 1290.289657,
                        "remaining_time": 3809.669463
                      },
                      {
                        "iteration": 253,
                        "learn": [
                          0.06618785037
                        ],
                        "passed_time": 1296.54276,
                        "remaining_time": 3807.956294
                      },
                      {
                        "iteration": 254,
                        "learn": [
                          0.06611685474
                        ],
                        "passed_time": 1300.848171,
                        "remaining_time": 3800.517205
                      },
                      {
                        "iteration": 255,
                        "learn": [
                          0.066019289
                        ],
                        "passed_time": 1305.018623,
                        "remaining_time": 3792.710374
                      },
                      {
                        "iteration": 256,
                        "learn": [
                          0.06591392585
                        ],
                        "passed_time": 1311.695917,
                        "remaining_time": 3792.179246
                      },
                      {
                        "iteration": 257,
                        "learn": [
                          0.0657863183
                        ],
                        "passed_time": 1316.476994,
                        "remaining_time": 3786.147014
                      },
                      {
                        "iteration": 258,
                        "learn": [
                          0.06570563647
                        ],
                        "passed_time": 1321.275607,
                        "remaining_time": 3780.174614
                      },
                      {
                        "iteration": 259,
                        "learn": [
                          0.06561683131
                        ],
                        "passed_time": 1327.851417,
                        "remaining_time": 3779.269417
                      },
                      {
                        "iteration": 260,
                        "learn": [
                          0.06552564431
                        ],
                        "passed_time": 1332.368094,
                        "remaining_time": 3772.490505
                      },
                      {
                        "iteration": 261,
                        "learn": [
                          0.06541981981
                        ],
                        "passed_time": 1337.041034,
                        "remaining_time": 3766.169019
                      },
                      {
                        "iteration": 262,
                        "learn": [
                          0.06534725548
                        ],
                        "passed_time": 1342.292168,
                        "remaining_time": 3761.480333
                      },
                      {
                        "iteration": 263,
                        "learn": [
                          0.06517600078
                        ],
                        "passed_time": 1346.933954,
                        "remaining_time": 3755.0886
                      },
                      {
                        "iteration": 264,
                        "learn": [
                          0.06509914845
                        ],
                        "passed_time": 1352.203746,
                        "remaining_time": 3750.4519
                      },
                      {
                        "iteration": 265,
                        "learn": [
                          0.06501844931
                        ],
                        "passed_time": 1357.660982,
                        "remaining_time": 3746.327672
                      },
                      {
                        "iteration": 266,
                        "learn": [
                          0.06496228144
                        ],
                        "passed_time": 1361.380979,
                        "remaining_time": 3737.424186
                      },
                      {
                        "iteration": 267,
                        "learn": [
                          0.06487676661
                        ],
                        "passed_time": 1366.647662,
                        "remaining_time": 3732.783914
                      },
                      {
                        "iteration": 268,
                        "learn": [
                          0.06482313347
                        ],
                        "passed_time": 1371.909659,
                        "remaining_time": 3728.126248
                      },
                      {
                        "iteration": 269,
                        "learn": [
                          0.06472967992
                        ],
                        "passed_time": 1376.422458,
                        "remaining_time": 3721.438496
                      },
                      {
                        "iteration": 270,
                        "learn": [
                          0.06462750618
                        ],
                        "passed_time": 1382.528244,
                        "remaining_time": 3719.051991
                      },
                      {
                        "iteration": 271,
                        "learn": [
                          0.06456821244
                        ],
                        "passed_time": 1386.821488,
                        "remaining_time": 3711.786924
                      },
                      {
                        "iteration": 272,
                        "learn": [
                          0.06454651292
                        ],
                        "passed_time": 1390.866263,
                        "remaining_time": 3703.881953
                      },
                      {
                        "iteration": 273,
                        "learn": [
                          0.06448215837
                        ],
                        "passed_time": 1397.091079,
                        "remaining_time": 3701.781472
                      },
                      {
                        "iteration": 274,
                        "learn": [
                          0.06441028033
                        ],
                        "passed_time": 1401.58453,
                        "remaining_time": 3695.086487
                      },
                      {
                        "iteration": 275,
                        "learn": [
                          0.06434307673
                        ],
                        "passed_time": 1405.888087,
                        "remaining_time": 3687.909329
                      },
                      {
                        "iteration": 276,
                        "learn": [
                          0.06427571162
                        ],
                        "passed_time": 1412.01695,
                        "remaining_time": 3685.517165
                      },
                      {
                        "iteration": 277,
                        "learn": [
                          0.06417703883
                        ],
                        "passed_time": 1416.190029,
                        "remaining_time": 3678.018708
                      },
                      {
                        "iteration": 278,
                        "learn": [
                          0.06414643746
                        ],
                        "passed_time": 1420.580678,
                        "remaining_time": 3671.106341
                      },
                      {
                        "iteration": 279,
                        "learn": [
                          0.06403655575
                        ],
                        "passed_time": 1426.837604,
                        "remaining_time": 3669.010981
                      },
                      {
                        "iteration": 280,
                        "learn": [
                          0.06396599846
                        ],
                        "passed_time": 1431.513116,
                        "remaining_time": 3662.83961
                      },
                      {
                        "iteration": 281,
                        "learn": [
                          0.06386865775
                        ],
                        "passed_time": 1436.445476,
                        "remaining_time": 3657.332808
                      },
                      {
                        "iteration": 282,
                        "learn": [
                          0.06376834691
                        ],
                        "passed_time": 1442.729756,
                        "remaining_time": 3655.255247
                      },
                      {
                        "iteration": 283,
                        "learn": [
                          0.06371267792
                        ],
                        "passed_time": 1446.845707,
                        "remaining_time": 3647.681431
                      },
                      {
                        "iteration": 284,
                        "learn": [
                          0.06362449863
                        ],
                        "passed_time": 1452.245209,
                        "remaining_time": 3643.352015
                      },
                      {
                        "iteration": 285,
                        "learn": [
                          0.06353926639
                        ],
                        "passed_time": 1457.853276,
                        "remaining_time": 3639.5358
                      },
                      {
                        "iteration": 286,
                        "learn": [
                          0.06342981111
                        ],
                        "passed_time": 1462.335257,
                        "remaining_time": 3632.90954
                      },
                      {
                        "iteration": 287,
                        "learn": [
                          0.06335616541
                        ],
                        "passed_time": 1468.316343,
                        "remaining_time": 3630.004292
                      },
                      {
                        "iteration": 288,
                        "learn": [
                          0.06326455453
                        ],
                        "passed_time": 1472.555431,
                        "remaining_time": 3622.792081
                      },
                      {
                        "iteration": 289,
                        "learn": [
                          0.06313738816
                        ],
                        "passed_time": 1476.700001,
                        "remaining_time": 3615.368967
                      },
                      {
                        "iteration": 290,
                        "learn": [
                          0.06302937216
                        ],
                        "passed_time": 1482.742579,
                        "remaining_time": 3612.592744
                      },
                      {
                        "iteration": 291,
                        "learn": [
                          0.06298618075
                        ],
                        "passed_time": 1487.115619,
                        "remaining_time": 3605.74609
                      },
                      {
                        "iteration": 292,
                        "learn": [
                          0.06286970699
                        ],
                        "passed_time": 1491.298497,
                        "remaining_time": 3598.457466
                      },
                      {
                        "iteration": 293,
                        "learn": [
                          0.0627528497
                        ],
                        "passed_time": 1497.621818,
                        "remaining_time": 3596.329944
                      },
                      {
                        "iteration": 294,
                        "learn": [
                          0.06265835515
                        ],
                        "passed_time": 1502.069703,
                        "remaining_time": 3589.692001
                      },
                      {
                        "iteration": 295,
                        "learn": [
                          0.06252632116
                        ],
                        "passed_time": 1506.385074,
                        "remaining_time": 3582.753689
                      },
                      {
                        "iteration": 296,
                        "learn": [
                          0.0624947105
                        ],
                        "passed_time": 1512.447816,
                        "remaining_time": 3579.969074
                      },
                      {
                        "iteration": 297,
                        "learn": [
                          0.06243261384
                        ],
                        "passed_time": 1516.812237,
                        "remaining_time": 3573.161712
                      },
                      {
                        "iteration": 298,
                        "learn": [
                          0.06238401269
                        ],
                        "passed_time": 1521.102204,
                        "remaining_time": 3566.196138
                      },
                      {
                        "iteration": 299,
                        "learn": [
                          0.06230551377
                        ],
                        "passed_time": 1527.062562,
                        "remaining_time": 3563.145977
                      },
                      {
                        "iteration": 300,
                        "learn": [
                          0.06224777143
                        ],
                        "passed_time": 1531.211675,
                        "remaining_time": 3555.870302
                      },
                      {
                        "iteration": 301,
                        "learn": [
                          0.06216016013
                        ],
                        "passed_time": 1535.412575,
                        "remaining_time": 3548.735025
                      },
                      {
                        "iteration": 302,
                        "learn": [
                          0.06203980203
                        ],
                        "passed_time": 1542.041847,
                        "remaining_time": 3547.205174
                      },
                      {
                        "iteration": 303,
                        "learn": [
                          0.06192303996
                        ],
                        "passed_time": 1546.173983,
                        "remaining_time": 3539.924645
                      },
                      {
                        "iteration": 304,
                        "learn": [
                          0.06181440973
                        ],
                        "passed_time": 1550.199042,
                        "remaining_time": 3532.420767
                      },
                      {
                        "iteration": 305,
                        "learn": [
                          0.06172109457
                        ],
                        "passed_time": 1556.131729,
                        "remaining_time": 3529.266079
                      },
                      {
                        "iteration": 306,
                        "learn": [
                          0.06162565131
                        ],
                        "passed_time": 1560.206956,
                        "remaining_time": 3521.900393
                      },
                      {
                        "iteration": 307,
                        "learn": [
                          0.06155004182
                        ],
                        "passed_time": 1564.748287,
                        "remaining_time": 3515.603293
                      },
                      {
                        "iteration": 308,
                        "learn": [
                          0.06146482977
                        ],
                        "passed_time": 1571.026854,
                        "remaining_time": 3513.202446
                      },
                      {
                        "iteration": 309,
                        "learn": [
                          0.06139254801
                        ],
                        "passed_time": 1575.924906,
                        "remaining_time": 3507.703822
                      },
                      {
                        "iteration": 310,
                        "learn": [
                          0.06135063117
                        ],
                        "passed_time": 1581.0531,
                        "remaining_time": 3502.718925
                      },
                      {
                        "iteration": 311,
                        "learn": [
                          0.06131294754
                        ],
                        "passed_time": 1586.168828,
                        "remaining_time": 3497.705621
                      },
                      {
                        "iteration": 312,
                        "learn": [
                          0.06125357018
                        ],
                        "passed_time": 1590.637756,
                        "remaining_time": 3491.272008
                      },
                      {
                        "iteration": 313,
                        "learn": [
                          0.06119356421
                        ],
                        "passed_time": 1596.010079,
                        "remaining_time": 3486.824568
                      },
                      {
                        "iteration": 314,
                        "learn": [
                          0.06113594297
                        ],
                        "passed_time": 1601.137597,
                        "remaining_time": 3481.838902
                      },
                      {
                        "iteration": 315,
                        "learn": [
                          0.06109909559
                        ],
                        "passed_time": 1605.573953,
                        "remaining_time": 3475.356279
                      },
                      {
                        "iteration": 316,
                        "learn": [
                          0.06101941726
                        ],
                        "passed_time": 1612.056936,
                        "remaining_time": 3473.296175
                      },
                      {
                        "iteration": 317,
                        "learn": [
                          0.0608952037
                        ],
                        "passed_time": 1616.249789,
                        "remaining_time": 3466.296718
                      },
                      {
                        "iteration": 318,
                        "learn": [
                          0.06086221467
                        ],
                        "passed_time": 1620.42985,
                        "remaining_time": 3459.287548
                      },
                      {
                        "iteration": 319,
                        "learn": [
                          0.06079027609
                        ],
                        "passed_time": 1625.868211,
                        "remaining_time": 3454.969949
                      },
                      {
                        "iteration": 320,
                        "learn": [
                          0.06066196485
                        ],
                        "passed_time": 1630.617237,
                        "remaining_time": 3449.18724
                      },
                      {
                        "iteration": 321,
                        "learn": [
                          0.06060285276
                        ],
                        "passed_time": 1634.864387,
                        "remaining_time": 3442.354207
                      },
                      {
                        "iteration": 322,
                        "learn": [
                          0.06051734664
                        ],
                        "passed_time": 1641.530303,
                        "remaining_time": 3440.606859
                      },
                      {
                        "iteration": 323,
                        "learn": [
                          0.06045392926
                        ],
                        "passed_time": 1645.90586,
                        "remaining_time": 3434.050499
                      },
                      {
                        "iteration": 324,
                        "learn": [
                          0.0603353677
                        ],
                        "passed_time": 1650.737365,
                        "remaining_time": 3428.454528
                      },
                      {
                        "iteration": 325,
                        "learn": [
                          0.06028065609
                        ],
                        "passed_time": 1656.38333,
                        "remaining_time": 3424.54713
                      },
                      {
                        "iteration": 326,
                        "learn": [
                          0.06019946384
                        ],
                        "passed_time": 1660.741876,
                        "remaining_time": 3417.979458
                      },
                      {
                        "iteration": 327,
                        "learn": [
                          0.06010546815
                        ],
                        "passed_time": 1665.216286,
                        "remaining_time": 3411.662635
                      },
                      {
                        "iteration": 328,
                        "learn": [
                          0.06003467724
                        ],
                        "passed_time": 1671.702539,
                        "remaining_time": 3409.460193
                      },
                      {
                        "iteration": 329,
                        "learn": [
                          0.05996005108
                        ],
                        "passed_time": 1675.815143,
                        "remaining_time": 3402.412563
                      },
                      {
                        "iteration": 330,
                        "learn": [
                          0.05990969667
                        ],
                        "passed_time": 1679.954214,
                        "remaining_time": 3395.436161
                      },
                      {
                        "iteration": 331,
                        "learn": [
                          0.05982137026
                        ],
                        "passed_time": 1686.120356,
                        "remaining_time": 3392.555414
                      },
                      {
                        "iteration": 332,
                        "learn": [
                          0.05973146362
                        ],
                        "passed_time": 1690.566256,
                        "remaining_time": 3386.209287
                      },
                      {
                        "iteration": 333,
                        "learn": [
                          0.05964273354
                        ],
                        "passed_time": 1695.520461,
                        "remaining_time": 3380.888105
                      },
                      {
                        "iteration": 334,
                        "learn": [
                          0.05955215496
                        ],
                        "passed_time": 1701.324621,
                        "remaining_time": 3377.256338
                      },
                      {
                        "iteration": 335,
                        "learn": [
                          0.05945248716
                        ],
                        "passed_time": 1705.627831,
                        "remaining_time": 3370.645476
                      },
                      {
                        "iteration": 336,
                        "learn": [
                          0.05940780777
                        ],
                        "passed_time": 1711.204901,
                        "remaining_time": 3366.554449
                      },
                      {
                        "iteration": 337,
                        "learn": [
                          0.05931812018
                        ],
                        "passed_time": 1716.138044,
                        "remaining_time": 3361.193447
                      },
                      {
                        "iteration": 338,
                        "learn": [
                          0.05926175624
                        ],
                        "passed_time": 1720.392566,
                        "remaining_time": 3354.511758
                      },
                      {
                        "iteration": 339,
                        "learn": [
                          0.05920345448
                        ],
                        "passed_time": 1726.103501,
                        "remaining_time": 3350.671502
                      },
                      {
                        "iteration": 340,
                        "learn": [
                          0.05913963051
                        ],
                        "passed_time": 1730.240849,
                        "remaining_time": 3343.779237
                      },
                      {
                        "iteration": 341,
                        "learn": [
                          0.05905850463
                        ],
                        "passed_time": 1735.003838,
                        "remaining_time": 3338.1068
                      },
                      {
                        "iteration": 342,
                        "learn": [
                          0.05897524194
                        ],
                        "passed_time": 1741.144849,
                        "remaining_time": 3335.0792
                      },
                      {
                        "iteration": 343,
                        "learn": [
                          0.0588718513
                        ],
                        "passed_time": 1745.416518,
                        "remaining_time": 3328.468708
                      },
                      {
                        "iteration": 344,
                        "learn": [
                          0.05882071835
                        ],
                        "passed_time": 1749.757289,
                        "remaining_time": 3322.002969
                      },
                      {
                        "iteration": 345,
                        "learn": [
                          0.05875213057
                        ],
                        "passed_time": 1756.067613,
                        "remaining_time": 3319.272308
                      },
                      {
                        "iteration": 346,
                        "learn": [
                          0.05869515239
                        ],
                        "passed_time": 1760.492424,
                        "remaining_time": 3312.972775
                      },
                      {
                        "iteration": 347,
                        "learn": [
                          0.05863614989
                        ],
                        "passed_time": 1765.110155,
                        "remaining_time": 3307.045463
                      },
                      {
                        "iteration": 348,
                        "learn": [
                          0.05858634049
                        ],
                        "passed_time": 1772.007373,
                        "remaining_time": 3305.377649
                      },
                      {
                        "iteration": 349,
                        "learn": [
                          0.0584728283
                        ],
                        "passed_time": 1776.838998,
                        "remaining_time": 3299.843853
                      },
                      {
                        "iteration": 350,
                        "learn": [
                          0.05839063826
                        ],
                        "passed_time": 1781.885945,
                        "remaining_time": 3294.712188
                      },
                      {
                        "iteration": 351,
                        "learn": [
                          0.05829183263
                        ],
                        "passed_time": 1787.374476,
                        "remaining_time": 3290.393921
                      },
                      {
                        "iteration": 352,
                        "learn": [
                          0.05820455009
                        ],
                        "passed_time": 1791.709671,
                        "remaining_time": 3283.95512
                      },
                      {
                        "iteration": 353,
                        "learn": [
                          0.05816902632
                        ],
                        "passed_time": 1797.297852,
                        "remaining_time": 3279.814725
                      },
                      {
                        "iteration": 354,
                        "learn": [
                          0.05812443345
                        ],
                        "passed_time": 1802.023506,
                        "remaining_time": 3274.099047
                      },
                      {
                        "iteration": 355,
                        "learn": [
                          0.05806889133
                        ],
                        "passed_time": 1806.439107,
                        "remaining_time": 3267.828048
                      },
                      {
                        "iteration": 356,
                        "learn": [
                          0.05797174093
                        ],
                        "passed_time": 1812.487013,
                        "remaining_time": 3264.507421
                      },
                      {
                        "iteration": 357,
                        "learn": [
                          0.05789140805
                        ],
                        "passed_time": 1817.308336,
                        "remaining_time": 3258.971932
                      },
                      {
                        "iteration": 358,
                        "learn": [
                          0.05780012276
                        ],
                        "passed_time": 1821.867776,
                        "remaining_time": 3252.972826
                      },
                      {
                        "iteration": 359,
                        "learn": [
                          0.05773150614
                        ],
                        "passed_time": 1828.202273,
                        "remaining_time": 3250.137374
                      },
                      {
                        "iteration": 360,
                        "learn": [
                          0.05766231571
                        ],
                        "passed_time": 1832.45085,
                        "remaining_time": 3243.590286
                      },
                      {
                        "iteration": 361,
                        "learn": [
                          0.05760048433
                        ],
                        "passed_time": 1836.825071,
                        "remaining_time": 3237.277334
                      },
                      {
                        "iteration": 362,
                        "learn": [
                          0.05751931227
                        ],
                        "passed_time": 1843.141479,
                        "remaining_time": 3234.383257
                      },
                      {
                        "iteration": 363,
                        "learn": [
                          0.05739072711
                        ],
                        "passed_time": 1847.851795,
                        "remaining_time": 3228.664125
                      },
                      {
                        "iteration": 364,
                        "learn": [
                          0.05735118063
                        ],
                        "passed_time": 1853.380422,
                        "remaining_time": 3224.374158
                      },
                      {
                        "iteration": 365,
                        "learn": [
                          0.05726614163
                        ],
                        "passed_time": 1858.683724,
                        "remaining_time": 3219.687107
                      },
                      {
                        "iteration": 366,
                        "learn": [
                          0.05718977368
                        ],
                        "passed_time": 1862.936684,
                        "remaining_time": 3213.185071
                      },
                      {
                        "iteration": 367,
                        "learn": [
                          0.05710408295
                        ],
                        "passed_time": 1868.300472,
                        "remaining_time": 3208.602984
                      },
                      {
                        "iteration": 368,
                        "learn": [
                          0.05706331957
                        ],
                        "passed_time": 1872.936182,
                        "remaining_time": 3202.771628
                      },
                      {
                        "iteration": 369,
                        "learn": [
                          0.05703911416
                        ],
                        "passed_time": 1877.02452,
                        "remaining_time": 3196.014723
                      },
                      {
                        "iteration": 370,
                        "learn": [
                          0.05697441653
                        ],
                        "passed_time": 1882.514185,
                        "remaining_time": 3191.648039
                      },
                      {
                        "iteration": 371,
                        "learn": [
                          0.05688421577
                        ],
                        "passed_time": 1887.093095,
                        "remaining_time": 3185.737805
                      },
                      {
                        "iteration": 372,
                        "learn": [
                          0.05683333941
                        ],
                        "passed_time": 1891.405686,
                        "remaining_time": 3179.387038
                      },
                      {
                        "iteration": 373,
                        "learn": [
                          0.05676703551
                        ],
                        "passed_time": 1897.436874,
                        "remaining_time": 3175.923751
                      },
                      {
                        "iteration": 374,
                        "learn": [
                          0.05670965939
                        ],
                        "passed_time": 1901.903252,
                        "remaining_time": 3169.838754
                      },
                      {
                        "iteration": 375,
                        "learn": [
                          0.0566637458
                        ],
                        "passed_time": 1906.507329,
                        "remaining_time": 3163.990887
                      },
                      {
                        "iteration": 376,
                        "learn": [
                          0.05655766759
                        ],
                        "passed_time": 1912.55488,
                        "remaining_time": 3160.534988
                      },
                      {
                        "iteration": 377,
                        "learn": [
                          0.056473361
                        ],
                        "passed_time": 1916.977616,
                        "remaining_time": 3154.391738
                      },
                      {
                        "iteration": 378,
                        "learn": [
                          0.05642545481
                        ],
                        "passed_time": 1921.275046,
                        "remaining_time": 3148.052253
                      },
                      {
                        "iteration": 379,
                        "learn": [
                          0.05634394248
                        ],
                        "passed_time": 1927.749371,
                        "remaining_time": 3145.27529
                      },
                      {
                        "iteration": 380,
                        "learn": [
                          0.05625848241
                        ],
                        "passed_time": 1932.300147,
                        "remaining_time": 3139.353782
                      },
                      {
                        "iteration": 381,
                        "learn": [
                          0.05623229016
                        ],
                        "passed_time": 1936.704705,
                        "remaining_time": 3133.2029
                      },
                      {
                        "iteration": 382,
                        "learn": [
                          0.05615882322
                        ],
                        "passed_time": 1943.300522,
                        "remaining_time": 3130.59118
                      },
                      {
                        "iteration": 383,
                        "learn": [
                          0.05606824178
                        ],
                        "passed_time": 1947.750793,
                        "remaining_time": 3124.516897
                      },
                      {
                        "iteration": 384,
                        "learn": [
                          0.05604792065
                        ],
                        "passed_time": 1952.267659,
                        "remaining_time": 3118.557429
                      },
                      {
                        "iteration": 385,
                        "learn": [
                          0.05599194022
                        ],
                        "passed_time": 1957.573556,
                        "remaining_time": 3113.860526
                      },
                      {
                        "iteration": 386,
                        "learn": [
                          0.05587595955
                        ],
                        "passed_time": 1961.826648,
                        "remaining_time": 3107.492856
                      },
                      {
                        "iteration": 387,
                        "learn": [
                          0.05581273826
                        ],
                        "passed_time": 1966.714372,
                        "remaining_time": 3102.137103
                      },
                      {
                        "iteration": 388,
                        "learn": [
                          0.05575971357
                        ],
                        "passed_time": 1972.123873,
                        "remaining_time": 3097.603306
                      },
                      {
                        "iteration": 389,
                        "learn": [
                          0.05566140105
                        ],
                        "passed_time": 1976.63513,
                        "remaining_time": 3091.660076
                      },
                      {
                        "iteration": 390,
                        "learn": [
                          0.05560766411
                        ],
                        "passed_time": 1982.004963,
                        "remaining_time": 3087.061439
                      },
                      {
                        "iteration": 391,
                        "learn": [
                          0.05554875098
                        ],
                        "passed_time": 1987.082793,
                        "remaining_time": 3082.005964
                      },
                      {
                        "iteration": 392,
                        "learn": [
                          0.0554626248
                        ],
                        "passed_time": 1991.413956,
                        "remaining_time": 3075.797128
                      },
                      {
                        "iteration": 393,
                        "learn": [
                          0.05542067912
                        ],
                        "passed_time": 1996.741944,
                        "remaining_time": 3071.13101
                      },
                      {
                        "iteration": 394,
                        "learn": [
                          0.05537973696
                        ],
                        "passed_time": 2001.612569,
                        "remaining_time": 3065.761024
                      },
                      {
                        "iteration": 395,
                        "learn": [
                          0.05533813734
                        ],
                        "passed_time": 2005.782835,
                        "remaining_time": 3059.325335
                      },
                      {
                        "iteration": 396,
                        "learn": [
                          0.05528985341
                        ],
                        "passed_time": 2011.661974,
                        "remaining_time": 3055.49665
                      },
                      {
                        "iteration": 397,
                        "learn": [
                          0.05524848736
                        ],
                        "passed_time": 2016.058687,
                        "remaining_time": 3049.415401
                      },
                      {
                        "iteration": 398,
                        "learn": [
                          0.05520041686
                        ],
                        "passed_time": 2025.612054,
                        "remaining_time": 3051.109886
                      },
                      {
                        "iteration": 399,
                        "learn": [
                          0.05516262078
                        ],
                        "passed_time": 2030.259976,
                        "remaining_time": 3045.389965
                      },
                      {
                        "iteration": 400,
                        "learn": [
                          0.05513062372
                        ],
                        "passed_time": 2033.962115,
                        "remaining_time": 3038.26261
                      },
                      {
                        "iteration": 401,
                        "learn": [
                          0.05505255736
                        ],
                        "passed_time": 2039.433017,
                        "remaining_time": 3033.783444
                      },
                      {
                        "iteration": 402,
                        "learn": [
                          0.05496076189
                        ],
                        "passed_time": 2044.104396,
                        "remaining_time": 3028.114949
                      },
                      {
                        "iteration": 403,
                        "learn": [
                          0.05491126681
                        ],
                        "passed_time": 2048.548422,
                        "remaining_time": 3022.115989
                      },
                      {
                        "iteration": 404,
                        "learn": [
                          0.05479940111
                        ],
                        "passed_time": 2054.515757,
                        "remaining_time": 3018.362655
                      },
                      {
                        "iteration": 405,
                        "learn": [
                          0.05475416518
                        ],
                        "passed_time": 2058.874621,
                        "remaining_time": 3012.245136
                      },
                      {
                        "iteration": 406,
                        "learn": [
                          0.0546615046
                        ],
                        "passed_time": 2063.793603,
                        "remaining_time": 3006.952351
                      },
                      {
                        "iteration": 407,
                        "learn": [
                          0.05463085133
                        ],
                        "passed_time": 2069.003074,
                        "remaining_time": 3002.082891
                      },
                      {
                        "iteration": 408,
                        "learn": [
                          0.05459758547
                        ],
                        "passed_time": 2072.8955,
                        "remaining_time": 2995.308657
                      },
                      {
                        "iteration": 409,
                        "learn": [
                          0.05452610825
                        ],
                        "passed_time": 2077.195728,
                        "remaining_time": 2989.135316
                      },
                      {
                        "iteration": 410,
                        "learn": [
                          0.05445400815
                        ],
                        "passed_time": 2083.545721,
                        "remaining_time": 2985.908589
                      },
                      {
                        "iteration": 411,
                        "learn": [
                          0.05440380369
                        ],
                        "passed_time": 2087.783029,
                        "remaining_time": 2979.651507
                      },
                      {
                        "iteration": 412,
                        "learn": [
                          0.05437298894
                        ],
                        "passed_time": 2092.14353,
                        "remaining_time": 2973.579302
                      },
                      {
                        "iteration": 413,
                        "learn": [
                          0.05434423599
                        ],
                        "passed_time": 2098.38249,
                        "remaining_time": 2970.17425
                      },
                      {
                        "iteration": 414,
                        "learn": [
                          0.05431491209
                        ],
                        "passed_time": 2102.72617,
                        "remaining_time": 2964.083879
                      },
                      {
                        "iteration": 415,
                        "learn": [
                          0.05427457551
                        ],
                        "passed_time": 2106.991219,
                        "remaining_time": 2957.891519
                      },
                      {
                        "iteration": 416,
                        "learn": [
                          0.05423144466
                        ],
                        "passed_time": 2113.2782,
                        "remaining_time": 2954.53523
                      },
                      {
                        "iteration": 417,
                        "learn": [
                          0.05418960857
                        ],
                        "passed_time": 2117.595476,
                        "remaining_time": 2948.42241
                      },
                      {
                        "iteration": 418,
                        "learn": [
                          0.05412311433
                        ],
                        "passed_time": 2121.910123,
                        "remaining_time": 2942.314514
                      },
                      {
                        "iteration": 419,
                        "learn": [
                          0.05399931319
                        ],
                        "passed_time": 2128.169483,
                        "remaining_time": 2938.900714
                      },
                      {
                        "iteration": 420,
                        "learn": [
                          0.05395783757
                        ],
                        "passed_time": 2133.008369,
                        "remaining_time": 2933.519823
                      },
                      {
                        "iteration": 421,
                        "learn": [
                          0.05391071573
                        ],
                        "passed_time": 2138.571285,
                        "remaining_time": 2929.133181
                      },
                      {
                        "iteration": 422,
                        "learn": [
                          0.05382949758
                        ],
                        "passed_time": 2143.64908,
                        "remaining_time": 2924.079241
                      },
                      {
                        "iteration": 423,
                        "learn": [
                          0.05379363641
                        ],
                        "passed_time": 2148.44701,
                        "remaining_time": 2918.644994
                      },
                      {
                        "iteration": 424,
                        "learn": [
                          0.05375858556
                        ],
                        "passed_time": 2153.85946,
                        "remaining_time": 2914.045152
                      },
                      {
                        "iteration": 425,
                        "learn": [
                          0.05369331111
                        ],
                        "passed_time": 2158.467456,
                        "remaining_time": 2908.357558
                      },
                      {
                        "iteration": 426,
                        "learn": [
                          0.05364131585
                        ],
                        "passed_time": 2163.012537,
                        "remaining_time": 2902.590594
                      },
                      {
                        "iteration": 427,
                        "learn": [
                          0.05359740352
                        ],
                        "passed_time": 2168.77955,
                        "remaining_time": 2898.46239
                      },
                      {
                        "iteration": 428,
                        "learn": [
                          0.05353140814
                        ],
                        "passed_time": 2173.304603,
                        "remaining_time": 2892.673493
                      },
                      {
                        "iteration": 429,
                        "learn": [
                          0.0534581604
                        ],
                        "passed_time": 2177.984407,
                        "remaining_time": 2887.095609
                      },
                      {
                        "iteration": 430,
                        "learn": [
                          0.0533818069
                        ],
                        "passed_time": 2183.930558,
                        "remaining_time": 2883.193706
                      },
                      {
                        "iteration": 431,
                        "learn": [
                          0.05334192016
                        ],
                        "passed_time": 2188.573205,
                        "remaining_time": 2877.568474
                      },
                      {
                        "iteration": 432,
                        "learn": [
                          0.05329521069
                        ],
                        "passed_time": 2192.876562,
                        "remaining_time": 2871.503488
                      },
                      {
                        "iteration": 433,
                        "learn": [
                          0.05326836962
                        ],
                        "passed_time": 2198.627773,
                        "remaining_time": 2867.334837
                      },
                      {
                        "iteration": 434,
                        "learn": [
                          0.05322456399
                        ],
                        "passed_time": 2203.187632,
                        "remaining_time": 2861.611522
                      },
                      {
                        "iteration": 435,
                        "learn": [
                          0.05316794338
                        ],
                        "passed_time": 2207.677903,
                        "remaining_time": 2855.803526
                      },
                      {
                        "iteration": 436,
                        "learn": [
                          0.05314396578
                        ],
                        "passed_time": 2213.719176,
                        "remaining_time": 2851.999763
                      },
                      {
                        "iteration": 437,
                        "learn": [
                          0.05305815669
                        ],
                        "passed_time": 2217.882372,
                        "remaining_time": 2845.776012
                      },
                      {
                        "iteration": 438,
                        "learn": [
                          0.05299811895
                        ],
                        "passed_time": 2222.922033,
                        "remaining_time": 2840.681686
                      },
                      {
                        "iteration": 439,
                        "learn": [
                          0.05294196551
                        ],
                        "passed_time": 2229.084977,
                        "remaining_time": 2837.017244
                      },
                      {
                        "iteration": 440,
                        "learn": [
                          0.05289292892
                        ],
                        "passed_time": 2233.555324,
                        "remaining_time": 2831.195977
                      },
                      {
                        "iteration": 441,
                        "learn": [
                          0.05285749457
                        ],
                        "passed_time": 2237.763596,
                        "remaining_time": 2825.04997
                      },
                      {
                        "iteration": 442,
                        "learn": [
                          0.05283126482
                        ],
                        "passed_time": 2243.936614,
                        "remaining_time": 2821.383057
                      },
                      {
                        "iteration": 443,
                        "learn": [
                          0.05279974645
                        ],
                        "passed_time": 2248.300446,
                        "remaining_time": 2815.439297
                      },
                      {
                        "iteration": 444,
                        "learn": [
                          0.05273737873
                        ],
                        "passed_time": 2253.476288,
                        "remaining_time": 2810.51537
                      },
                      {
                        "iteration": 445,
                        "learn": [
                          0.05269017329
                        ],
                        "passed_time": 2258.852862,
                        "remaining_time": 2805.839654
                      },
                      {
                        "iteration": 446,
                        "learn": [
                          0.05259728493
                        ],
                        "passed_time": 2263.41343,
                        "remaining_time": 2800.15129
                      },
                      {
                        "iteration": 447,
                        "learn": [
                          0.05258184583
                        ],
                        "passed_time": 2268.942611,
                        "remaining_time": 2795.661431
                      },
                      {
                        "iteration": 448,
                        "learn": [
                          0.05253174808
                        ],
                        "passed_time": 2273.884727,
                        "remaining_time": 2790.446513
                      },
                      {
                        "iteration": 449,
                        "learn": [
                          0.05249518617
                        ],
                        "passed_time": 2278.032569,
                        "remaining_time": 2784.262028
                      },
                      {
                        "iteration": 450,
                        "learn": [
                          0.05242761632
                        ],
                        "passed_time": 2284.538666,
                        "remaining_time": 2780.957268
                      },
                      {
                        "iteration": 451,
                        "learn": [
                          0.05237377557
                        ],
                        "passed_time": 2288.840218,
                        "remaining_time": 2774.965574
                      },
                      {
                        "iteration": 452,
                        "learn": [
                          0.05234350582
                        ],
                        "passed_time": 2292.938233,
                        "remaining_time": 2768.73557
                      },
                      {
                        "iteration": 453,
                        "learn": [
                          0.05226951119
                        ],
                        "passed_time": 2299.187816,
                        "remaining_time": 2765.102527
                      },
                      {
                        "iteration": 454,
                        "learn": [
                          0.05223253117
                        ],
                        "passed_time": 2302.959098,
                        "remaining_time": 2758.489469
                      },
                      {
                        "iteration": 455,
                        "learn": [
                          0.0521711323
                        ],
                        "passed_time": 2307.562552,
                        "remaining_time": 2752.881641
                      },
                      {
                        "iteration": 456,
                        "learn": [
                          0.05214625788
                        ],
                        "passed_time": 2313.512962,
                        "remaining_time": 2748.87864
                      },
                      {
                        "iteration": 457,
                        "learn": [
                          0.05210728814
                        ],
                        "passed_time": 2317.911573,
                        "remaining_time": 2743.030727
                      },
                      {
                        "iteration": 458,
                        "learn": [
                          0.05207336768
                        ],
                        "passed_time": 2321.828791,
                        "remaining_time": 2736.621734
                      },
                      {
                        "iteration": 459,
                        "learn": [
                          0.05202242789
                        ],
                        "passed_time": 2328.077909,
                        "remaining_time": 2732.961024
                      },
                      {
                        "iteration": 460,
                        "learn": [
                          0.05194911958
                        ],
                        "passed_time": 2332.378042,
                        "remaining_time": 2727.010336
                      },
                      {
                        "iteration": 461,
                        "learn": [
                          0.05188192459
                        ],
                        "passed_time": 2336.571082,
                        "remaining_time": 2720.942083
                      },
                      {
                        "iteration": 462,
                        "learn": [
                          0.05186270212
                        ],
                        "passed_time": 2342.070857,
                        "remaining_time": 2716.397516
                      },
                      {
                        "iteration": 463,
                        "learn": [
                          0.05181914449
                        ],
                        "passed_time": 2346.222476,
                        "remaining_time": 2710.29148
                      },
                      {
                        "iteration": 464,
                        "learn": [
                          0.05178433011
                        ],
                        "passed_time": 2350.567528,
                        "remaining_time": 2704.416403
                      },
                      {
                        "iteration": 465,
                        "learn": [
                          0.05173749089
                        ],
                        "passed_time": 2356.511241,
                        "remaining_time": 2700.379834
                      },
                      {
                        "iteration": 466,
                        "learn": [
                          0.05168510062
                        ],
                        "passed_time": 2360.689867,
                        "remaining_time": 2694.320554
                      },
                      {
                        "iteration": 467,
                        "learn": [
                          0.05163573243
                        ],
                        "passed_time": 2365.220035,
                        "remaining_time": 2688.668929
                      },
                      {
                        "iteration": 468,
                        "learn": [
                          0.0515951738
                        ],
                        "passed_time": 2371.260823,
                        "remaining_time": 2684.732403
                      },
                      {
                        "iteration": 469,
                        "learn": [
                          0.05154569025
                        ],
                        "passed_time": 2375.420843,
                        "remaining_time": 2678.666057
                      },
                      {
                        "iteration": 470,
                        "learn": [
                          0.0515028939
                        ],
                        "passed_time": 2379.740961,
                        "remaining_time": 2672.787618
                      },
                      {
                        "iteration": 471,
                        "learn": [
                          0.05146867065
                        ],
                        "passed_time": 2385.845445,
                        "remaining_time": 2668.911854
                      },
                      {
                        "iteration": 472,
                        "learn": [
                          0.05142352411
                        ],
                        "passed_time": 2390.490719,
                        "remaining_time": 2663.400865
                      },
                      {
                        "iteration": 473,
                        "learn": [
                          0.05136908357
                        ],
                        "passed_time": 2394.886218,
                        "remaining_time": 2657.616352
                      },
                      {
                        "iteration": 474,
                        "learn": [
                          0.05134786274
                        ],
                        "passed_time": 2400.931337,
                        "remaining_time": 2653.660951
                      },
                      {
                        "iteration": 475,
                        "learn": [
                          0.05130187419
                        ],
                        "passed_time": 2405.50047,
                        "remaining_time": 2648.071946
                      },
                      {
                        "iteration": 476,
                        "learn": [
                          0.05127232537
                        ],
                        "passed_time": 2410.357318,
                        "remaining_time": 2642.802678
                      },
                      {
                        "iteration": 477,
                        "learn": [
                          0.05123862986
                        ],
                        "passed_time": 2415.614043,
                        "remaining_time": 2637.971821
                      },
                      {
                        "iteration": 478,
                        "learn": [
                          0.05119044686
                        ],
                        "passed_time": 2420.172093,
                        "remaining_time": 2632.379249
                      },
                      {
                        "iteration": 479,
                        "learn": [
                          0.05114344317
                        ],
                        "passed_time": 2424.952573,
                        "remaining_time": 2627.031954
                      },
                      {
                        "iteration": 480,
                        "learn": [
                          0.05110227033
                        ],
                        "passed_time": 2429.619818,
                        "remaining_time": 2621.564834
                      },
                      {
                        "iteration": 481,
                        "learn": [
                          0.05107171516
                        ],
                        "passed_time": 2433.974719,
                        "remaining_time": 2615.765362
                      },
                      {
                        "iteration": 482,
                        "learn": [
                          0.05100533627
                        ],
                        "passed_time": 2439.469089,
                        "remaining_time": 2611.191551
                      },
                      {
                        "iteration": 483,
                        "learn": [
                          0.05096832167
                        ],
                        "passed_time": 2444.819309,
                        "remaining_time": 2606.460255
                      },
                      {
                        "iteration": 484,
                        "learn": [
                          0.05092032609
                        ],
                        "passed_time": 2449.319075,
                        "remaining_time": 2600.823348
                      },
                      {
                        "iteration": 485,
                        "learn": [
                          0.05088782441
                        ],
                        "passed_time": 2455.570944,
                        "remaining_time": 2597.044167
                      },
                      {
                        "iteration": 486,
                        "learn": [
                          0.05085750852
                        ],
                        "passed_time": 2459.882106,
                        "remaining_time": 2591.210514
                      },
                      {
                        "iteration": 487,
                        "learn": [
                          0.05077820224
                        ],
                        "passed_time": 2464.472193,
                        "remaining_time": 2585.675743
                      },
                      {
                        "iteration": 488,
                        "learn": [
                          0.05072271203
                        ],
                        "passed_time": 2470.948126,
                        "remaining_time": 2582.115527
                      },
                      {
                        "iteration": 489,
                        "learn": [
                          0.05069358713
                        ],
                        "passed_time": 2475.343449,
                        "remaining_time": 2576.377876
                      },
                      {
                        "iteration": 490,
                        "learn": [
                          0.05063469417
                        ],
                        "passed_time": 2479.623578,
                        "remaining_time": 2570.526276
                      },
                      {
                        "iteration": 491,
                        "learn": [
                          0.05059256394
                        ],
                        "passed_time": 2485.74475,
                        "remaining_time": 2566.581978
                      },
                      {
                        "iteration": 492,
                        "learn": [
                          0.05054643983
                        ],
                        "passed_time": 2490.019215,
                        "remaining_time": 2560.729699
                      },
                      {
                        "iteration": 493,
                        "learn": [
                          0.05048487953
                        ],
                        "passed_time": 2494.327664,
                        "remaining_time": 2554.918619
                      },
                      {
                        "iteration": 494,
                        "learn": [
                          0.05046257445
                        ],
                        "passed_time": 2499.897471,
                        "remaining_time": 2550.40045
                      },
                      {
                        "iteration": 495,
                        "learn": [
                          0.05043741165
                        ],
                        "passed_time": 2503.543823,
                        "remaining_time": 2543.923563
                      },
                      {
                        "iteration": 496,
                        "learn": [
                          0.0504154699
                        ],
                        "passed_time": 2507.895845,
                        "remaining_time": 2538.172254
                      },
                      {
                        "iteration": 497,
                        "learn": [
                          0.05038344689
                        ],
                        "passed_time": 2514.23612,
                        "remaining_time": 2534.430788
                      },
                      {
                        "iteration": 498,
                        "learn": [
                          0.05034110616
                        ],
                        "passed_time": 2518.41465,
                        "remaining_time": 2528.508497
                      },
                      {
                        "iteration": 499,
                        "learn": [
                          0.05030583611
                        ],
                        "passed_time": 2522.688828,
                        "remaining_time": 2522.688828
                      },
                      {
                        "iteration": 500,
                        "learn": [
                          0.05023041695
                        ],
                        "passed_time": 2529.439715,
                        "remaining_time": 2519.342152
                      },
                      {
                        "iteration": 501,
                        "learn": [
                          0.05020277998
                        ],
                        "passed_time": 2534.065278,
                        "remaining_time": 2513.873523
                      },
                      {
                        "iteration": 502,
                        "learn": [
                          0.05017244392
                        ],
                        "passed_time": 2538.986352,
                        "remaining_time": 2508.700233
                      },
                      {
                        "iteration": 503,
                        "learn": [
                          0.05013015497
                        ],
                        "passed_time": 2544.813431,
                        "remaining_time": 2504.419567
                      },
                      {
                        "iteration": 504,
                        "learn": [
                          0.05009341142
                        ],
                        "passed_time": 2549.472164,
                        "remaining_time": 2498.987567
                      },
                      {
                        "iteration": 505,
                        "learn": [
                          0.05003553062
                        ],
                        "passed_time": 2555.372213,
                        "remaining_time": 2494.770501
                      },
                      {
                        "iteration": 506,
                        "learn": [
                          0.04998652576
                        ],
                        "passed_time": 2559.776418,
                        "remaining_time": 2489.092256
                      },
                      {
                        "iteration": 507,
                        "learn": [
                          0.04993884165
                        ],
                        "passed_time": 2564.072598,
                        "remaining_time": 2483.314405
                      },
                      {
                        "iteration": 508,
                        "learn": [
                          0.04988814985
                        ],
                        "passed_time": 2570.240113,
                        "remaining_time": 2479.347536
                      },
                      {
                        "iteration": 509,
                        "learn": [
                          0.04978807252
                        ],
                        "passed_time": 2574.939319,
                        "remaining_time": 2473.961307
                      },
                      {
                        "iteration": 510,
                        "learn": [
                          0.04975051577
                        ],
                        "passed_time": 2579.427245,
                        "remaining_time": 2468.375582
                      },
                      {
                        "iteration": 511,
                        "learn": [
                          0.04970172428
                        ],
                        "passed_time": 2585.839616,
                        "remaining_time": 2464.628384
                      },
                      {
                        "iteration": 512,
                        "learn": [
                          0.04963041144
                        ],
                        "passed_time": 2590.360791,
                        "remaining_time": 2459.075448
                      },
                      {
                        "iteration": 513,
                        "learn": [
                          0.04958220823
                        ],
                        "passed_time": 2594.907454,
                        "remaining_time": 2453.550628
                      },
                      {
                        "iteration": 514,
                        "learn": [
                          0.04955319
                        ],
                        "passed_time": 2600.930699,
                        "remaining_time": 2449.420173
                      },
                      {
                        "iteration": 515,
                        "learn": [
                          0.0495207777
                        ],
                        "passed_time": 2605.53761,
                        "remaining_time": 2443.953882
                      },
                      {
                        "iteration": 516,
                        "learn": [
                          0.04947439118
                        ],
                        "passed_time": 2611.052318,
                        "remaining_time": 2439.339013
                      },
                      {
                        "iteration": 517,
                        "learn": [
                          0.04935571717
                        ],
                        "passed_time": 2616.65971,
                        "remaining_time": 2434.806912
                      },
                      {
                        "iteration": 518,
                        "learn": [
                          0.04932237056
                        ],
                        "passed_time": 2620.461728,
                        "remaining_time": 2428.597478
                      },
                      {
                        "iteration": 519,
                        "learn": [
                          0.04927602444
                        ],
                        "passed_time": 2625.723825,
                        "remaining_time": 2423.74507
                      },
                      {
                        "iteration": 520,
                        "learn": [
                          0.04924302099
                        ],
                        "passed_time": 2631.306684,
                        "remaining_time": 2419.185992
                      },
                      {
                        "iteration": 521,
                        "learn": [
                          0.04918125013
                        ],
                        "passed_time": 2635.687168,
                        "remaining_time": 2413.521966
                      },
                      {
                        "iteration": 522,
                        "learn": [
                          0.04914438835
                        ],
                        "passed_time": 2641.652263,
                        "remaining_time": 2409.308087
                      },
                      {
                        "iteration": 523,
                        "learn": [
                          0.04910170736
                        ],
                        "passed_time": 2646.455409,
                        "remaining_time": 2404.032012
                      },
                      {
                        "iteration": 524,
                        "learn": [
                          0.04905370023
                        ],
                        "passed_time": 2650.815804,
                        "remaining_time": 2398.357156
                      },
                      {
                        "iteration": 525,
                        "learn": [
                          0.04900695905
                        ],
                        "passed_time": 2657.336617,
                        "remaining_time": 2394.634138
                      },
                      {
                        "iteration": 526,
                        "learn": [
                          0.04897889241
                        ],
                        "passed_time": 2661.343081,
                        "remaining_time": 2388.64379
                      },
                      {
                        "iteration": 527,
                        "learn": [
                          0.04892522758
                        ],
                        "passed_time": 2666.347589,
                        "remaining_time": 2383.553148
                      },
                      {
                        "iteration": 528,
                        "learn": [
                          0.04889681202
                        ],
                        "passed_time": 2672.704904,
                        "remaining_time": 2379.667315
                      },
                      {
                        "iteration": 529,
                        "learn": [
                          0.04883024823
                        ],
                        "passed_time": 2677.091454,
                        "remaining_time": 2374.024497
                      },
                      {
                        "iteration": 530,
                        "learn": [
                          0.0487894416
                        ],
                        "passed_time": 2681.892633,
                        "remaining_time": 2368.752627
                      },
                      {
                        "iteration": 531,
                        "learn": [
                          0.04875901041
                        ],
                        "passed_time": 2687.259335,
                        "remaining_time": 2363.980016
                      },
                      {
                        "iteration": 532,
                        "learn": [
                          0.0487252082
                        ],
                        "passed_time": 2691.453389,
                        "remaining_time": 2358.177734
                      },
                      {
                        "iteration": 533,
                        "learn": [
                          0.04867384739
                        ],
                        "passed_time": 2695.647494,
                        "remaining_time": 2352.381521
                      },
                      {
                        "iteration": 534,
                        "learn": [
                          0.04863738643
                        ],
                        "passed_time": 2701.994236,
                        "remaining_time": 2348.46228
                      },
                      {
                        "iteration": 535,
                        "learn": [
                          0.04861482182
                        ],
                        "passed_time": 2705.790387,
                        "remaining_time": 2342.326007
                      },
                      {
                        "iteration": 536,
                        "learn": [
                          0.04854463938
                        ],
                        "passed_time": 2710.59987,
                        "remaining_time": 2337.072141
                      },
                      {
                        "iteration": 537,
                        "learn": [
                          0.04852572547
                        ],
                        "passed_time": 2716.420499,
                        "remaining_time": 2332.688235
                      },
                      {
                        "iteration": 538,
                        "learn": [
                          0.04848105186
                        ],
                        "passed_time": 2720.767023,
                        "remaining_time": 2327.038214
                      },
                      {
                        "iteration": 539,
                        "learn": [
                          0.04840922284
                        ],
                        "passed_time": 2725.407066,
                        "remaining_time": 2321.643056
                      },
                      {
                        "iteration": 540,
                        "learn": [
                          0.04836113225
                        ],
                        "passed_time": 2730.879958,
                        "remaining_time": 2316.957303
                      },
                      {
                        "iteration": 541,
                        "learn": [
                          0.04833172039
                        ],
                        "passed_time": 2735.045079,
                        "remaining_time": 2311.163554
                      },
                      {
                        "iteration": 542,
                        "learn": [
                          0.04830469188
                        ],
                        "passed_time": 2740.275061,
                        "remaining_time": 2306.272013
                      },
                      {
                        "iteration": 543,
                        "learn": [
                          0.0482740141
                        ],
                        "passed_time": 2745.044745,
                        "remaining_time": 2300.993389
                      },
                      {
                        "iteration": 544,
                        "learn": [
                          0.04825093042
                        ],
                        "passed_time": 2749.571336,
                        "remaining_time": 2295.513684
                      },
                      {
                        "iteration": 545,
                        "learn": [
                          0.04821976243
                        ],
                        "passed_time": 2755.39783,
                        "remaining_time": 2291.118342
                      },
                      {
                        "iteration": 546,
                        "learn": [
                          0.04817944746
                        ],
                        "passed_time": 2760.566785,
                        "remaining_time": 2286.173224
                      },
                      {
                        "iteration": 547,
                        "learn": [
                          0.04812663906
                        ],
                        "passed_time": 2764.977812,
                        "remaining_time": 2280.602137
                      },
                      {
                        "iteration": 548,
                        "learn": [
                          0.04806366287
                        ],
                        "passed_time": 2771.269887,
                        "remaining_time": 2276.580545
                      },
                      {
                        "iteration": 549,
                        "learn": [
                          0.04802120243
                        ],
                        "passed_time": 2775.894882,
                        "remaining_time": 2271.186722
                      },
                      {
                        "iteration": 550,
                        "learn": [
                          0.04797571992
                        ],
                        "passed_time": 2780.324904,
                        "remaining_time": 2265.636809
                      },
                      {
                        "iteration": 551,
                        "learn": [
                          0.04794842757
                        ],
                        "passed_time": 2786.277467,
                        "remaining_time": 2261.32664
                      },
                      {
                        "iteration": 552,
                        "learn": [
                          0.04788758101
                        ],
                        "passed_time": 2790.538454,
                        "remaining_time": 2255.643199
                      },
                      {
                        "iteration": 553,
                        "learn": [
                          0.04784798841
                        ],
                        "passed_time": 2795.201531,
                        "remaining_time": 2250.288597
                      },
                      {
                        "iteration": 554,
                        "learn": [
                          0.04781548814
                        ],
                        "passed_time": 2801.666681,
                        "remaining_time": 2246.381393
                      },
                      {
                        "iteration": 555,
                        "learn": [
                          0.04776665191
                        ],
                        "passed_time": 2805.798101,
                        "remaining_time": 2240.601361
                      },
                      {
                        "iteration": 556,
                        "learn": [
                          0.04774032268
                        ],
                        "passed_time": 2810.622274,
                        "remaining_time": 2235.378218
                      },
                      {
                        "iteration": 557,
                        "learn": [
                          0.04770284956
                        ],
                        "passed_time": 2816.22453,
                        "remaining_time": 2230.772836
                      },
                      {
                        "iteration": 558,
                        "learn": [
                          0.04764799087
                        ],
                        "passed_time": 2821.002977,
                        "remaining_time": 2225.513976
                      },
                      {
                        "iteration": 559,
                        "learn": [
                          0.04761458947
                        ],
                        "passed_time": 2826.400407,
                        "remaining_time": 2220.743177
                      },
                      {
                        "iteration": 560,
                        "learn": [
                          0.0475536751
                        ],
                        "passed_time": 2831.389091,
                        "remaining_time": 2215.650287
                      },
                      {
                        "iteration": 561,
                        "learn": [
                          0.04751654798
                        ],
                        "passed_time": 2836.021302,
                        "remaining_time": 2210.279947
                      },
                      {
                        "iteration": 562,
                        "learn": [
                          0.04746007446
                        ],
                        "passed_time": 2842.069885,
                        "remaining_time": 2206.011616
                      },
                      {
                        "iteration": 563,
                        "learn": [
                          0.0474149481
                        ],
                        "passed_time": 2847.189621,
                        "remaining_time": 2201.018927
                      },
                      {
                        "iteration": 564,
                        "learn": [
                          0.04736244103
                        ],
                        "passed_time": 2851.625656,
                        "remaining_time": 2195.499399
                      },
                      {
                        "iteration": 565,
                        "learn": [
                          0.04732063377
                        ],
                        "passed_time": 2857.663689,
                        "remaining_time": 2191.212087
                      },
                      {
                        "iteration": 566,
                        "learn": [
                          0.04729268681
                        ],
                        "passed_time": 2861.619155,
                        "remaining_time": 2185.328209
                      },
                      {
                        "iteration": 567,
                        "learn": [
                          0.04725910374
                        ],
                        "passed_time": 2865.680808,
                        "remaining_time": 2179.531882
                      },
                      {
                        "iteration": 568,
                        "learn": [
                          0.04722304794
                        ],
                        "passed_time": 2872.127251,
                        "remaining_time": 2175.548058
                      },
                      {
                        "iteration": 569,
                        "learn": [
                          0.04719058665
                        ],
                        "passed_time": 2876.744444,
                        "remaining_time": 2170.175634
                      },
                      {
                        "iteration": 570,
                        "learn": [
                          0.0471504822
                        ],
                        "passed_time": 2881.003903,
                        "remaining_time": 2164.537083
                      },
                      {
                        "iteration": 571,
                        "learn": [
                          0.04712654064
                        ],
                        "passed_time": 2887.521976,
                        "remaining_time": 2160.593367
                      },
                      {
                        "iteration": 572,
                        "learn": [
                          0.0470850304
                        ],
                        "passed_time": 2891.90615,
                        "remaining_time": 2155.050482
                      },
                      {
                        "iteration": 573,
                        "learn": [
                          0.04705073363
                        ],
                        "passed_time": 2895.846944,
                        "remaining_time": 2149.182575
                      },
                      {
                        "iteration": 574,
                        "learn": [
                          0.04701976175
                        ],
                        "passed_time": 2902.102858,
                        "remaining_time": 2145.032547
                      },
                      {
                        "iteration": 575,
                        "learn": [
                          0.04698253374
                        ],
                        "passed_time": 2906.330232,
                        "remaining_time": 2139.381976
                      },
                      {
                        "iteration": 576,
                        "learn": [
                          0.04696213331
                        ],
                        "passed_time": 2910.485219,
                        "remaining_time": 2133.683271
                      },
                      {
                        "iteration": 577,
                        "learn": [
                          0.04692311022
                        ],
                        "passed_time": 2916.573637,
                        "remaining_time": 2129.401513
                      },
                      {
                        "iteration": 578,
                        "learn": [
                          0.04689955795
                        ],
                        "passed_time": 2921.14796,
                        "remaining_time": 2124.012593
                      },
                      {
                        "iteration": 579,
                        "learn": [
                          0.04687593647
                        ],
                        "passed_time": 2925.94946,
                        "remaining_time": 2118.790989
                      },
                      {
                        "iteration": 580,
                        "learn": [
                          0.04683228945
                        ],
                        "passed_time": 2932.02248,
                        "remaining_time": 2114.487813
                      },
                      {
                        "iteration": 581,
                        "learn": [
                          0.04680586795
                        ],
                        "passed_time": 2936.285385,
                        "remaining_time": 2108.878507
                      },
                      {
                        "iteration": 582,
                        "learn": [
                          0.04676941853
                        ],
                        "passed_time": 2940.800975,
                        "remaining_time": 2103.454557
                      },
                      {
                        "iteration": 583,
                        "learn": [
                          0.04674369343
                        ],
                        "passed_time": 2946.311552,
                        "remaining_time": 2098.742476
                      },
                      {
                        "iteration": 584,
                        "learn": [
                          0.04671819469
                        ],
                        "passed_time": 2950.811263,
                        "remaining_time": 2093.310554
                      },
                      {
                        "iteration": 585,
                        "learn": [
                          0.04666690166
                        ],
                        "passed_time": 2956.756627,
                        "remaining_time": 2088.903146
                      },
                      {
                        "iteration": 586,
                        "learn": [
                          0.0466449628
                        ],
                        "passed_time": 2961.422517,
                        "remaining_time": 2083.590289
                      },
                      {
                        "iteration": 587,
                        "learn": [
                          0.04659894972
                        ],
                        "passed_time": 2966.203673,
                        "remaining_time": 2078.360397
                      },
                      {
                        "iteration": 588,
                        "learn": [
                          0.0465649788
                        ],
                        "passed_time": 2971.881585,
                        "remaining_time": 2073.757778
                      },
                      {
                        "iteration": 589,
                        "learn": [
                          0.04653875483
                        ],
                        "passed_time": 2976.369837,
                        "remaining_time": 2068.324802
                      },
                      {
                        "iteration": 590,
                        "learn": [
                          0.04649732384
                        ],
                        "passed_time": 2980.583526,
                        "remaining_time": 2062.705012
                      },
                      {
                        "iteration": 591,
                        "learn": [
                          0.04647323377
                        ],
                        "passed_time": 2986.940132,
                        "remaining_time": 2058.566848
                      },
                      {
                        "iteration": 592,
                        "learn": [
                          0.04642177348
                        ],
                        "passed_time": 2991.408265,
                        "remaining_time": 2053.125066
                      },
                      {
                        "iteration": 593,
                        "learn": [
                          0.04637187756
                        ],
                        "passed_time": 2996.222426,
                        "remaining_time": 2047.923073
                      },
                      {
                        "iteration": 594,
                        "learn": [
                          0.04634056826
                        ],
                        "passed_time": 3002.379991,
                        "remaining_time": 2043.6368
                      },
                      {
                        "iteration": 595,
                        "learn": [
                          0.0462940664
                        ],
                        "passed_time": 3006.845436,
                        "remaining_time": 2038.197242
                      },
                      {
                        "iteration": 596,
                        "learn": [
                          0.04625547733
                        ],
                        "passed_time": 3011.637076,
                        "remaining_time": 2032.981142
                      },
                      {
                        "iteration": 597,
                        "learn": [
                          0.04623437761
                        ],
                        "passed_time": 3017.522846,
                        "remaining_time": 2028.50198
                      },
                      {
                        "iteration": 598,
                        "learn": [
                          0.04621285834
                        ],
                        "passed_time": 3021.798152,
                        "remaining_time": 2022.939998
                      },
                      {
                        "iteration": 599,
                        "learn": [
                          0.04617513579
                        ],
                        "passed_time": 3027.283107,
                        "remaining_time": 2018.188738
                      },
                      {
                        "iteration": 600,
                        "learn": [
                          0.04611381192
                        ],
                        "passed_time": 3033.070578,
                        "remaining_time": 2013.635874
                      },
                      {
                        "iteration": 601,
                        "learn": [
                          0.04608460911
                        ],
                        "passed_time": 3037.529783,
                        "remaining_time": 2008.200754
                      },
                      {
                        "iteration": 602,
                        "learn": [
                          0.04605260916
                        ],
                        "passed_time": 3043.027716,
                        "remaining_time": 2003.452742
                      },
                      {
                        "iteration": 603,
                        "learn": [
                          0.04597286595
                        ],
                        "passed_time": 3048.028286,
                        "remaining_time": 1998.376161
                      },
                      {
                        "iteration": 604,
                        "learn": [
                          0.04594731098
                        ],
                        "passed_time": 3051.810424,
                        "remaining_time": 1992.504327
                      },
                      {
                        "iteration": 605,
                        "learn": [
                          0.04589675617
                        ],
                        "passed_time": 3057.341896,
                        "remaining_time": 1987.776744
                      },
                      {
                        "iteration": 606,
                        "learn": [
                          0.04586521762
                        ],
                        "passed_time": 3062.389404,
                        "remaining_time": 1982.733173
                      },
                      {
                        "iteration": 607,
                        "learn": [
                          0.04580634775
                        ],
                        "passed_time": 3066.904088,
                        "remaining_time": 1977.346057
                      },
                      {
                        "iteration": 608,
                        "learn": [
                          0.04577300546
                        ],
                        "passed_time": 3072.761026,
                        "remaining_time": 1972.823581
                      },
                      {
                        "iteration": 609,
                        "learn": [
                          0.04572068007
                        ],
                        "passed_time": 3077.418439,
                        "remaining_time": 1967.529821
                      },
                      {
                        "iteration": 610,
                        "learn": [
                          0.04569111105
                        ],
                        "passed_time": 3081.68047,
                        "remaining_time": 1961.98642
                      },
                      {
                        "iteration": 611,
                        "learn": [
                          0.04567755642
                        ],
                        "passed_time": 3087.711989,
                        "remaining_time": 1957.569039
                      },
                      {
                        "iteration": 612,
                        "learn": [
                          0.04565300929
                        ],
                        "passed_time": 3092.109642,
                        "remaining_time": 1952.114896
                      },
                      {
                        "iteration": 613,
                        "learn": [
                          0.04561455718
                        ],
                        "passed_time": 3096.869717,
                        "remaining_time": 1946.892037
                      },
                      {
                        "iteration": 614,
                        "learn": [
                          0.04557069967
                        ],
                        "passed_time": 3102.96402,
                        "remaining_time": 1942.505931
                      },
                      {
                        "iteration": 615,
                        "learn": [
                          0.04553615203
                        ],
                        "passed_time": 3107.488259,
                        "remaining_time": 1937.135538
                      },
                      {
                        "iteration": 616,
                        "learn": [
                          0.04550881495
                        ],
                        "passed_time": 3112.161681,
                        "remaining_time": 1931.860492
                      },
                      {
                        "iteration": 617,
                        "learn": [
                          0.0454876215
                        ],
                        "passed_time": 3117.850189,
                        "remaining_time": 1927.214842
                      },
                      {
                        "iteration": 618,
                        "learn": [
                          0.04545423164
                        ],
                        "passed_time": 3122.171006,
                        "remaining_time": 1921.723996
                      },
                      {
                        "iteration": 619,
                        "learn": [
                          0.04542789376
                        ],
                        "passed_time": 3126.567657,
                        "remaining_time": 1916.283403
                      },
                      {
                        "iteration": 620,
                        "learn": [
                          0.04540640475
                        ],
                        "passed_time": 3132.935446,
                        "remaining_time": 1912.049169
                      },
                      {
                        "iteration": 621,
                        "learn": [
                          0.04538144092
                        ],
                        "passed_time": 3136.67183,
                        "remaining_time": 1906.208926
                      },
                      {
                        "iteration": 622,
                        "learn": [
                          0.04536629307
                        ],
                        "passed_time": 3140.874884,
                        "remaining_time": 1900.657835
                      },
                      {
                        "iteration": 623,
                        "learn": [
                          0.04533895457
                        ],
                        "passed_time": 3147.482275,
                        "remaining_time": 1896.559833
                      },
                      {
                        "iteration": 624,
                        "learn": [
                          0.04528266123
                        ],
                        "passed_time": 3152.076638,
                        "remaining_time": 1891.245983
                      },
                      {
                        "iteration": 625,
                        "learn": [
                          0.04526972658
                        ],
                        "passed_time": 3156.339766,
                        "remaining_time": 1885.736537
                      },
                      {
                        "iteration": 626,
                        "learn": [
                          0.04523317334
                        ],
                        "passed_time": 3162.222526,
                        "remaining_time": 1881.194581
                      },
                      {
                        "iteration": 627,
                        "learn": [
                          0.04520951149
                        ],
                        "passed_time": 3166.780112,
                        "remaining_time": 1875.863379
                      },
                      {
                        "iteration": 628,
                        "learn": [
                          0.04517349033
                        ],
                        "passed_time": 3172.666936,
                        "remaining_time": 1871.318654
                      },
                      {
                        "iteration": 629,
                        "learn": [
                          0.04513245159
                        ],
                        "passed_time": 3177.447645,
                        "remaining_time": 1866.120046
                      },
                      {
                        "iteration": 630,
                        "learn": [
                          0.04509278258
                        ],
                        "passed_time": 3181.915196,
                        "remaining_time": 1860.739632
                      },
                      {
                        "iteration": 631,
                        "learn": [
                          0.04505572039
                        ],
                        "passed_time": 3188.392583,
                        "remaining_time": 1856.53239
                      },
                      {
                        "iteration": 632,
                        "learn": [
                          0.04502791617
                        ],
                        "passed_time": 3192.739176,
                        "remaining_time": 1851.082587
                      },
                      {
                        "iteration": 633,
                        "learn": [
                          0.04498566051
                        ],
                        "passed_time": 3197.115997,
                        "remaining_time": 1845.653714
                      },
                      {
                        "iteration": 634,
                        "learn": [
                          0.04494995654
                        ],
                        "passed_time": 3203.477513,
                        "remaining_time": 1841.368964
                      },
                      {
                        "iteration": 635,
                        "learn": [
                          0.04492194758
                        ],
                        "passed_time": 3207.394066,
                        "remaining_time": 1835.678365
                      },
                      {
                        "iteration": 636,
                        "learn": [
                          0.04489377138
                        ],
                        "passed_time": 3211.630941,
                        "remaining_time": 1830.175874
                      },
                      {
                        "iteration": 637,
                        "learn": [
                          0.04484107253
                        ],
                        "passed_time": 3217.585208,
                        "remaining_time": 1825.651795
                      },
                      {
                        "iteration": 638,
                        "learn": [
                          0.04480700064
                        ],
                        "passed_time": 3221.959789,
                        "remaining_time": 1820.230804
                      },
                      {
                        "iteration": 639,
                        "learn": [
                          0.04477212857
                        ],
                        "passed_time": 3226.46201,
                        "remaining_time": 1814.884881
                      },
                      {
                        "iteration": 640,
                        "learn": [
                          0.04475838073
                        ],
                        "passed_time": 3232.607874,
                        "remaining_time": 1810.462132
                      },
                      {
                        "iteration": 641,
                        "learn": [
                          0.04472694743
                        ],
                        "passed_time": 3236.519768,
                        "remaining_time": 1804.788282
                      },
                      {
                        "iteration": 642,
                        "learn": [
                          0.04469390504
                        ],
                        "passed_time": 3240.880066,
                        "remaining_time": 1799.36887
                      },
                      {
                        "iteration": 643,
                        "learn": [
                          0.04468061715
                        ],
                        "passed_time": 3246.817687,
                        "remaining_time": 1794.824684
                      },
                      {
                        "iteration": 644,
                        "learn": [
                          0.04466377371
                        ],
                        "passed_time": 3250.425428,
                        "remaining_time": 1788.99384
                      },
                      {
                        "iteration": 645,
                        "learn": [
                          0.0446097657
                        ],
                        "passed_time": 3254.987435,
                        "remaining_time": 1783.692805
                      },
                      {
                        "iteration": 646,
                        "learn": [
                          0.04457204602
                        ],
                        "passed_time": 3260.736057,
                        "remaining_time": 1779.041465
                      },
                      {
                        "iteration": 647,
                        "learn": [
                          0.04452756414
                        ],
                        "passed_time": 3265.449057,
                        "remaining_time": 1773.824179
                      },
                      {
                        "iteration": 648,
                        "learn": [
                          0.04445417508
                        ],
                        "passed_time": 3269.654991,
                        "remaining_time": 1768.334209
                      },
                      {
                        "iteration": 649,
                        "learn": [
                          0.0444123289
                        ],
                        "passed_time": 3275.645508,
                        "remaining_time": 1763.80912
                      },
                      {
                        "iteration": 650,
                        "learn": [
                          0.04437125266
                        ],
                        "passed_time": 3279.683089,
                        "remaining_time": 1758.232562
                      },
                      {
                        "iteration": 651,
                        "learn": [
                          0.04433806033
                        ],
                        "passed_time": 3284.016951,
                        "remaining_time": 1752.818863
                      },
                      {
                        "iteration": 652,
                        "learn": [
                          0.04429949286
                        ],
                        "passed_time": 3289.92347,
                        "remaining_time": 1748.244172
                      },
                      {
                        "iteration": 653,
                        "learn": [
                          0.0442479374
                        ],
                        "passed_time": 3294.339611,
                        "remaining_time": 1742.876919
                      },
                      {
                        "iteration": 654,
                        "learn": [
                          0.04422150866
                        ],
                        "passed_time": 3298.749258,
                        "remaining_time": 1737.509151
                      },
                      {
                        "iteration": 655,
                        "learn": [
                          0.04418403987
                        ],
                        "passed_time": 3305.237115,
                        "remaining_time": 1733.234097
                      },
                      {
                        "iteration": 656,
                        "learn": [
                          0.04415024051
                        ],
                        "passed_time": 3309.931476,
                        "remaining_time": 1728.015976
                      },
                      {
                        "iteration": 657,
                        "learn": [
                          0.04411089157
                        ],
                        "passed_time": 3315.25678,
                        "remaining_time": 1723.127384
                      },
                      {
                        "iteration": 658,
                        "learn": [
                          0.04407057804
                        ],
                        "passed_time": 3320.394806,
                        "remaining_time": 1718.14056
                      },
                      {
                        "iteration": 659,
                        "learn": [
                          0.04402654459
                        ],
                        "passed_time": 3324.566226,
                        "remaining_time": 1712.655328
                      },
                      {
                        "iteration": 660,
                        "learn": [
                          0.04399232135
                        ],
                        "passed_time": 3329.09935,
                        "remaining_time": 1707.359576
                      },
                      {
                        "iteration": 661,
                        "learn": [
                          0.0439438168
                        ],
                        "passed_time": 3334.597748,
                        "remaining_time": 1702.558971
                      },
                      {
                        "iteration": 662,
                        "learn": [
                          0.0438851402
                        ],
                        "passed_time": 3339.013816,
                        "remaining_time": 1697.206118
                      },
                      {
                        "iteration": 663,
                        "learn": [
                          0.04384667799
                        ],
                        "passed_time": 3344.022037,
                        "remaining_time": 1692.15573
                      },
                      {
                        "iteration": 664,
                        "learn": [
                          0.04383486076
                        ],
                        "passed_time": 3349.294353,
                        "remaining_time": 1687.238509
                      },
                      {
                        "iteration": 665,
                        "learn": [
                          0.04381642843
                        ],
                        "passed_time": 3353.527191,
                        "remaining_time": 1681.798922
                      },
                      {
                        "iteration": 666,
                        "learn": [
                          0.0437853527
                        ],
                        "passed_time": 3359.386299,
                        "remaining_time": 1677.174869
                      },
                      {
                        "iteration": 667,
                        "learn": [
                          0.04377391325
                        ],
                        "passed_time": 3363.988558,
                        "remaining_time": 1671.922457
                      },
                      {
                        "iteration": 668,
                        "learn": [
                          0.04375714479
                        ],
                        "passed_time": 3368.058538,
                        "remaining_time": 1666.408634
                      },
                      {
                        "iteration": 669,
                        "learn": [
                          0.04374576732
                        ],
                        "passed_time": 3374.263442,
                        "remaining_time": 1661.950651
                      },
                      {
                        "iteration": 670,
                        "learn": [
                          0.04371112162
                        ],
                        "passed_time": 3379.098244,
                        "remaining_time": 1656.815681
                      },
                      {
                        "iteration": 671,
                        "learn": [
                          0.04367407527
                        ],
                        "passed_time": 3383.409448,
                        "remaining_time": 1651.42604
                      },
                      {
                        "iteration": 672,
                        "learn": [
                          0.04363599514
                        ],
                        "passed_time": 3389.586917,
                        "remaining_time": 1646.946392
                      },
                      {
                        "iteration": 673,
                        "learn": [
                          0.04362836787
                        ],
                        "passed_time": 3393.713201,
                        "remaining_time": 1641.46959
                      },
                      {
                        "iteration": 674,
                        "learn": [
                          0.0435809836
                        ],
                        "passed_time": 3398.2757,
                        "remaining_time": 1636.206818
                      },
                      {
                        "iteration": 675,
                        "learn": [
                          0.04355269926
                        ],
                        "passed_time": 3404.861036,
                        "remaining_time": 1631.915644
                      },
                      {
                        "iteration": 676,
                        "learn": [
                          0.04352859044
                        ],
                        "passed_time": 3409.060252,
                        "remaining_time": 1626.479263
                      },
                      {
                        "iteration": 677,
                        "learn": [
                          0.04347465743
                        ],
                        "passed_time": 3413.425966,
                        "remaining_time": 1621.125606
                      },
                      {
                        "iteration": 678,
                        "learn": [
                          0.04341008371
                        ],
                        "passed_time": 3419.708065,
                        "remaining_time": 1616.680838
                      },
                      {
                        "iteration": 679,
                        "learn": [
                          0.04337439701
                        ],
                        "passed_time": 3423.983605,
                        "remaining_time": 1611.286402
                      },
                      {
                        "iteration": 680,
                        "learn": [
                          0.04333960282
                        ],
                        "passed_time": 3428.81901,
                        "remaining_time": 1606.15751
                      },
                      {
                        "iteration": 681,
                        "learn": [
                          0.04329788207
                        ],
                        "passed_time": 3434.956978,
                        "remaining_time": 1601.636832
                      },
                      {
                        "iteration": 682,
                        "learn": [
                          0.04327699719
                        ],
                        "passed_time": 3439.323154,
                        "remaining_time": 1596.289077
                      },
                      {
                        "iteration": 683,
                        "learn": [
                          0.04323767416
                        ],
                        "passed_time": 3444.209781,
                        "remaining_time": 1591.184636
                      },
                      {
                        "iteration": 684,
                        "learn": [
                          0.04319159911
                        ],
                        "passed_time": 3449.467958,
                        "remaining_time": 1586.251689
                      },
                      {
                        "iteration": 685,
                        "learn": [
                          0.04315588071
                        ],
                        "passed_time": 3454.076038,
                        "remaining_time": 1581.020227
                      },
                      {
                        "iteration": 686,
                        "learn": [
                          0.04312059337
                        ],
                        "passed_time": 3460.316725,
                        "remaining_time": 1576.534403
                      },
                      {
                        "iteration": 687,
                        "learn": [
                          0.04309912886
                        ],
                        "passed_time": 3465.145288,
                        "remaining_time": 1571.403096
                      },
                      {
                        "iteration": 688,
                        "learn": [
                          0.04304107364
                        ],
                        "passed_time": 3469.40367,
                        "remaining_time": 1566.0153
                      },
                      {
                        "iteration": 689,
                        "learn": [
                          0.04299058081
                        ],
                        "passed_time": 3475.046127,
                        "remaining_time": 1561.252608
                      },
                      {
                        "iteration": 690,
                        "learn": [
                          0.04297382098
                        ],
                        "passed_time": 3479.346264,
                        "remaining_time": 1555.887114
                      },
                      {
                        "iteration": 691,
                        "learn": [
                          0.04293104769
                        ],
                        "passed_time": 3483.578963,
                        "remaining_time": 1550.494683
                      },
                      {
                        "iteration": 692,
                        "learn": [
                          0.04290912325
                        ],
                        "passed_time": 3489.12247,
                        "remaining_time": 1545.686289
                      },
                      {
                        "iteration": 693,
                        "learn": [
                          0.04287350144
                        ],
                        "passed_time": 3493.931556,
                        "remaining_time": 1540.551954
                      },
                      {
                        "iteration": 694,
                        "learn": [
                          0.04285589384
                        ],
                        "passed_time": 3498.256576,
                        "remaining_time": 1535.206123
                      },
                      {
                        "iteration": 695,
                        "learn": [
                          0.04283949591
                        ],
                        "passed_time": 3503.645731,
                        "remaining_time": 1530.32802
                      },
                      {
                        "iteration": 696,
                        "learn": [
                          0.04279120476
                        ],
                        "passed_time": 3508.838765,
                        "remaining_time": 1525.363193
                      },
                      {
                        "iteration": 697,
                        "learn": [
                          0.04274755339
                        ],
                        "passed_time": 3512.934305,
                        "remaining_time": 1519.922865
                      },
                      {
                        "iteration": 698,
                        "learn": [
                          0.04270243714
                        ],
                        "passed_time": 3519.586472,
                        "remaining_time": 1515.587308
                      },
                      {
                        "iteration": 699,
                        "learn": [
                          0.04266361446
                        ],
                        "passed_time": 3523.869331,
                        "remaining_time": 1510.229713
                      },
                      {
                        "iteration": 700,
                        "learn": [
                          0.04263715114
                        ],
                        "passed_time": 3528.391666,
                        "remaining_time": 1504.97733
                      },
                      {
                        "iteration": 701,
                        "learn": [
                          0.0426203913
                        ],
                        "passed_time": 3534.340417,
                        "remaining_time": 1500.332542
                      },
                      {
                        "iteration": 702,
                        "learn": [
                          0.04259481183
                        ],
                        "passed_time": 3538.883909,
                        "remaining_time": 1495.090357
                      },
                      {
                        "iteration": 703,
                        "learn": [
                          0.0425462669
                        ],
                        "passed_time": 3543.540684,
                        "remaining_time": 1489.897788
                      },
                      {
                        "iteration": 704,
                        "learn": [
                          0.04252327554
                        ],
                        "passed_time": 3549.884858,
                        "remaining_time": 1485.412813
                      },
                      {
                        "iteration": 705,
                        "learn": [
                          0.04248547077
                        ],
                        "passed_time": 3554.466191,
                        "remaining_time": 1480.18847
                      },
                      {
                        "iteration": 706,
                        "learn": [
                          0.04246543658
                        ],
                        "passed_time": 3559.712692,
                        "remaining_time": 1475.241611
                      },
                      {
                        "iteration": 707,
                        "learn": [
                          0.04244369814
                        ],
                        "passed_time": 3565.012034,
                        "remaining_time": 1470.315698
                      },
                      {
                        "iteration": 708,
                        "learn": [
                          0.042404453
                        ],
                        "passed_time": 3569.744773,
                        "remaining_time": 1465.156176
                      },
                      {
                        "iteration": 709,
                        "learn": [
                          0.04238249829
                        ],
                        "passed_time": 3575.468854,
                        "remaining_time": 1460.402771
                      },
                      {
                        "iteration": 710,
                        "learn": [
                          0.04234967509
                        ],
                        "passed_time": 3580.182029,
                        "remaining_time": 1455.235733
                      },
                      {
                        "iteration": 711,
                        "learn": [
                          0.04231865415
                        ],
                        "passed_time": 3584.812822,
                        "remaining_time": 1450.036647
                      },
                      {
                        "iteration": 712,
                        "learn": [
                          0.04227844011
                        ],
                        "passed_time": 3591.219732,
                        "remaining_time": 1445.554086
                      },
                      {
                        "iteration": 713,
                        "learn": [
                          0.04224250111
                        ],
                        "passed_time": 3595.290746,
                        "remaining_time": 1440.130467
                      },
                      {
                        "iteration": 714,
                        "learn": [
                          0.04221065832
                        ],
                        "passed_time": 3599.744416,
                        "remaining_time": 1434.863159
                      },
                      {
                        "iteration": 715,
                        "learn": [
                          0.04218179869
                        ],
                        "passed_time": 3606.366378,
                        "remaining_time": 1430.458172
                      },
                      {
                        "iteration": 716,
                        "learn": [
                          0.04216321352
                        ],
                        "passed_time": 3610.00003,
                        "remaining_time": 1424.867516
                      },
                      {
                        "iteration": 717,
                        "learn": [
                          0.04212471091
                        ],
                        "passed_time": 3614.256157,
                        "remaining_time": 1419.526792
                      },
                      {
                        "iteration": 718,
                        "learn": [
                          0.04210080973
                        ],
                        "passed_time": 3620.285373,
                        "remaining_time": 1414.882044
                      },
                      {
                        "iteration": 719,
                        "learn": [
                          0.0420626071
                        ],
                        "passed_time": 3624.772358,
                        "remaining_time": 1409.633695
                      },
                      {
                        "iteration": 720,
                        "learn": [
                          0.0420406812
                        ],
                        "passed_time": 3629.050748,
                        "remaining_time": 1404.306739
                      },
                      {
                        "iteration": 721,
                        "learn": [
                          0.04201557321
                        ],
                        "passed_time": 3635.161839,
                        "remaining_time": 1399.688354
                      },
                      {
                        "iteration": 722,
                        "learn": [
                          0.04199227756
                        ],
                        "passed_time": 3638.999769,
                        "remaining_time": 1394.194932
                      },
                      {
                        "iteration": 723,
                        "learn": [
                          0.04197225345
                        ],
                        "passed_time": 3643.324376,
                        "remaining_time": 1388.891613
                      },
                      {
                        "iteration": 724,
                        "learn": [
                          0.04194095133
                        ],
                        "passed_time": 3649.280505,
                        "remaining_time": 1384.209847
                      },
                      {
                        "iteration": 725,
                        "learn": [
                          0.04190683911
                        ],
                        "passed_time": 3653.859756,
                        "remaining_time": 1379.004922
                      },
                      {
                        "iteration": 726,
                        "learn": [
                          0.04188896909
                        ],
                        "passed_time": 3657.995955,
                        "remaining_time": 1373.635345
                      },
                      {
                        "iteration": 727,
                        "learn": [
                          0.04187407787
                        ],
                        "passed_time": 3664.033333,
                        "remaining_time": 1368.979487
                      },
                      {
                        "iteration": 728,
                        "learn": [
                          0.04184586707
                        ],
                        "passed_time": 3668.74519,
                        "remaining_time": 1363.827087
                      },
                      {
                        "iteration": 729,
                        "learn": [
                          0.04180877459
                        ],
                        "passed_time": 3672.534288,
                        "remaining_time": 1358.3346
                      },
                      {
                        "iteration": 730,
                        "learn": [
                          0.04179281643
                        ],
                        "passed_time": 3678.687235,
                        "remaining_time": 1353.716643
                      },
                      {
                        "iteration": 731,
                        "learn": [
                          0.04177828135
                        ],
                        "passed_time": 3682.843021,
                        "remaining_time": 1348.363292
                      },
                      {
                        "iteration": 732,
                        "learn": [
                          0.04173856907
                        ],
                        "passed_time": 3687.413295,
                        "remaining_time": 1343.164188
                      },
                      {
                        "iteration": 733,
                        "learn": [
                          0.0417069195
                        ],
                        "passed_time": 3693.508027,
                        "remaining_time": 1338.519258
                      },
                      {
                        "iteration": 734,
                        "learn": [
                          0.04168761486
                        ],
                        "passed_time": 3698.138808,
                        "remaining_time": 1333.342563
                      },
                      {
                        "iteration": 735,
                        "learn": [
                          0.04166496374
                        ],
                        "passed_time": 3703.680221,
                        "remaining_time": 1328.493992
                      },
                      {
                        "iteration": 736,
                        "learn": [
                          0.04163821205
                        ],
                        "passed_time": 3708.874984,
                        "remaining_time": 1323.519838
                      },
                      {
                        "iteration": 737,
                        "learn": [
                          0.04161880215
                        ],
                        "passed_time": 3713.323861,
                        "remaining_time": 1318.280287
                      },
                      {
                        "iteration": 738,
                        "learn": [
                          0.04160740594
                        ],
                        "passed_time": 3719.537234,
                        "remaining_time": 1313.66606
                      },
                      {
                        "iteration": 739,
                        "learn": [
                          0.04158324235
                        ],
                        "passed_time": 3723.645898,
                        "remaining_time": 1308.308018
                      },
                      {
                        "iteration": 740,
                        "learn": [
                          0.041556916
                        ],
                        "passed_time": 3728.086357,
                        "remaining_time": 1303.06932
                      },
                      {
                        "iteration": 741,
                        "learn": [
                          0.04152236257
                        ],
                        "passed_time": 3734.601673,
                        "remaining_time": 1298.554221
                      },
                      {
                        "iteration": 742,
                        "learn": [
                          0.04151075441
                        ],
                        "passed_time": 3738.873109,
                        "remaining_time": 1293.257589
                      },
                      {
                        "iteration": 743,
                        "learn": [
                          0.0414990929
                        ],
                        "passed_time": 3743.107032,
                        "remaining_time": 1287.950807
                      },
                      {
                        "iteration": 744,
                        "learn": [
                          0.04147658307
                        ],
                        "passed_time": 3749.638717,
                        "remaining_time": 1283.433386
                      },
                      {
                        "iteration": 745,
                        "learn": [
                          0.04143733363
                        ],
                        "passed_time": 3754.505323,
                        "remaining_time": 1278.343636
                      },
                      {
                        "iteration": 746,
                        "learn": [
                          0.04139809718
                        ],
                        "passed_time": 3759.963147,
                        "remaining_time": 1273.45472
                      },
                      {
                        "iteration": 747,
                        "learn": [
                          0.0413802286
                        ],
                        "passed_time": 3765.585709,
                        "remaining_time": 1268.619784
                      },
                      {
                        "iteration": 748,
                        "learn": [
                          0.04135229606
                        ],
                        "passed_time": 3769.864269,
                        "remaining_time": 1263.332352
                      },
                      {
                        "iteration": 749,
                        "learn": [
                          0.04132622636
                        ],
                        "passed_time": 3775.23269,
                        "remaining_time": 1258.410897
                      },
                      {
                        "iteration": 750,
                        "learn": [
                          0.0412752938
                        ],
                        "passed_time": 3780.597262,
                        "remaining_time": 1253.486975
                      },
                      {
                        "iteration": 751,
                        "learn": [
                          0.04125851812
                        ],
                        "passed_time": 3784.884719,
                        "remaining_time": 1248.206663
                      },
                      {
                        "iteration": 752,
                        "learn": [
                          0.04122357398
                        ],
                        "passed_time": 3791.067063,
                        "remaining_time": 1243.550551
                      },
                      {
                        "iteration": 753,
                        "learn": [
                          0.04120292844
                        ],
                        "passed_time": 3795.515001,
                        "remaining_time": 1238.324523
                      },
                      {
                        "iteration": 754,
                        "learn": [
                          0.04118000193
                        ],
                        "passed_time": 3799.816535,
                        "remaining_time": 1233.053048
                      },
                      {
                        "iteration": 755,
                        "learn": [
                          0.04114465697
                        ],
                        "passed_time": 3805.768489,
                        "remaining_time": 1228.316814
                      },
                      {
                        "iteration": 756,
                        "learn": [
                          0.04113469826
                        ],
                        "passed_time": 3810.061908,
                        "remaining_time": 1223.044972
                      },
                      {
                        "iteration": 757,
                        "learn": [
                          0.04109552809
                        ],
                        "passed_time": 3814.600408,
                        "remaining_time": 1217.853956
                      },
                      {
                        "iteration": 758,
                        "learn": [
                          0.04107148272
                        ],
                        "passed_time": 3820.83672,
                        "remaining_time": 1213.203754
                      },
                      {
                        "iteration": 759,
                        "learn": [
                          0.04105833181
                        ],
                        "passed_time": 3824.643727,
                        "remaining_time": 1207.78223
                      },
                      {
                        "iteration": 760,
                        "learn": [
                          0.04103131475
                        ],
                        "passed_time": 3829.045929,
                        "remaining_time": 1202.551875
                      },
                      {
                        "iteration": 761,
                        "learn": [
                          0.040979308
                        ],
                        "passed_time": 3835.407141,
                        "remaining_time": 1197.935564
                      },
                      {
                        "iteration": 762,
                        "learn": [
                          0.04095514439
                        ],
                        "passed_time": 3839.350906,
                        "remaining_time": 1192.563781
                      },
                      {
                        "iteration": 763,
                        "learn": [
                          0.04093178388
                        ],
                        "passed_time": 3843.187448,
                        "remaining_time": 1187.162615
                      },
                      {
                        "iteration": 764,
                        "learn": [
                          0.04091680905
                        ],
                        "passed_time": 3849.265579,
                        "remaining_time": 1182.454132
                      },
                      {
                        "iteration": 765,
                        "learn": [
                          0.04089778989
                        ],
                        "passed_time": 3853.602765,
                        "remaining_time": 1177.210244
                      },
                      {
                        "iteration": 766,
                        "learn": [
                          0.04088646721
                        ],
                        "passed_time": 3857.455226,
                        "remaining_time": 1171.82147
                      },
                      {
                        "iteration": 767,
                        "learn": [
                          0.04087916435
                        ],
                        "passed_time": 3863.385634,
                        "remaining_time": 1167.06441
                      },
                      {
                        "iteration": 768,
                        "learn": [
                          0.04085190509
                        ],
                        "passed_time": 3867.78238,
                        "remaining_time": 1161.843602
                      },
                      {
                        "iteration": 769,
                        "learn": [
                          0.04082701769
                        ],
                        "passed_time": 3872.319243,
                        "remaining_time": 1156.666787
                      },
                      {
                        "iteration": 770,
                        "learn": [
                          0.04080860263
                        ],
                        "passed_time": 3878.592517,
                        "remaining_time": 1152.007375
                      },
                      {
                        "iteration": 771,
                        "learn": [
                          0.04078605964
                        ],
                        "passed_time": 3883.051531,
                        "remaining_time": 1146.807965
                      },
                      {
                        "iteration": 772,
                        "learn": [
                          0.04076702318
                        ],
                        "passed_time": 3887.997566,
                        "remaining_time": 1141.75349
                      },
                      {
                        "iteration": 773,
                        "learn": [
                          0.0407190377
                        ],
                        "passed_time": 3894.292426,
                        "remaining_time": 1137.093137
                      },
                      {
                        "iteration": 774,
                        "learn": [
                          0.04067955179
                        ],
                        "passed_time": 3898.466445,
                        "remaining_time": 1131.812839
                      },
                      {
                        "iteration": 775,
                        "learn": [
                          0.04065394203
                        ],
                        "passed_time": 3903.949748,
                        "remaining_time": 1126.913329
                      },
                      {
                        "iteration": 776,
                        "learn": [
                          0.04061996083
                        ],
                        "passed_time": 3909.617243,
                        "remaining_time": 1122.06518
                      },
                      {
                        "iteration": 777,
                        "learn": [
                          0.04056050278
                        ],
                        "passed_time": 3913.886147,
                        "remaining_time": 1116.815842
                      },
                      {
                        "iteration": 778,
                        "learn": [
                          0.04054087372
                        ],
                        "passed_time": 3919.230925,
                        "remaining_time": 1111.874242
                      },
                      {
                        "iteration": 779,
                        "learn": [
                          0.04051886134
                        ],
                        "passed_time": 3924.483759,
                        "remaining_time": 1106.905676
                      },
                      {
                        "iteration": 780,
                        "learn": [
                          0.04048915391
                        ],
                        "passed_time": 3928.569365,
                        "remaining_time": 1101.609079
                      },
                      {
                        "iteration": 781,
                        "learn": [
                          0.0404536114
                        ],
                        "passed_time": 3934.604657,
                        "remaining_time": 1096.859099
                      },
                      {
                        "iteration": 782,
                        "learn": [
                          0.04042186812
                        ],
                        "passed_time": 3939.38491,
                        "remaining_time": 1091.758015
                      },
                      {
                        "iteration": 783,
                        "learn": [
                          0.04036773177
                        ],
                        "passed_time": 3944.363447,
                        "remaining_time": 1086.712378
                      },
                      {
                        "iteration": 784,
                        "learn": [
                          0.04034039898
                        ],
                        "passed_time": 3950.382768,
                        "remaining_time": 1081.951968
                      },
                      {
                        "iteration": 785,
                        "learn": [
                          0.04032016147
                        ],
                        "passed_time": 3955.142705,
                        "remaining_time": 1076.845469
                      },
                      {
                        "iteration": 786,
                        "learn": [
                          0.04029024497
                        ],
                        "passed_time": 3960.637881,
                        "remaining_time": 1071.938842
                      },
                      {
                        "iteration": 787,
                        "learn": [
                          0.04026452996
                        ],
                        "passed_time": 3966.099993,
                        "remaining_time": 1067.021825
                      },
                      {
                        "iteration": 788,
                        "learn": [
                          0.04022727887
                        ],
                        "passed_time": 3970.537459,
                        "remaining_time": 1061.829409
                      },
                      {
                        "iteration": 789,
                        "learn": [
                          0.04019038392
                        ],
                        "passed_time": 3976.962425,
                        "remaining_time": 1057.167227
                      },
                      {
                        "iteration": 790,
                        "learn": [
                          0.04016059575
                        ],
                        "passed_time": 3980.924498,
                        "remaining_time": 1051.849836
                      },
                      {
                        "iteration": 791,
                        "learn": [
                          0.04013523544
                        ],
                        "passed_time": 3985.484181,
                        "remaining_time": 1046.692815
                      },
                      {
                        "iteration": 792,
                        "learn": [
                          0.04009979097
                        ],
                        "passed_time": 3990.729786,
                        "remaining_time": 1041.71635
                      },
                      {
                        "iteration": 793,
                        "learn": [
                          0.04005740841
                        ],
                        "passed_time": 3996.052377,
                        "remaining_time": 1036.759181
                      },
                      {
                        "iteration": 794,
                        "learn": [
                          0.04004352361
                        ],
                        "passed_time": 4000.693394,
                        "remaining_time": 1031.625341
                      },
                      {
                        "iteration": 795,
                        "learn": [
                          0.04001067585
                        ],
                        "passed_time": 4007.222068,
                        "remaining_time": 1026.97651
                      },
                      {
                        "iteration": 796,
                        "learn": [
                          0.03997304412
                        ],
                        "passed_time": 4011.898665,
                        "remaining_time": 1021.851228
                      },
                      {
                        "iteration": 797,
                        "learn": [
                          0.03994311175
                        ],
                        "passed_time": 4016.808893,
                        "remaining_time": 1016.786211
                      },
                      {
                        "iteration": 798,
                        "learn": [
                          0.03992607222
                        ],
                        "passed_time": 4022.962766,
                        "remaining_time": 1012.034438
                      },
                      {
                        "iteration": 799,
                        "learn": [
                          0.03989419628
                        ],
                        "passed_time": 4027.554623,
                        "remaining_time": 1006.888656
                      },
                      {
                        "iteration": 800,
                        "learn": [
                          0.03987282549
                        ],
                        "passed_time": 4033.079836,
                        "remaining_time": 1001.976139
                      },
                      {
                        "iteration": 801,
                        "learn": [
                          0.0398644081
                        ],
                        "passed_time": 4038.118186,
                        "remaining_time": 996.9418964
                      },
                      {
                        "iteration": 802,
                        "learn": [
                          0.0398447531
                        ],
                        "passed_time": 4042.04167,
                        "remaining_time": 991.6341333
                      },
                      {
                        "iteration": 803,
                        "learn": [
                          0.03983111916
                        ],
                        "passed_time": 4047.348756,
                        "remaining_time": 986.6671097
                      },
                      {
                        "iteration": 804,
                        "learn": [
                          0.03980029285
                        ],
                        "passed_time": 4052.719577,
                        "remaining_time": 981.7146802
                      },
                      {
                        "iteration": 805,
                        "learn": [
                          0.03978002074
                        ],
                        "passed_time": 4057.016451,
                        "remaining_time": 976.5027191
                      },
                      {
                        "iteration": 806,
                        "learn": [
                          0.03974215833
                        ],
                        "passed_time": 4062.719799,
                        "remaining_time": 971.6293944
                      },
                      {
                        "iteration": 807,
                        "learn": [
                          0.03971463384
                        ],
                        "passed_time": 4067.408807,
                        "remaining_time": 966.5129839
                      },
                      {
                        "iteration": 808,
                        "learn": [
                          0.03968244068
                        ],
                        "passed_time": 4071.660117,
                        "remaining_time": 961.2942921
                      },
                      {
                        "iteration": 809,
                        "learn": [
                          0.03966197393
                        ],
                        "passed_time": 4077.975007,
                        "remaining_time": 956.5620386
                      },
                      {
                        "iteration": 810,
                        "learn": [
                          0.03964667751
                        ],
                        "passed_time": 4082.306315,
                        "remaining_time": 951.3636172
                      },
                      {
                        "iteration": 811,
                        "learn": [
                          0.03961971677
                        ],
                        "passed_time": 4086.415527,
                        "remaining_time": 946.1159102
                      },
                      {
                        "iteration": 812,
                        "learn": [
                          0.03960965713
                        ],
                        "passed_time": 4092.486673,
                        "remaining_time": 941.3222728
                      },
                      {
                        "iteration": 813,
                        "learn": [
                          0.03959507736
                        ],
                        "passed_time": 4096.875154,
                        "remaining_time": 936.1410058
                      },
                      {
                        "iteration": 814,
                        "learn": [
                          0.03957945515
                        ],
                        "passed_time": 4101.159402,
                        "remaining_time": 930.9380238
                      },
                      {
                        "iteration": 815,
                        "learn": [
                          0.03955990533
                        ],
                        "passed_time": 4106.91735,
                        "remaining_time": 926.0695985
                      },
                      {
                        "iteration": 816,
                        "learn": [
                          0.03954976351
                        ],
                        "passed_time": 4111.305466,
                        "remaining_time": 920.8921667
                      },
                      {
                        "iteration": 817,
                        "learn": [
                          0.03952795153
                        ],
                        "passed_time": 4115.774055,
                        "remaining_time": 915.7345696
                      },
                      {
                        "iteration": 818,
                        "learn": [
                          0.03950183137
                        ],
                        "passed_time": 4122.255447,
                        "remaining_time": 911.023487
                      },
                      {
                        "iteration": 819,
                        "learn": [
                          0.03947231569
                        ],
                        "passed_time": 4126.917348,
                        "remaining_time": 905.9086861
                      },
                      {
                        "iteration": 820,
                        "learn": [
                          0.03944548761
                        ],
                        "passed_time": 4131.499183,
                        "remaining_time": 900.7775319
                      },
                      {
                        "iteration": 821,
                        "learn": [
                          0.03940995663
                        ],
                        "passed_time": 4137.636973,
                        "remaining_time": 895.9846487
                      },
                      {
                        "iteration": 822,
                        "learn": [
                          0.03938773085
                        ],
                        "passed_time": 4142.229884,
                        "remaining_time": 890.8562447
                      },
                      {
                        "iteration": 823,
                        "learn": [
                          0.03935363738
                        ],
                        "passed_time": 4147.725437,
                        "remaining_time": 885.921938
                      },
                      {
                        "iteration": 824,
                        "learn": [
                          0.0393401707
                        ],
                        "passed_time": 4152.771184,
                        "remaining_time": 880.8908571
                      },
                      {
                        "iteration": 825,
                        "learn": [
                          0.03930853698
                        ],
                        "passed_time": 4156.787927,
                        "remaining_time": 875.6429773
                      },
                      {
                        "iteration": 826,
                        "learn": [
                          0.03929285565
                        ],
                        "passed_time": 4162.077114,
                        "remaining_time": 870.6642572
                      },
                      {
                        "iteration": 827,
                        "learn": [
                          0.03927641592
                        ],
                        "passed_time": 4167.28759,
                        "remaining_time": 865.6684366
                      },
                      {
                        "iteration": 828,
                        "learn": [
                          0.03925748183
                        ],
                        "passed_time": 4171.821429,
                        "remaining_time": 860.5325263
                      },
                      {
                        "iteration": 829,
                        "learn": [
                          0.03923925136
                        ],
                        "passed_time": 4177.839767,
                        "remaining_time": 855.702121
                      },
                      {
                        "iteration": 830,
                        "learn": [
                          0.03921307802
                        ],
                        "passed_time": 4182.504514,
                        "remaining_time": 850.5935775
                      },
                      {
                        "iteration": 831,
                        "learn": [
                          0.03918740626
                        ],
                        "passed_time": 4187.291224,
                        "remaining_time": 845.5107279
                      },
                      {
                        "iteration": 832,
                        "learn": [
                          0.03915681643
                        ],
                        "passed_time": 4193.535085,
                        "remaining_time": 840.7207193
                      },
                      {
                        "iteration": 833,
                        "learn": [
                          0.03912100718
                        ],
                        "passed_time": 4197.772172,
                        "remaining_time": 835.5277943
                      },
                      {
                        "iteration": 834,
                        "learn": [
                          0.03908911689
                        ],
                        "passed_time": 4202.233102,
                        "remaining_time": 830.3813914
                      },
                      {
                        "iteration": 835,
                        "learn": [
                          0.03907829307
                        ],
                        "passed_time": 4208.575129,
                        "remaining_time": 825.6056473
                      },
                      {
                        "iteration": 836,
                        "learn": [
                          0.03904910181
                        ],
                        "passed_time": 4213.465504,
                        "remaining_time": 820.5434614
                      },
                      {
                        "iteration": 837,
                        "learn": [
                          0.03903889655
                        ],
                        "passed_time": 4218.323896,
                        "remaining_time": 815.4755025
                      },
                      {
                        "iteration": 838,
                        "learn": [
                          0.03901722731
                        ],
                        "passed_time": 4224.018748,
                        "remaining_time": 810.568556
                      },
                      {
                        "iteration": 839,
                        "learn": [
                          0.03898909579
                        ],
                        "passed_time": 4228.234421,
                        "remaining_time": 805.3779849
                      },
                      {
                        "iteration": 840,
                        "learn": [
                          0.03896235709
                        ],
                        "passed_time": 4234.095354,
                        "remaining_time": 800.5007863
                      },
                      {
                        "iteration": 841,
                        "learn": [
                          0.03894242957
                        ],
                        "passed_time": 4239.103888,
                        "remaining_time": 795.4612996
                      },
                      {
                        "iteration": 842,
                        "learn": [
                          0.0389259711
                        ],
                        "passed_time": 4243.603894,
                        "remaining_time": 790.3271784
                      },
                      {
                        "iteration": 843,
                        "learn": [
                          0.03889677986
                        ],
                        "passed_time": 4250.138612,
                        "remaining_time": 785.570644
                      },
                      {
                        "iteration": 844,
                        "learn": [
                          0.03885757366
                        ],
                        "passed_time": 4254.564427,
                        "remaining_time": 780.4230606
                      },
                      {
                        "iteration": 845,
                        "learn": [
                          0.03883232293
                        ],
                        "passed_time": 4259.123794,
                        "remaining_time": 775.3014944
                      },
                      {
                        "iteration": 846,
                        "learn": [
                          0.03881348111
                        ],
                        "passed_time": 4265.366343,
                        "remaining_time": 770.4853015
                      },
                      {
                        "iteration": 847,
                        "learn": [
                          0.03877832068
                        ],
                        "passed_time": 4269.774232,
                        "remaining_time": 765.3368906
                      },
                      {
                        "iteration": 848,
                        "learn": [
                          0.03875305841
                        ],
                        "passed_time": 4274.482123,
                        "remaining_time": 760.2435813
                      },
                      {
                        "iteration": 849,
                        "learn": [
                          0.03872559011
                        ],
                        "passed_time": 4280.663688,
                        "remaining_time": 755.4112391
                      },
                      {
                        "iteration": 850,
                        "learn": [
                          0.03870181868
                        ],
                        "passed_time": 4285.352194,
                        "remaining_time": 750.3143089
                      },
                      {
                        "iteration": 851,
                        "learn": [
                          0.03867604599
                        ],
                        "passed_time": 4289.67066,
                        "remaining_time": 745.1540583
                      },
                      {
                        "iteration": 852,
                        "learn": [
                          0.03864423056
                        ],
                        "passed_time": 4295.720731,
                        "remaining_time": 740.2941939
                      },
                      {
                        "iteration": 853,
                        "learn": [
                          0.03860707607
                        ],
                        "passed_time": 4300.158143,
                        "remaining_time": 735.1558419
                      },
                      {
                        "iteration": 854,
                        "learn": [
                          0.03856773147
                        ],
                        "passed_time": 4305.2218,
                        "remaining_time": 730.1253346
                      },
                      {
                        "iteration": 855,
                        "learn": [
                          0.03854890985
                        ],
                        "passed_time": 4311.125272,
                        "remaining_time": 725.2360271
                      },
                      {
                        "iteration": 856,
                        "learn": [
                          0.03853504234
                        ],
                        "passed_time": 4315.168744,
                        "remaining_time": 720.0339911
                      },
                      {
                        "iteration": 857,
                        "learn": [
                          0.03851343799
                        ],
                        "passed_time": 4320.463467,
                        "remaining_time": 715.0417393
                      },
                      {
                        "iteration": 858,
                        "learn": [
                          0.03847604128
                        ],
                        "passed_time": 4325.545246,
                        "remaining_time": 710.0138297
                      },
                      {
                        "iteration": 859,
                        "learn": [
                          0.03844703167
                        ],
                        "passed_time": 4330.364928,
                        "remaining_time": 704.9431279
                      },
                      {
                        "iteration": 860,
                        "learn": [
                          0.03842235333
                        ],
                        "passed_time": 4336.950558,
                        "remaining_time": 700.1581041
                      },
                      {
                        "iteration": 861,
                        "learn": [
                          0.03841153385
                        ],
                        "passed_time": 4340.709332,
                        "remaining_time": 694.9163432
                      },
                      {
                        "iteration": 862,
                        "learn": [
                          0.03838664934
                        ],
                        "passed_time": 4345.290485,
                        "remaining_time": 689.8085707
                      },
                      {
                        "iteration": 863,
                        "learn": [
                          0.03835268709
                        ],
                        "passed_time": 4352.122065,
                        "remaining_time": 685.056251
                      },
                      {
                        "iteration": 864,
                        "learn": [
                          0.03833183249
                        ],
                        "passed_time": 4356.544484,
                        "remaining_time": 679.9231276
                      },
                      {
                        "iteration": 865,
                        "learn": [
                          0.03831072557
                        ],
                        "passed_time": 4361.034108,
                        "remaining_time": 674.8020444
                      },
                      {
                        "iteration": 866,
                        "learn": [
                          0.03828699164
                        ],
                        "passed_time": 4367.940813,
                        "remaining_time": 670.0532043
                      },
                      {
                        "iteration": 867,
                        "learn": [
                          0.03825824879
                        ],
                        "passed_time": 4372.641819,
                        "remaining_time": 664.9639633
                      },
                      {
                        "iteration": 868,
                        "learn": [
                          0.03823276879
                        ],
                        "passed_time": 4378.643344,
                        "remaining_time": 660.0716664
                      },
                      {
                        "iteration": 869,
                        "learn": [
                          0.03821077371
                        ],
                        "passed_time": 4384.170869,
                        "remaining_time": 655.1059919
                      },
                      {
                        "iteration": 870,
                        "learn": [
                          0.03816908327
                        ],
                        "passed_time": 4389.147561,
                        "remaining_time": 650.0574459
                      },
                      {
                        "iteration": 871,
                        "learn": [
                          0.03814387143
                        ],
                        "passed_time": 4395.576888,
                        "remaining_time": 645.2222956
                      },
                      {
                        "iteration": 872,
                        "learn": [
                          0.03811823571
                        ],
                        "passed_time": 4400.042701,
                        "remaining_time": 640.0978499
                      },
                      {
                        "iteration": 873,
                        "learn": [
                          0.03809529911
                        ],
                        "passed_time": 4404.433736,
                        "remaining_time": 634.9641312
                      },
                      {
                        "iteration": 874,
                        "learn": [
                          0.03806099223
                        ],
                        "passed_time": 4410.751016,
                        "remaining_time": 630.107288
                      },
                      {
                        "iteration": 875,
                        "learn": [
                          0.03805123681
                        ],
                        "passed_time": 4415.304779,
                        "remaining_time": 624.9974802
                      },
                      {
                        "iteration": 876,
                        "learn": [
                          0.03803984782
                        ],
                        "passed_time": 4420.657116,
                        "remaining_time": 620.000941
                      },
                      {
                        "iteration": 877,
                        "learn": [
                          0.03802332591
                        ],
                        "passed_time": 4426.177246,
                        "remaining_time": 615.0269067
                      },
                      {
                        "iteration": 878,
                        "learn": [
                          0.03797148208
                        ],
                        "passed_time": 4430.432377,
                        "remaining_time": 609.8774945
                      },
                      {
                        "iteration": 879,
                        "learn": [
                          0.03793953261
                        ],
                        "passed_time": 4437.180897,
                        "remaining_time": 605.0701224
                      },
                      {
                        "iteration": 880,
                        "learn": [
                          0.03791652679
                        ],
                        "passed_time": 4441.980435,
                        "remaining_time": 599.9950872
                      },
                      {
                        "iteration": 881,
                        "learn": [
                          0.03789050034
                        ],
                        "passed_time": 4446.518527,
                        "remaining_time": 594.8856986
                      },
                      {
                        "iteration": 882,
                        "learn": [
                          0.03786969041
                        ],
                        "passed_time": 4452.998498,
                        "remaining_time": 590.0349085
                      },
                      {
                        "iteration": 883,
                        "learn": [
                          0.03784530764
                        ],
                        "passed_time": 4457.682849,
                        "remaining_time": 584.9448083
                      },
                      {
                        "iteration": 884,
                        "learn": [
                          0.03782315395
                        ],
                        "passed_time": 4462.372231,
                        "remaining_time": 579.8562786
                      },
                      {
                        "iteration": 885,
                        "learn": [
                          0.03780467548
                        ],
                        "passed_time": 4468.435542,
                        "remaining_time": 574.9454309
                      },
                      {
                        "iteration": 886,
                        "learn": [
                          0.03779804884
                        ],
                        "passed_time": 4472.85599,
                        "remaining_time": 569.8226909
                      },
                      {
                        "iteration": 887,
                        "learn": [
                          0.03777814007
                        ],
                        "passed_time": 4478.533605,
                        "remaining_time": 564.8600944
                      },
                      {
                        "iteration": 888,
                        "learn": [
                          0.03774743778
                        ],
                        "passed_time": 4483.911614,
                        "remaining_time": 559.8584805
                      },
                      {
                        "iteration": 889,
                        "learn": [
                          0.03771137332
                        ],
                        "passed_time": 4488.519225,
                        "remaining_time": 554.7608031
                      },
                      {
                        "iteration": 890,
                        "learn": [
                          0.03768086424
                        ],
                        "passed_time": 4494.168491,
                        "remaining_time": 549.791656
                      },
                      {
                        "iteration": 891,
                        "learn": [
                          0.03766472731
                        ],
                        "passed_time": 4499.060985,
                        "remaining_time": 544.7293569
                      },
                      {
                        "iteration": 892,
                        "learn": [
                          0.03764082325
                        ],
                        "passed_time": 4503.478573,
                        "remaining_time": 539.6105345
                      },
                      {
                        "iteration": 893,
                        "learn": [
                          0.03762286672
                        ],
                        "passed_time": 4510.116091,
                        "remaining_time": 534.756494
                      },
                      {
                        "iteration": 894,
                        "learn": [
                          0.0375939307
                        ],
                        "passed_time": 4514.556436,
                        "remaining_time": 529.6406992
                      },
                      {
                        "iteration": 895,
                        "learn": [
                          0.03757236527
                        ],
                        "passed_time": 4519.202794,
                        "remaining_time": 524.5503243
                      },
                      {
                        "iteration": 896,
                        "learn": [
                          0.03754737118
                        ],
                        "passed_time": 4525.870871,
                        "remaining_time": 519.6930878
                      },
                      {
                        "iteration": 897,
                        "learn": [
                          0.03751233618
                        ],
                        "passed_time": 4530.638459,
                        "remaining_time": 514.6159497
                      },
                      {
                        "iteration": 898,
                        "learn": [
                          0.03748830667
                        ],
                        "passed_time": 4535.657689,
                        "remaining_time": 509.5677715
                      },
                      {
                        "iteration": 899,
                        "learn": [
                          0.03746821335
                        ],
                        "passed_time": 4540.620532,
                        "remaining_time": 504.5133924
                      },
                      {
                        "iteration": 900,
                        "learn": [
                          0.0374522451
                        ],
                        "passed_time": 4545.359518,
                        "remaining_time": 499.4346197
                      },
                      {
                        "iteration": 901,
                        "learn": [
                          0.03742239061
                        ],
                        "passed_time": 4551.189008,
                        "remaining_time": 494.4750807
                      },
                      {
                        "iteration": 902,
                        "learn": [
                          0.03739834811
                        ],
                        "passed_time": 4556.61256,
                        "remaining_time": 489.4700092
                      },
                      {
                        "iteration": 903,
                        "learn": [
                          0.03738529235
                        ],
                        "passed_time": 4560.98504,
                        "remaining_time": 484.3523936
                      },
                      {
                        "iteration": 904,
                        "learn": [
                          0.03735913039
                        ],
                        "passed_time": 4567.12375,
                        "remaining_time": 479.4218301
                      },
                      {
                        "iteration": 905,
                        "learn": [
                          0.03734464722
                        ],
                        "passed_time": 4571.12883,
                        "remaining_time": 474.2672297
                      },
                      {
                        "iteration": 906,
                        "learn": [
                          0.03732051678
                        ],
                        "passed_time": 4575.762208,
                        "remaining_time": 469.1795869
                      },
                      {
                        "iteration": 907,
                        "learn": [
                          0.03730323071
                        ],
                        "passed_time": 4581.979093,
                        "remaining_time": 464.2533883
                      },
                      {
                        "iteration": 908,
                        "learn": [
                          0.03729285675
                        ],
                        "passed_time": 4586.517122,
                        "remaining_time": 459.1562796
                      },
                      {
                        "iteration": 909,
                        "learn": [
                          0.03726145662
                        ],
                        "passed_time": 4591.235311,
                        "remaining_time": 454.0782175
                      },
                      {
                        "iteration": 910,
                        "learn": [
                          0.0372410014
                        ],
                        "passed_time": 4597.555064,
                        "remaining_time": 449.1574102
                      },
                      {
                        "iteration": 911,
                        "learn": [
                          0.03721796386
                        ],
                        "passed_time": 4602.264334,
                        "remaining_time": 444.0781375
                      },
                      {
                        "iteration": 912,
                        "learn": [
                          0.03719889713
                        ],
                        "passed_time": 4607.650742,
                        "remaining_time": 439.0641999
                      },
                      {
                        "iteration": 913,
                        "learn": [
                          0.03718014037
                        ],
                        "passed_time": 4613.479952,
                        "remaining_time": 434.0911114
                      },
                      {
                        "iteration": 914,
                        "learn": [
                          0.03714434265
                        ],
                        "passed_time": 4617.910303,
                        "remaining_time": 428.986203
                      },
                      {
                        "iteration": 915,
                        "learn": [
                          0.0371096984
                        ],
                        "passed_time": 4623.90849,
                        "remaining_time": 424.0265428
                      },
                      {
                        "iteration": 916,
                        "learn": [
                          0.03708097285
                        ],
                        "passed_time": 4629.083729,
                        "remaining_time": 418.9901303
                      },
                      {
                        "iteration": 917,
                        "learn": [
                          0.03706483734
                        ],
                        "passed_time": 4633.756871,
                        "remaining_time": 413.9085658
                      },
                      {
                        "iteration": 918,
                        "learn": [
                          0.03704571149
                        ],
                        "passed_time": 4639.96316,
                        "remaining_time": 408.9630207
                      },
                      {
                        "iteration": 919,
                        "learn": [
                          0.03703974808
                        ],
                        "passed_time": 4644.206765,
                        "remaining_time": 403.8440665
                      },
                      {
                        "iteration": 920,
                        "learn": [
                          0.03702655103
                        ],
                        "passed_time": 4648.449566,
                        "remaining_time": 398.7269443
                      },
                      {
                        "iteration": 921,
                        "learn": [
                          0.03701096486
                        ],
                        "passed_time": 4655.054418,
                        "remaining_time": 393.8115452
                      },
                      {
                        "iteration": 922,
                        "learn": [
                          0.03697071189
                        ],
                        "passed_time": 4659.744247,
                        "remaining_time": 388.732727
                      },
                      {
                        "iteration": 923,
                        "learn": [
                          0.03695735047
                        ],
                        "passed_time": 4663.881813,
                        "remaining_time": 383.6093266
                      },
                      {
                        "iteration": 924,
                        "learn": [
                          0.03693339016
                        ],
                        "passed_time": 4670.060791,
                        "remaining_time": 378.6535776
                      },
                      {
                        "iteration": 925,
                        "learn": [
                          0.03690718204
                        ],
                        "passed_time": 4674.595368,
                        "remaining_time": 373.5637767
                      },
                      {
                        "iteration": 926,
                        "learn": [
                          0.03689321216
                        ],
                        "passed_time": 4679.240492,
                        "remaining_time": 368.4838791
                      },
                      {
                        "iteration": 927,
                        "learn": [
                          0.03687128051
                        ],
                        "passed_time": 4685.359832,
                        "remaining_time": 363.5192973
                      },
                      {
                        "iteration": 928,
                        "learn": [
                          0.036837572
                        ],
                        "passed_time": 4690.11424,
                        "remaining_time": 358.4479129
                      },
                      {
                        "iteration": 929,
                        "learn": [
                          0.03681946263
                        ],
                        "passed_time": 4695.884589,
                        "remaining_time": 353.4536788
                      },
                      {
                        "iteration": 930,
                        "learn": [
                          0.03679490397
                        ],
                        "passed_time": 4700.954622,
                        "remaining_time": 348.4058742
                      },
                      {
                        "iteration": 931,
                        "learn": [
                          0.03678307232
                        ],
                        "passed_time": 4705.423158,
                        "remaining_time": 343.314136
                      },
                      {
                        "iteration": 932,
                        "learn": [
                          0.03676486491
                        ],
                        "passed_time": 4711.776344,
                        "remaining_time": 338.3590729
                      },
                      {
                        "iteration": 933,
                        "learn": [
                          0.03673395932
                        ],
                        "passed_time": 4716.480687,
                        "remaining_time": 333.2845025
                      },
                      {
                        "iteration": 934,
                        "learn": [
                          0.03672444324
                        ],
                        "passed_time": 4720.900273,
                        "remaining_time": 328.1909281
                      },
                      {
                        "iteration": 935,
                        "learn": [
                          0.03672059645
                        ],
                        "passed_time": 4726.850718,
                        "remaining_time": 323.2034679
                      },
                      {
                        "iteration": 936,
                        "learn": [
                          0.03669957169
                        ],
                        "passed_time": 4730.673609,
                        "remaining_time": 318.0709043
                      },
                      {
                        "iteration": 937,
                        "learn": [
                          0.03668140753
                        ],
                        "passed_time": 4735.162443,
                        "remaining_time": 312.9851508
                      },
                      {
                        "iteration": 938,
                        "learn": [
                          0.03665977866
                        ],
                        "passed_time": 4740.942383,
                        "remaining_time": 307.9845425
                      },
                      {
                        "iteration": 939,
                        "learn": [
                          0.03663121893
                        ],
                        "passed_time": 4745.222232,
                        "remaining_time": 302.8865254
                      },
                      {
                        "iteration": 940,
                        "learn": [
                          0.03660646128
                        ],
                        "passed_time": 4749.994799,
                        "remaining_time": 297.8211404
                      },
                      {
                        "iteration": 941,
                        "learn": [
                          0.03657774583
                        ],
                        "passed_time": 4756.154198,
                        "remaining_time": 292.8417659
                      },
                      {
                        "iteration": 942,
                        "learn": [
                          0.03655922122
                        ],
                        "passed_time": 4760.561455,
                        "remaining_time": 287.7539798
                      },
                      {
                        "iteration": 943,
                        "learn": [
                          0.03653912358
                        ],
                        "passed_time": 4765.106154,
                        "remaining_time": 282.6757888
                      },
                      {
                        "iteration": 944,
                        "learn": [
                          0.0365231957
                        ],
                        "passed_time": 4771.063877,
                        "remaining_time": 277.6809664
                      },
                      {
                        "iteration": 945,
                        "learn": [
                          0.03650233387
                        ],
                        "passed_time": 4775.124873,
                        "remaining_time": 272.5758384
                      },
                      {
                        "iteration": 946,
                        "learn": [
                          0.03648931411
                        ],
                        "passed_time": 4779.146087,
                        "remaining_time": 267.4706891
                      },
                      {
                        "iteration": 947,
                        "learn": [
                          0.03646579356
                        ],
                        "passed_time": 4785.680634,
                        "remaining_time": 262.5056888
                      },
                      {
                        "iteration": 948,
                        "learn": [
                          0.03643962005
                        ],
                        "passed_time": 4790.039074,
                        "remaining_time": 257.4204349
                      },
                      {
                        "iteration": 949,
                        "learn": [
                          0.03642315293
                        ],
                        "passed_time": 4795.926353,
                        "remaining_time": 252.4171765
                      },
                      {
                        "iteration": 950,
                        "learn": [
                          0.03640968481
                        ],
                        "passed_time": 4801.170711,
                        "remaining_time": 247.3789325
                      },
                      {
                        "iteration": 951,
                        "learn": [
                          0.0363875152
                        ],
                        "passed_time": 4806.105045,
                        "remaining_time": 242.3246241
                      },
                      {
                        "iteration": 952,
                        "learn": [
                          0.03636520001
                        ],
                        "passed_time": 4813.023961,
                        "remaining_time": 237.368443
                      },
                      {
                        "iteration": 953,
                        "learn": [
                          0.03634367207
                        ],
                        "passed_time": 4817.681382,
                        "remaining_time": 232.2991023
                      },
                      {
                        "iteration": 954,
                        "learn": [
                          0.03632676232
                        ],
                        "passed_time": 4822.237972,
                        "remaining_time": 227.225873
                      },
                      {
                        "iteration": 955,
                        "learn": [
                          0.03630279336
                        ],
                        "passed_time": 4828.398894,
                        "remaining_time": 222.2275641
                      },
                      {
                        "iteration": 956,
                        "learn": [
                          0.03627851875
                        ],
                        "passed_time": 4832.996879,
                        "remaining_time": 217.1565996
                      },
                      {
                        "iteration": 957,
                        "learn": [
                          0.03627224103
                        ],
                        "passed_time": 4836.685488,
                        "remaining_time": 212.0467542
                      },
                      {
                        "iteration": 958,
                        "learn": [
                          0.03626038632
                        ],
                        "passed_time": 4842.562362,
                        "remaining_time": 207.0334274
                      },
                      {
                        "iteration": 959,
                        "learn": [
                          0.0362524404
                        ],
                        "passed_time": 4846.414263,
                        "remaining_time": 201.9339276
                      },
                      {
                        "iteration": 960,
                        "learn": [
                          0.03623646062
                        ],
                        "passed_time": 4850.724642,
                        "remaining_time": 196.8556307
                      },
                      {
                        "iteration": 961,
                        "learn": [
                          0.03621941243
                        ],
                        "passed_time": 4856.764341,
                        "remaining_time": 191.8472401
                      },
                      {
                        "iteration": 962,
                        "learn": [
                          0.03620461783
                        ],
                        "passed_time": 4861.245106,
                        "remaining_time": 186.7768109
                      },
                      {
                        "iteration": 963,
                        "learn": [
                          0.03618392183
                        ],
                        "passed_time": 4866.11919,
                        "remaining_time": 181.7222934
                      },
                      {
                        "iteration": 964,
                        "learn": [
                          0.03616296342
                        ],
                        "passed_time": 4872.33753,
                        "remaining_time": 176.7169052
                      },
                      {
                        "iteration": 965,
                        "learn": [
                          0.03613702205
                        ],
                        "passed_time": 4876.692831,
                        "remaining_time": 171.643433
                      },
                      {
                        "iteration": 966,
                        "learn": [
                          0.03612076831
                        ],
                        "passed_time": 4881.834274,
                        "remaining_time": 166.5982741
                      },
                      {
                        "iteration": 967,
                        "learn": [
                          0.0360985281
                        ],
                        "passed_time": 4887.182346,
                        "remaining_time": 161.559747
                      },
                      {
                        "iteration": 968,
                        "learn": [
                          0.03608475287
                        ],
                        "passed_time": 4891.642017,
                        "remaining_time": 156.4921595
                      },
                      {
                        "iteration": 969,
                        "learn": [
                          0.03607202297
                        ],
                        "passed_time": 4896.655691,
                        "remaining_time": 151.4429595
                      },
                      {
                        "iteration": 970,
                        "learn": [
                          0.03605956125
                        ],
                        "passed_time": 4901.554819,
                        "remaining_time": 146.3904117
                      },
                      {
                        "iteration": 971,
                        "learn": [
                          0.0360310073
                        ],
                        "passed_time": 4906.151302,
                        "remaining_time": 141.3294614
                      },
                      {
                        "iteration": 972,
                        "learn": [
                          0.03602266921
                        ],
                        "passed_time": 4910.927143,
                        "remaining_time": 136.2744428
                      },
                      {
                        "iteration": 973,
                        "learn": [
                          0.03600296663
                        ],
                        "passed_time": 4916.311792,
                        "remaining_time": 131.2362491
                      },
                      {
                        "iteration": 974,
                        "learn": [
                          0.0359913801
                        ],
                        "passed_time": 4920.6945,
                        "remaining_time": 126.1716539
                      },
                      {
                        "iteration": 975,
                        "learn": [
                          0.03597199904
                        ],
                        "passed_time": 4927.010776,
                        "remaining_time": 121.1560027
                      },
                      {
                        "iteration": 976,
                        "learn": [
                          0.03596012558
                        ],
                        "passed_time": 4931.274928,
                        "remaining_time": 116.0893791
                      },
                      {
                        "iteration": 977,
                        "learn": [
                          0.03594811803
                        ],
                        "passed_time": 4935.400142,
                        "remaining_time": 111.0212711
                      },
                      {
                        "iteration": 978,
                        "learn": [
                          0.03593695539
                        ],
                        "passed_time": 4940.947114,
                        "remaining_time": 105.9855867
                      },
                      {
                        "iteration": 979,
                        "learn": [
                          0.03592202381
                        ],
                        "passed_time": 4945.046957,
                        "remaining_time": 100.9193257
                      },
                      {
                        "iteration": 980,
                        "learn": [
                          0.03589221257
                        ],
                        "passed_time": 4949.510219,
                        "remaining_time": 95.86207356
                      },
                      {
                        "iteration": 981,
                        "learn": [
                          0.03587023622
                        ],
                        "passed_time": 4955.658482,
                        "remaining_time": 90.83691718
                      },
                      {
                        "iteration": 982,
                        "learn": [
                          0.03584031828
                        ],
                        "passed_time": 4960.132872,
                        "remaining_time": 85.7805278
                      },
                      {
                        "iteration": 983,
                        "learn": [
                          0.03581234969
                        ],
                        "passed_time": 4964.293251,
                        "remaining_time": 80.72021547
                      },
                      {
                        "iteration": 984,
                        "learn": [
                          0.03580169025
                        ],
                        "passed_time": 4970.46036,
                        "remaining_time": 75.69228975
                      },
                      {
                        "iteration": 985,
                        "learn": [
                          0.035788783
                        ],
                        "passed_time": 4974.842762,
                        "remaining_time": 70.63671265
                      },
                      {
                        "iteration": 986,
                        "learn": [
                          0.03577068517
                        ],
                        "passed_time": 4979.06311,
                        "remaining_time": 65.58036518
                      },
                      {
                        "iteration": 987,
                        "learn": [
                          0.03575369034
                        ],
                        "passed_time": 4985.569375,
                        "remaining_time": 60.55347419
                      },
                      {
                        "iteration": 988,
                        "learn": [
                          0.03573704154
                        ],
                        "passed_time": 4990.275338,
                        "remaining_time": 55.50356796
                      },
                      {
                        "iteration": 989,
                        "learn": [
                          0.03572344943
                        ],
                        "passed_time": 4994.826852,
                        "remaining_time": 50.45279649
                      },
                      {
                        "iteration": 990,
                        "learn": [
                          0.0357032768
                        ],
                        "passed_time": 5000.552229,
                        "remaining_time": 45.4136933
                      },
                      {
                        "iteration": 991,
                        "learn": [
                          0.03567564128
                        ],
                        "passed_time": 5004.686708,
                        "remaining_time": 40.36037668
                      },
                      {
                        "iteration": 992,
                        "learn": [
                          0.0356547564
                        ],
                        "passed_time": 5008.896474,
                        "remaining_time": 35.30944141
                      },
                      {
                        "iteration": 993,
                        "learn": [
                          0.03564373362
                        ],
                        "passed_time": 5014.688566,
                        "remaining_time": 30.2697499
                      },
                      {
                        "iteration": 994,
                        "learn": [
                          0.03563056251
                        ],
                        "passed_time": 5019.279929,
                        "remaining_time": 25.2225122
                      },
                      {
                        "iteration": 995,
                        "learn": [
                          0.03561939122
                        ],
                        "passed_time": 5023.438734,
                        "remaining_time": 20.17445275
                      },
                      {
                        "iteration": 996,
                        "learn": [
                          0.03560467881
                        ],
                        "passed_time": 5029.469667,
                        "remaining_time": 15.13381043
                      },
                      {
                        "iteration": 997,
                        "learn": [
                          0.03559136929
                        ],
                        "passed_time": 5033.731288,
                        "remaining_time": 10.08763785
                      },
                      {
                        "iteration": 998,
                        "learn": [
                          0.0355785572
                        ],
                        "passed_time": 5038.63869,
                        "remaining_time": 5.043682373
                      },
                      {
                        "iteration": 999,
                        "learn": [
                          0.03555233179
                        ],
                        "passed_time": 5044.431082,
                        "remaining_time": 0
                      }
                    ],
                    "meta": {
                      "iteration_count": 1000,
                      "launch_mode": "Train",
                      "learn_metrics": [
                        {
                          "best_value": "Min",
                          "name": "Logloss"
                        }
                      ],
                      "learn_sets": [
                        "learn"
                      ],
                      "name": "experiment",
                      "parameters": "",
                      "test_metrics": [],
                      "test_sets": []
                    }
                  },
                  "passed_iterations": 999,
                  "total_iterations": 1000
                },
                "name": "catboost_info",
                "path": "catboost_info"
              }
            },
            "layout": "IPY_MODEL_39f32014b530482f8e1743277f70032b"
          }
        }
      }
    }
  },
  "nbformat": 4,
  "nbformat_minor": 0
}
